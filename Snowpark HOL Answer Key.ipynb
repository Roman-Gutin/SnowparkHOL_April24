{
 "cells": [
  {
   "cell_type": "markdown",
   "id": "71a51e0d-754d-4b45-9bbc-477b5fa3939d",
   "metadata": {},
   "source": [
    "\n",
    "# Part 1 - Data Engineering\n",
    "\n",
    "[Docs: Snowflake Python API](https://docs.snowflake.com/en/developer-guide/snowflake-python-api/snowflake-python-overview)"
   ]
  },
  {
   "cell_type": "code",
   "execution_count": 56,
   "id": "d1c20815-41e2-4218-b414-70d6060ee462",
   "metadata": {},
   "outputs": [],
   "source": [
    "from snowflake.snowpark.session import Session\n",
    "from snowflake.core import Root\n",
    "\n",
    "from snowflake.snowpark.version import VERSION\n",
    "import pandas as pd"
   ]
  },
  {
   "cell_type": "markdown",
   "id": "01cc6daa-b658-4345-9088-64dcfeceb2b8",
   "metadata": {},
   "source": [
    "## Make a connection to Snowflake via Snowpark"
   ]
  },
  {
   "cell_type": "code",
   "execution_count": 57,
   "id": "6ed6087b-7dc4-41dc-83dd-023d8cee0657",
   "metadata": {},
   "outputs": [
    {
     "name": "stdout",
     "output_type": "stream",
     "text": [
      "User                        : ADMIN\n",
      "Role                        : \"ACCOUNTADMIN\"\n",
      "Database                    : None\n",
      "Schema                      : None\n",
      "Warehouse                   : None\n",
      "Snowflake version           : 8.13.3\n",
      "Snowpark for Python version : 1.13.0\n"
     ]
    }
   ],
   "source": [
    "from config import connection_config \n",
    "\n",
    "\n",
    "session = Session.builder.configs(connection_config).create()\n",
    "\n",
    "root= Root(session)\n",
    "\n",
    "snowflake_environment = session.sql('select current_user(), current_version()').collect()\n",
    "snowpark_version = VERSION\n",
    "\n",
    "# Current Environment Details\n",
    "print('User                        : {}'.format(snowflake_environment[0][0]))\n",
    "print('Role                        : {}'.format(session.get_current_role()))\n",
    "print('Database                    : {}'.format(session.get_current_database()))\n",
    "print('Schema                      : {}'.format(session.get_current_schema()))\n",
    "print('Warehouse                   : {}'.format(session.get_current_warehouse()))\n",
    "print('Snowflake version           : {}'.format(snowflake_environment[0][1]))\n",
    "print('Snowpark for Python version : {}.{}.{}'.format(snowpark_version[0],snowpark_version[1],snowpark_version[2]))"
   ]
  },
  {
   "cell_type": "markdown",
   "id": "ee0febfe-5360-4c44-bc25-5394552c3653",
   "metadata": {},
   "source": [
    "### Challenge 1: Setup your environment with the SQL+Session and/or Root object\n",
    "\n",
    "Lets create a new database, schema and warehouse for our work. \n",
    "\n",
    "The Snowpark session is no different than a regular Snowflake connection for this.\n",
    " "
   ]
  },
  {
   "cell_type": "code",
   "execution_count": 58,
   "id": "3b697c1e-999e-410c-9bcd-0e2253866eca",
   "metadata": {},
   "outputs": [],
   "source": [
    "db_name = \"SNOWPARK_DB\"\n",
    "schema_name = \"HOL_SCHEMA\"\n",
    "wh_name = \"HOL_WH\"\n",
    "\n",
    "\n"
   ]
  },
  {
   "cell_type": "code",
   "execution_count": 59,
   "id": "06245d60-2a4e-4157-bf94-fd63098610f1",
   "metadata": {},
   "outputs": [
    {
     "data": {
      "text/plain": [
       "[Row(status='Statement executed successfully.')]"
      ]
     },
     "execution_count": 59,
     "metadata": {},
     "output_type": "execute_result"
    }
   ],
   "source": [
    "session.sql(f'CREATE OR REPLACE DATABASE {db_name}').collect()\n",
    "session.sql(f'CREATE OR REPLACE SCHEMA {schema_name}').collect()\n",
    "session.sql(f'CREATE OR REPLACE WAREHOUSE {wh_name}').collect()\n",
    "session.sql(f'USE DATABASE {db_name}').collect()\n",
    "session.sql(f'USE SCHEMA {schema_name}').collect()\n",
    "session.sql(f'USE WAREHOUSE {wh_name}').collect()"
   ]
  },
  {
   "cell_type": "code",
   "execution_count": 60,
   "id": "9db45812-5d40-4aea-913f-b9839e91852c",
   "metadata": {},
   "outputs": [
    {
     "data": {
      "text/plain": [
       "'\"SNOWPARK_DB\"'"
      ]
     },
     "execution_count": 60,
     "metadata": {},
     "output_type": "execute_result"
    }
   ],
   "source": [
    "#check your session context\n",
    "session.get_current_database()"
   ]
  },
  {
   "cell_type": "markdown",
   "id": "17ea6906-ac6d-4264-8278-a0e83fdf4b1a",
   "metadata": {},
   "source": [
    "#### The Snowflake Core Python libary lets you do the same steps with no SQL and in an Object-oriented manner\n",
    "\n",
    "[Docs: Manage Databases with Python](https://docs.snowflake.com/en/developer-guide/snowflake-python-api/snowflake-python-managing-databases)"
   ]
  },
  {
   "cell_type": "code",
   "execution_count": 61,
   "id": "967a931a-6f41-4a40-b6ed-f57c4ccee979",
   "metadata": {},
   "outputs": [],
   "source": [
    "from snowflake.core.database import Database\n",
    "from snowflake.core.schema import Schema \n",
    "from snowflake.core.warehouse import Warehouse\n",
    "\n",
    "#Use the Python API to create the same objects as above\n",
    "my_db = Database(name=db_name)\n",
    "db_res = root.databases.create(my_db, mode = 'orreplace')"
   ]
  },
  {
   "cell_type": "code",
   "execution_count": 62,
   "id": "59b2df09-cc06-4f8e-9e4b-02c1a39843fd",
   "metadata": {},
   "outputs": [],
   "source": [
    "#Create a Schema. Hint: Schemas fall under databases \n",
    "my_schema = Schema(schema_name)\n",
    "schema_res = root.databases[db_name].schemas.create(my_schema, mode='orreplace')"
   ]
  },
  {
   "cell_type": "markdown",
   "id": "f6fb9220-b5b2-4351-9aae-65b072b420c3",
   "metadata": {},
   "source": [
    "### Challenge 2: To connect Snowflake to external cloud storage, like S3, you need to create a Stage.\n",
    "\n",
    "At the moment, **anything besides Databases, Schemas, Tables, Tasks, and Warehouse(compute pools) are SQL-only** until the Python API GA later this year.\n",
    "\n",
    "[Create a Stage SQL](https://docs.snowflake.com/en/sql-reference/sql/create-storage-integration#examples)"
   ]
  },
  {
   "cell_type": "code",
   "execution_count": 63,
   "id": "77710325-c891-4f09-8897-42b40ee2f222",
   "metadata": {},
   "outputs": [],
   "source": [
    "\n",
    "stage_info = {\n",
    "    'campaign_data_stage': 's3://sfquickstarts/ad-spend-roi-snowpark-python-scikit-learn-streamlit/campaign_spend/' ,\n",
    "    'monthly_revenue_data_stage': 's3://sfquickstarts/ad-spend-roi-snowpark-python-scikit-learn-streamlit/monthly_revenue/'\n",
    "}\n",
    "\n",
    "\n",
    "#Write a function below to create a stage using the Session objects SQL cursor()\n",
    "def create_stage(name,url):\n",
    "    return session.sql(f\"\"\"create or replace stage {name} url ={url}\"\"\").collect()\n",
    "\n"
   ]
  },
  {
   "cell_type": "code",
   "execution_count": 64,
   "id": "7af77a4c-198c-4426-8966-2a90135c5792",
   "metadata": {},
   "outputs": [
    {
     "name": "stdout",
     "output_type": "stream",
     "text": [
      "campaign_data_stage\n",
      "s3://sfquickstarts/ad-spend-roi-snowpark-python-scikit-learn-streamlit/campaign_spend/\n",
      "[Row(status='Stage area CAMPAIGN_DATA_STAGE successfully created.')]\n",
      "monthly_revenue_data_stage\n",
      "s3://sfquickstarts/ad-spend-roi-snowpark-python-scikit-learn-streamlit/monthly_revenue/\n",
      "[Row(status='Stage area MONTHLY_REVENUE_DATA_STAGE successfully created.')]\n"
     ]
    }
   ],
   "source": [
    "#Run your function for all data sources\n",
    "for name, url in stage_info.items():\n",
    "    print(name)\n",
    "    print(url)\n",
    "    print(create_stage(name,url))"
   ]
  },
  {
   "cell_type": "markdown",
   "id": "095d5bd3-6ee6-4198-92cd-46de5cf8b6ac",
   "metadata": {},
   "source": [
    "## Lets take a look at whats in the S3 bucket"
   ]
  },
  {
   "cell_type": "code",
   "execution_count": 65,
   "id": "5ef93474-93b4-42cc-8334-5062b24a1f86",
   "metadata": {},
   "outputs": [
    {
     "name": "stdout",
     "output_type": "stream",
     "text": [
      "[Row(name='s3://sfquickstarts/ad-spend-roi-snowpark-python-scikit-learn-streamlit/campaign_spend/campaign_spend.csv', size=13684943, md5='1d87f70421662a7666d3918b16b81daa', last_modified='Tue, 14 Feb 2023 21:11:11 GMT')]\n",
      "[Row(name='s3://sfquickstarts/ad-spend-roi-snowpark-python-scikit-learn-streamlit/monthly_revenue/monthly_revenue.csv', size=2227, md5='64f1607c7838ef77b88b6a2b738aebab', last_modified='Tue, 14 Feb 2023 21:11:14 GMT')]\n"
     ]
    }
   ],
   "source": [
    "#Use the list command to check out the files in your stage!\n",
    "camp_stage = '@campaign_data_stage'\n",
    "rev_stage = '@monthly_revenue_data_stage'\n",
    "print(session.sql(f'list {camp_stage}').collect())\n",
    "print(session.sql(f'list {rev_stage}').collect())"
   ]
  },
  {
   "cell_type": "markdown",
   "id": "f23a32db-d27c-432b-b5f3-df217010298a",
   "metadata": {},
   "source": [
    "### Challenge 3: Time for our first Snowpark Dataframe! \n",
    "\n",
    "Snowpark is capabable of loading staged files to a dataframe using the DataFrameReader. This reader takes options similar to a SQL COPY command.\n",
    "\n",
    "[Docs: Snowpark DataframeReader](https://docs.snowflake.com/ko/developer-guide/snowpark/reference/python/latest/api/snowflake.snowpark.DataFrameReader)"
   ]
  },
  {
   "cell_type": "code",
   "execution_count": 66,
   "id": "afcda7ad-edfe-4704-86cb-1884c094a00b",
   "metadata": {},
   "outputs": [
    {
     "name": "stdout",
     "output_type": "stream",
     "text": [
      "---------------------------------\n",
      "|\"YEAR\"  |\"MONTH\"  |\"REVENUE\"   |\n",
      "---------------------------------\n",
      "|2012    |5        |3264300.11  |\n",
      "|2012    |6        |3208482.33  |\n",
      "|2012    |7        |3311966.98  |\n",
      "|2012    |8        |3311752.81  |\n",
      "|2012    |9        |3208563.06  |\n",
      "|2012    |10       |3334028.46  |\n",
      "|2012    |11       |3185894.64  |\n",
      "|2012    |12       |3334570.96  |\n",
      "|2013    |1        |3316455.44  |\n",
      "|2013    |2        |2995042.21  |\n",
      "---------------------------------\n",
      "\n"
     ]
    }
   ],
   "source": [
    "#Read the monthly revenue data to a DataFrame and show it\n",
    "\n",
    "revenue_data = session.read.options(\n",
    "        {'infer_schema':True,\n",
    "        'parse_header':True}).csv('@monthly_revenue_data_stage')\n",
    "\n",
    "revenue_data.show()"
   ]
  },
  {
   "cell_type": "code",
   "execution_count": 67,
   "id": "f4abb532-581a-4053-9fa8-8d9bc0e79dea",
   "metadata": {},
   "outputs": [
    {
     "name": "stdout",
     "output_type": "stream",
     "text": [
      "------------------------------------------------------------------------------------------------------\n",
      "|\"CAMPAIGN\"              |\"CHANNEL\"      |\"DATE\"      |\"TOTAL_CLICKS\"  |\"TOTAL_COST\"  |\"ADS_SERVED\"  |\n",
      "------------------------------------------------------------------------------------------------------\n",
      "|winter_sports           |video          |2012-06-03  |213             |1762          |426           |\n",
      "|sports_across_cultures  |video          |2012-06-02  |87              |678           |157           |\n",
      "|building_community      |search_engine  |2012-06-03  |66              |471           |134           |\n",
      "|world_series            |social_media   |2017-12-28  |72              |591           |149           |\n",
      "|winter_sports           |email          |2018-02-09  |252             |1841          |473           |\n",
      "|spring_break            |video          |2017-11-14  |162             |1155          |304           |\n",
      "|nba_finals              |email          |2017-11-22  |68              |480           |134           |\n",
      "|winter_sports           |social_media   |2018-03-10  |227             |1797          |454           |\n",
      "|spring_break            |search_engine  |2017-08-30  |150             |1226          |302           |\n",
      "|uefa                    |video          |2017-09-30  |81              |701           |168           |\n",
      "------------------------------------------------------------------------------------------------------\n",
      "\n"
     ]
    }
   ],
   "source": [
    "#read the campaign spend data to a DataFrame\n",
    "\n",
    "campaign_data = session.read.options(\n",
    "    {'infer_schema':True,\n",
    "    'parse_header':True}).csv('@campaign_data_stage')\n",
    "\n",
    "campaign_data.show()\n",
    "#campaign_data.show()"
   ]
  },
  {
   "cell_type": "markdown",
   "id": "cdcbed23-5647-4dbd-b120-8f379e68e1c3",
   "metadata": {},
   "source": [
    "### Challenge 4: In reality, we need a Pivot Table to break out different marketing channels"
   ]
  },
  {
   "cell_type": "code",
   "execution_count": 68,
   "id": "acb9e37d-d315-49e1-a704-43c9238e9559",
   "metadata": {},
   "outputs": [
    {
     "data": {
      "text/plain": [
       "['video', 'search_engine', 'social_media', 'email']"
      ]
     },
     "execution_count": 68,
     "metadata": {},
     "output_type": "execute_result"
    }
   ],
   "source": [
    "#get your pivot list without hardcoding\n",
    "\n",
    "pivot_list = list(campaign_data.select('channel').distinct().to_pandas().iloc[:,0])\n",
    "pivot_list"
   ]
  },
  {
   "cell_type": "code",
   "execution_count": 69,
   "id": "81e50c92-63a8-4abe-a8cc-b1df7df3d7c3",
   "metadata": {},
   "outputs": [
    {
     "data": {
      "text/plain": [
       "['video', 'search_engine', 'social_media', 'email']"
      ]
     },
     "execution_count": 69,
     "metadata": {},
     "output_type": "execute_result"
    }
   ],
   "source": [
    "pivot_list"
   ]
  },
  {
   "cell_type": "markdown",
   "id": "b1ef1a46-6a06-4fbd-b469-55c77f3623c6",
   "metadata": {},
   "source": [
    "#### Lets leverage some handy snowpark functions to perform our aggregate and clean up column definitions post agg\n",
    "\n",
    "[Docs: Snowpark Dataframe Agg](https://docs.snowflake.com/en/developer-guide/snowpark/reference/python/1.7.0/api/snowflake.snowpark.DataFrame.agg)\n",
    "\n",
    "[Docs: DataFrame Pivot](https://docs.snowflake.com/en/developer-guide/snowpark/reference/python/latest/api/snowflake.snowpark.DataFrame.pivot) "
   ]
  },
  {
   "cell_type": "code",
   "execution_count": 70,
   "id": "ddb6808f-48e5-464a-a4db-21e8cd4aa45f",
   "metadata": {},
   "outputs": [
    {
     "name": "stdout",
     "output_type": "stream",
     "text": [
      "---------------------------------------------------------------\n",
      "|\"YEAR(DATE)\"  |\"MONTH(DATE)\"  |\"CHANNEL\"      |\"TOTAL_COST\"  |\n",
      "---------------------------------------------------------------\n",
      "|2012          |6              |video          |501098        |\n",
      "|2012          |6              |search_engine  |506497        |\n",
      "|2017          |12             |social_media   |520194        |\n",
      "|2018          |2              |email          |467531        |\n",
      "|2017          |11             |video          |504099        |\n",
      "|2017          |11             |email          |501490        |\n",
      "|2018          |3              |social_media   |518499        |\n",
      "|2017          |8              |search_engine  |520207        |\n",
      "|2017          |9              |video          |504050        |\n",
      "|2017          |10             |search_engine  |521769        |\n",
      "---------------------------------------------------------------\n",
      "\n"
     ]
    }
   ],
   "source": [
    "from snowflake.snowpark.functions import month,year,col, sum\n",
    "\n",
    "\n",
    "#Aggregate total cost by year, month, and channel\n",
    "spend_per_month = campaign_data.group_by(year('DATE'), month('DATE'), 'CHANNEL').agg(sum('TOTAL_COST').as_('TOTAL_COST'))\n",
    "spend_per_month.show()"
   ]
  },
  {
   "cell_type": "markdown",
   "id": "fd62ed59-4515-4a19-a92d-f49414906861",
   "metadata": {},
   "source": [
    "##### We need to rename the columns"
   ]
  },
  {
   "cell_type": "code",
   "execution_count": 71,
   "id": "72b4c21b-6b7b-42fc-8096-b6e2ba91e375",
   "metadata": {},
   "outputs": [
    {
     "name": "stdout",
     "output_type": "stream",
     "text": [
      "---------------------------------------------------\n",
      "|\"YEAR\"  |\"MONTH\"  |\"CHANNEL\"      |\"TOTAL_COST\"  |\n",
      "---------------------------------------------------\n",
      "|2012    |5        |search_engine  |516431        |\n",
      "|2012    |5        |video          |516729        |\n",
      "|2012    |5        |email          |517208        |\n",
      "|2012    |5        |social_media   |517618        |\n",
      "|2012    |6        |video          |501098        |\n",
      "|2012    |6        |search_engine  |506497        |\n",
      "|2012    |6        |social_media   |504679        |\n",
      "|2012    |6        |email          |501947        |\n",
      "|2012    |7        |search_engine  |522780        |\n",
      "|2012    |7        |email          |518405        |\n",
      "---------------------------------------------------\n",
      "\n"
     ]
    }
   ],
   "source": [
    "spend_per_month= spend_per_month.with_column_renamed('\"YEAR(DATE)\"',\"YEAR\").\\\n",
    "                with_column_renamed('\"MONTH(DATE)\"',\"MONTH\").sort('YEAR','MONTH')\n",
    "\n",
    "spend_per_month.show()"
   ]
  },
  {
   "cell_type": "code",
   "execution_count": 72,
   "id": "289b6e64-586d-469f-9fe8-5a8cf98a0e3b",
   "metadata": {},
   "outputs": [
    {
     "name": "stdout",
     "output_type": "stream",
     "text": [
      "-----------------------------------------------------------------------------------\n",
      "|\"YEAR\"  |\"MONTH\"  |\"'video'\"  |\"'search_engine'\"  |\"'social_media'\"  |\"'email'\"  |\n",
      "-----------------------------------------------------------------------------------\n",
      "|2012    |5        |516729     |516431             |517618            |517208     |\n",
      "|2012    |6        |501098     |506497             |504679            |501947     |\n",
      "|2012    |7        |522762     |522780             |521395            |518405     |\n",
      "|2012    |8        |520685     |519959             |520537            |521584     |\n",
      "|2012    |9        |511364     |507211             |507404            |507363     |\n",
      "|2012    |10       |522768     |518942             |520863            |519950     |\n",
      "|2012    |11       |505292     |505715             |505221            |503748     |\n",
      "|2012    |12       |521427     |520148             |520711            |520724     |\n",
      "|2013    |1        |520583     |522151             |518635            |521167     |\n",
      "|2013    |2        |469856     |467736             |474679            |469784     |\n",
      "-----------------------------------------------------------------------------------\n",
      "\n"
     ]
    }
   ],
   "source": [
    "spend_per_channel = spend_per_month.pivot('CHANNEL', pivot_list).sum('TOTAL_COST').sort('YEAR','MONTH')\n",
    "spend_per_channel.show()"
   ]
  },
  {
   "cell_type": "code",
   "execution_count": 73,
   "id": "3fc4f6be-2a93-4877-8a14-5b4ad3efa2cc",
   "metadata": {},
   "outputs": [
    {
     "name": "stdout",
     "output_type": "stream",
     "text": [
      "----------------------------------------------------------------------------------------\n",
      "|\"YEAR\"  |\"MONTH\"  |\"SEARCH_ENGINE\"  |\"SOCIAL_MEDIA\"  |\"VIDEO\"  |\"EMAIL\"  |\"REVENUE\"   |\n",
      "----------------------------------------------------------------------------------------\n",
      "|2012    |5        |516431           |517618          |516729   |517208   |3264300.11  |\n",
      "|2012    |6        |506497           |504679          |501098   |501947   |3208482.33  |\n",
      "|2012    |7        |522780           |521395          |522762   |518405   |3311966.98  |\n",
      "|2012    |8        |519959           |520537          |520685   |521584   |3311752.81  |\n",
      "|2012    |9        |507211           |507404          |511364   |507363   |3208563.06  |\n",
      "|2012    |10       |518942           |520863          |522768   |519950   |3334028.46  |\n",
      "|2012    |11       |505715           |505221          |505292   |503748   |3185894.64  |\n",
      "|2012    |12       |520148           |520711          |521427   |520724   |3334570.96  |\n",
      "|2013    |1        |522151           |518635          |520583   |521167   |3316455.44  |\n",
      "|2013    |2        |467736           |474679          |469856   |469784   |2995042.21  |\n",
      "----------------------------------------------------------------------------------------\n",
      "\n"
     ]
    }
   ],
   "source": [
    "#Use a quick select statement to clean up column names and join in the revenue_data\n",
    "\n",
    "spend_revenue = spend_per_channel.select(\n",
    "    col(\"YEAR\"),\n",
    "    col(\"MONTH\"),\n",
    "    col(\"'search_engine'\").as_(\"SEARCH_ENGINE\"),\n",
    "    col(\"'social_media'\").as_(\"SOCIAL_MEDIA\"),\n",
    "    col(\"'video'\").as_(\"VIDEO\"),\n",
    "    col(\"'email'\").as_(\"EMAIL\")\n",
    ").join(\n",
    "    revenue_data, ['YEAR','MONTH']\n",
    ")\n",
    "\n",
    "\n",
    "\n",
    "spend_revenue.show()"
   ]
  },
  {
   "cell_type": "markdown",
   "id": "46d272ca-19a4-4649-84f4-ad289bc4db33",
   "metadata": {},
   "source": [
    "### Automation: Run Campaign Spend Data Transformations As a Snowflake Task\n",
    "\n",
    "[Doc: Python Stored Procedure](https://docs.snowflake.com/en/developer-guide/stored-procedure/stored-procedures-overview)\n",
    "[Medium Article: Python Sproc vs UDF](https://medium.com/snowflake/lets-talk-about-some-better-practices-with-snowpark-python-python-udfs-and-stored-procs-903314944402)"
   ]
  },
  {
   "cell_type": "code",
   "execution_count": 74,
   "id": "21786df9-a447-45d3-bae7-877ba3afe3a0",
   "metadata": {},
   "outputs": [],
   "source": [
    "\n",
    "session.use_warehouse(wh_name)\n",
    "session.add_packages('snowflake-snowpark-python')\n",
    "\n",
    "def campaign_spend_data_pipeline(session: Session) -> bool:\n",
    "    \n",
    "    #Load data from stage\n",
    "    campaign_spend_data = session.read.options(\n",
    "        {\n",
    "        'infer_schema':True,\n",
    "        'parse_header':True}).csv('@campaign_data_stage')\n",
    "\n",
    "\n",
    "    revenue_data = session.read.options(\n",
    "        {\n",
    "        'infer_schema':True,\n",
    "        'parse_header':True}).csv('@monthly_revenue_data_stage')\n",
    "    \n",
    "    # Dynamically get list of channels to pivot\n",
    "    channel_pivot_list = list(campaign_spend_data.select('channel').distinct().to_pandas().loc[:,'CHANNEL'])\n",
    "\n",
    "    #Get Aggregate\n",
    "    spend_per_month = campaign_spend_data.group_by(\n",
    "        year('DATE'),\n",
    "        month('DATE'),\n",
    "        'CHANNEL').agg(\n",
    "                    sum('TOTAL_COST').as_('TOTAL_COST')).\\\n",
    "                                        with_column_renamed('\"YEAR(DATE)\"',\"YEAR\").\\\n",
    "                                        with_column_renamed('\"MONTH(DATE)\"',\"MONTH\").sort('YEAR','MONTH')\n",
    "\n",
    "\n",
    "    spend_per_channel = spend_per_month.pivot('CHANNEL', channel_pivot_list).sum('TOTAL_COST').sort('YEAR','MONTH').\\\n",
    "                                        select(\n",
    "                                            col(\"YEAR\"),\n",
    "                                            col(\"MONTH\"),\n",
    "                                            col(\"'search_engine'\").as_(\"SEARCH_ENGINE\"),\n",
    "                                            col(\"'social_media'\").as_(\"SOCIAL_MEDIA\"),\n",
    "                                            col(\"'video'\").as_(\"VIDEO\"),\n",
    "                                            col(\"'email'\").as_(\"EMAIL\")\n",
    "                                        )\n",
    "\n",
    "\n",
    "    \n",
    "    spend_and_revenue = spend_per_channel.join(revenue_data, ['YEAR' ,'MONTH'])\n",
    "    #write to snowflake\n",
    "    spend_and_revenue.write.mode('append').save_as_table('SPEND_AND_REVENUE_PER_MONTH')\n",
    "\n",
    "    return True"
   ]
  },
  {
   "cell_type": "markdown",
   "id": "af026964-c32b-441a-9b5f-c0b1a23d411a",
   "metadata": {},
   "source": [
    "[Docs: Python API - Tasks](https://docs.snowflake.com/en/developer-guide/snowflake-python-api/snowflake-python-managing-tasks) \n"
   ]
  },
  {
   "cell_type": "code",
   "execution_count": 75,
   "id": "3900ccf3-f5f6-4237-ac7f-891c0b2ffbea",
   "metadata": {},
   "outputs": [
    {
     "data": {
      "text/plain": [
       "[Row(status='Task MY_TASK successfully created.')]"
      ]
     },
     "execution_count": 75,
     "metadata": {},
     "output_type": "execute_result"
    }
   ],
   "source": [
    "session.use_database(db_name)\n",
    "session.use_schema(schema_name)\n",
    "session.sproc.register(campaign_spend_data_pipeline, name='campaign_spend_sproc', replace = True)\n",
    "session.sql(\"create or replace task my_task as call campaign_spend_sproc();\").collect()"
   ]
  },
  {
   "cell_type": "code",
   "execution_count": 76,
   "id": "97a2d366-e9b2-4164-81e2-67080034bafa",
   "metadata": {},
   "outputs": [],
   "source": [
    "# Create  Stored Procedure and Task from my python function\n",
    "\n",
    "from snowflake.core.task import Task, StoredProcedureCall, Cron\n",
    "from datetime import timedelta\n",
    "\n",
    "#create a repo called snowpark_stage\n",
    "session.sql('create or replace stage snowpark_stage').collect()\n",
    "\n",
    "#Define your Task \n",
    "run_campaign_task_d =  Task('campaign_spend_pipeline', \n",
    "                          StoredProcedureCall(campaign_spend_data_pipeline, \n",
    "                                              stage_location='@snowpark_stage',\n",
    "                                              packages=[\"snowflake-snowpark-python\"]\n",
    "                                             ) ,\n",
    "                           schedule= Cron('0 0 2 * *', timezone = 'UTC'),\n",
    "                           warehouse= wh_name\n",
    "                                             )\n"
   ]
  },
  {
   "cell_type": "code",
   "execution_count": 77,
   "id": "f3f0c214-66fd-4647-a4d1-0890f4bb69ba",
   "metadata": {},
   "outputs": [],
   "source": [
    "load_compaign_spend = root.databases[db_name].schemas[schema_name].tasks.create(run_campaign_task_d, mode='orreplace')\n",
    "\n"
   ]
  },
  {
   "cell_type": "code",
   "execution_count": 78,
   "id": "f1026f1a-086b-4b0b-b8f8-00b4e15cb1b5",
   "metadata": {},
   "outputs": [],
   "source": [
    "load_compaign_spend.execute()"
   ]
  },
  {
   "cell_type": "markdown",
   "id": "e33d0e56-ff14-4162-9a1f-ff00b0f96342",
   "metadata": {},
   "source": [
    "#### Final Checkpoint for Part 1. Do you have a clean table ready for ML training that looks like the below?"
   ]
  },
  {
   "cell_type": "code",
   "execution_count": 82,
   "id": "6966417b-187c-400b-a517-f7211b67c9f2",
   "metadata": {},
   "outputs": [
    {
     "name": "stdout",
     "output_type": "stream",
     "text": [
      "----------------------------------------------------------------------------------------\n",
      "|\"YEAR\"  |\"MONTH\"  |\"SEARCH_ENGINE\"  |\"SOCIAL_MEDIA\"  |\"VIDEO\"  |\"EMAIL\"  |\"REVENUE\"   |\n",
      "----------------------------------------------------------------------------------------\n",
      "|2012    |5        |516431           |517618          |516729   |517208   |3264300.11  |\n",
      "|2012    |6        |506497           |504679          |501098   |501947   |3208482.33  |\n",
      "|2012    |7        |522780           |521395          |522762   |518405   |3311966.98  |\n",
      "|2012    |8        |519959           |520537          |520685   |521584   |3311752.81  |\n",
      "|2012    |9        |507211           |507404          |511364   |507363   |3208563.06  |\n",
      "|2012    |10       |518942           |520863          |522768   |519950   |3334028.46  |\n",
      "|2012    |11       |505715           |505221          |505292   |503748   |3185894.64  |\n",
      "|2012    |12       |520148           |520711          |521427   |520724   |3334570.96  |\n",
      "|2013    |1        |522151           |518635          |520583   |521167   |3316455.44  |\n",
      "|2013    |2        |467736           |474679          |469856   |469784   |2995042.21  |\n",
      "----------------------------------------------------------------------------------------\n",
      "\n"
     ]
    }
   ],
   "source": [
    "snow_df_spend_and_revenue_per_month = session.table('SPEND_AND_REVENUE_PER_MONTH')\n",
    "snow_df_spend_and_revenue_per_month.show()"
   ]
  },
  {
   "cell_type": "markdown",
   "id": "507807a1-e5af-4f2e-93b6-03a81fa382e8",
   "metadata": {},
   "source": [
    "# Part 2 - Data Science and MLOps with Snowpark ML\n"
   ]
  },
  {
   "cell_type": "code",
   "execution_count": 83,
   "id": "d69d8feb-8f8d-4104-a8d0-e3a40f25d925",
   "metadata": {},
   "outputs": [],
   "source": [
    "from snowflake.ml.modeling.compose import ColumnTransformer\n",
    "from snowflake.ml.modeling.pipeline import Pipeline\n",
    "from snowflake.ml.modeling.preprocessing import PolynomialFeatures, StandardScaler\n",
    "from snowflake.ml.modeling.linear_model import LinearRegression\n",
    "from snowflake.ml.modeling.model_selection import GridSearchCV\n",
    "from snowflake.ml.registry import Registry\n",
    "\n"
   ]
  },
  {
   "cell_type": "markdown",
   "id": "68950ef6-e68c-4abe-99f6-9b7e86f9bf99",
   "metadata": {},
   "source": [
    "[Docs: Snowpark ML: Modeling](https://docs.snowflake.com/en/developer-guide/snowpark-ml/snowpark-ml-modeling)"
   ]
  },
  {
   "cell_type": "markdown",
   "id": "728a2330-7f44-400a-8a9b-7150da6bbc78",
   "metadata": {},
   "source": [
    "### Preprocess your table to get to a Feature table."
   ]
  },
  {
   "cell_type": "markdown",
   "id": "e5760c7a-5f7b-4a7b-a302-130b65c5d3a1",
   "metadata": {},
   "source": [
    "##### Quick Cleaning"
   ]
  },
  {
   "cell_type": "code",
   "execution_count": 84,
   "id": "f5da9f05-69bd-4ceb-9547-b94863be13f0",
   "metadata": {},
   "outputs": [],
   "source": [
    "snow_df_spend_and_revenue_per_month = session.table('spend_and_revenue_per_month')\n",
    "\n",
    "# Delete rows with missing values\n",
    "snow_df_spend_and_revenue_per_month = snow_df_spend_and_revenue_per_month.dropna()\n",
    "\n",
    "# Exclude columns we don't need for modeling\n",
    "snow_df_spend_and_revenue_per_month = snow_df_spend_and_revenue_per_month.drop(['YEAR','MONTH'])\n",
    "\n",
    "# Save features into a Snowflake table call MARKETING_BUDGETS_FEATURES\n",
    "snow_df_spend_and_revenue_per_month.write.mode('overwrite').save_as_table('MARKETING_BUDGETS_FEATURES')"
   ]
  },
  {
   "cell_type": "code",
   "execution_count": 85,
   "id": "f271498c-cd8c-49d9-ae45-60f85da05d82",
   "metadata": {},
   "outputs": [
    {
     "name": "stdout",
     "output_type": "stream",
     "text": [
      "---------------------------------------------------------------------\n",
      "|\"SEARCH_ENGINE\"  |\"SOCIAL_MEDIA\"  |\"VIDEO\"  |\"EMAIL\"  |\"REVENUE\"   |\n",
      "---------------------------------------------------------------------\n",
      "|516431           |517618          |516729   |517208   |3264300.11  |\n",
      "|506497           |504679          |501098   |501947   |3208482.33  |\n",
      "|522780           |521395          |522762   |518405   |3311966.98  |\n",
      "|519959           |520537          |520685   |521584   |3311752.81  |\n",
      "|507211           |507404          |511364   |507363   |3208563.06  |\n",
      "|518942           |520863          |522768   |519950   |3334028.46  |\n",
      "|505715           |505221          |505292   |503748   |3185894.64  |\n",
      "|520148           |520711          |521427   |520724   |3334570.96  |\n",
      "|522151           |518635          |520583   |521167   |3316455.44  |\n",
      "|467736           |474679          |469856   |469784   |2995042.21  |\n",
      "---------------------------------------------------------------------\n",
      "\n"
     ]
    }
   ],
   "source": [
    "session.table(\"MARKETING_BUDGETS_FEATURES\").show()"
   ]
  },
  {
   "cell_type": "markdown",
   "id": "dedb28f7-fdd7-4801-a3e2-7664402f7d24",
   "metadata": {},
   "source": [
    "##### Feature Preprocessing\n",
    "[Docs: Snowpark ML - Preprocessing + Grid Search](https://docs.snowflake.com/en/developer-guide/snowpark-ml/snowpark-ml-modeling)"
   ]
  },
  {
   "cell_type": "code",
   "execution_count": 87,
   "id": "8050a297-ecc7-46c1-97b3-b1d2ae196d18",
   "metadata": {},
   "outputs": [
    {
     "name": "stderr",
     "output_type": "stream",
     "text": [
      "/Users/rgutin/opt/anaconda3/envs/snowpark-de-ml/lib/python3.11/site-packages/snowflake/ml/_internal/utils/snowpark_dataframe_utils.py:88: UserWarning: Warning: The Decimal(9, 2) data type is being automatically converted to DoubleType in the Snowpark DataFrame. This automatic conversion may lead to potential precision loss and rounding errors. If you wish to prevent this conversion, you should manually perform the necessary data type conversion.\n",
      "  warnings.warn(\n",
      "/Users/rgutin/opt/anaconda3/envs/snowpark-de-ml/lib/python3.11/site-packages/snowflake/ml/_internal/utils/snowpark_dataframe_utils.py:88: UserWarning: Warning: The Decimal(9, 2) data type is being automatically converted to DoubleType in the Snowpark DataFrame. This automatic conversion may lead to potential precision loss and rounding errors. If you wish to prevent this conversion, you should manually perform the necessary data type conversion.\n",
      "  warnings.warn(\n"
     ]
    },
    {
     "name": "stdout",
     "output_type": "stream",
     "text": [
      "R2 score on Train : 0.9951076702244089\n",
      "R2 score on Test  : 0.9069318156071831\n"
     ]
    }
   ],
   "source": [
    "CROSS_VALIDATION_FOLDS = 10\n",
    "POLYNOMIAL_FEATURES_DEGREE = 2\n",
    "\n",
    "#Create a larger warehouse for model training\n",
    "root.warehouses.create(Warehouse('ML_WH',size='MEDIUM'), mode='orreplace')\n",
    "\n",
    "# Create train and test Snowpark DataDrames\n",
    "train_df, test_df = session.table(\"MARKETING_BUDGETS_FEATURES\").random_split(weights=[0.8, 0.2], seed=0)\n",
    "\n",
    "# Preprocess the Numeric columns\n",
    "# We apply PolynomialFeatures and StandardScaler preprocessing steps to the numeric columns\n",
    "\n",
    "numeric_features = ['SEARCH_ENGINE','SOCIAL_MEDIA','VIDEO','EMAIL']\n",
    "numeric_transformer = Pipeline(steps=[('poly',PolynomialFeatures(degree = POLYNOMIAL_FEATURES_DEGREE)),('scaler', StandardScaler())])\n",
    "\n",
    "# Combine the preprocessed step together using the Column Transformer module\n",
    "preprocessor = ColumnTransformer(\n",
    "    transformers=[\n",
    "        ('num', numeric_transformer, numeric_features)])\n",
    "\n",
    "# The next step is the integrate d  the features we just preprocessed with our Machine Learning algorithm to enable us to build a model\n",
    "pipeline = Pipeline(steps=[('preprocessor', preprocessor),('classifier', LinearRegression())])\n",
    "parameteres = {}\n",
    "\n",
    "# Use GridSearch to find the best fitting model based on number_of_folds folds\n",
    "model = GridSearchCV(\n",
    "    estimator=pipeline,\n",
    "    param_grid=parameteres,\n",
    "    cv=CROSS_VALIDATION_FOLDS,\n",
    "    label_cols=[\"REVENUE\"],\n",
    "    output_cols=[\"PREDICTED_REVENUE\"],\n",
    "    verbose=2\n",
    ")\n",
    "\n",
    "# Fit and Score\n",
    "model.fit(train_df)\n",
    "train_r2_score = model.score(train_df)\n",
    "test_r2_score = model.score(test_df)\n",
    "\n",
    "# R2 score on train and test datasets\n",
    "print(f\"R2 score on Train : {train_r2_score}\")\n",
    "print(f\"R2 score on Test  : {test_r2_score}\")"
   ]
  },
  {
   "cell_type": "markdown",
   "id": "565eae56-c10e-4b3f-bd9e-c28ffc6752a8",
   "metadata": {},
   "source": [
    "#### Challenge 2: Model Training and MLOps"
   ]
  },
  {
   "cell_type": "markdown",
   "id": "5c390381-7fda-4443-bf2e-96897aba4d5e",
   "metadata": {},
   "source": [
    "##### Use the Model Registry\n",
    "\n",
    "[Docs: Snowpark ML Model Registry](https://docs.snowflake.com/en/developer-guide/snowpark-ml/snowpark-ml-mlops-model-registry#opening-the-snowpark-model-registry)\n"
   ]
  },
  {
   "cell_type": "code",
   "execution_count": 88,
   "id": "891da307-3928-4b80-9833-9d7eae3698f7",
   "metadata": {},
   "outputs": [
    {
     "name": "stderr",
     "output_type": "stream",
     "text": [
      "/Users/rgutin/opt/anaconda3/envs/snowpark-de-ml/lib/python3.11/contextlib.py:137: UserWarning: `relax_version` is not set and therefore defaulted to True. Dependency version constraints relaxed from ==x.y.z to >=x.y, <(x+1). To use specific dependency versions for compatibility, reproducibility, etc., set `options={'relax_version': False}` when logging the model.\n",
      "  return next(self.gen)\n"
     ]
    }
   ],
   "source": [
    "\n",
    "registry =  Registry(session)\n",
    "# create the Registry\n",
    "MODEL_NAME = \"PREDICT_ROI\"\n",
    "#Log the model and create a reference. \n",
    "\n",
    "mv = registry.log_model(model,\n",
    "                        model_name=MODEL_NAME,\n",
    "                        version_name=\"v1\",\n",
    "                        metrics={\"R2_train\": train_r2_score, \"R2_test\":test_r2_score,'author':'SnowflakePythonGuy'}\n",
    "                    )"
   ]
  },
  {
   "cell_type": "markdown",
   "id": "716d51a8-b9cc-4a09-81aa-1129b1c0dd78",
   "metadata": {},
   "source": [
    "#### Create fake data to test your model against\n"
   ]
  },
  {
   "cell_type": "code",
   "execution_count": 89,
   "id": "530e44b6-7df7-4c4e-8e8f-1911281859b7",
   "metadata": {},
   "outputs": [
    {
     "name": "stdout",
     "output_type": "stream",
     "text": [
      "---------------------------------------------------------------------------\n",
      "|\"MONTH\"   |\"SEARCH_ENGINE\"  |\"SOCIAL_MEDIA\"  |\"VIDEO\"  |\"EMAIL\"  |\"ROI\"  |\n",
      "---------------------------------------------------------------------------\n",
      "|January   |35               |50              |35       |85       |8.22   |\n",
      "|February  |75               |50              |35       |85       |13.9   |\n",
      "|March     |15               |50              |35       |15       |7.34   |\n",
      "|April     |25               |80              |40       |90       |13.23  |\n",
      "|May       |95               |95              |10       |95       |6.246  |\n",
      "|June      |35               |50              |35       |85       |8.22   |\n",
      "---------------------------------------------------------------------------\n",
      "\n"
     ]
    }
   ],
   "source": [
    "session.sql(\"\"\"CREATE or REPLACE TABLE BUDGET_ALLOCATIONS_AND_ROI (\n",
    "  MONTH varchar(30),\n",
    "  SEARCH_ENGINE integer,\n",
    "  SOCIAL_MEDIA integer,\n",
    "  VIDEO integer,\n",
    "  EMAIL integer,\n",
    "  ROI float);\"\"\").collect()\n",
    "\n",
    "session.sql(\"\"\"\n",
    "INSERT INTO BUDGET_ALLOCATIONS_AND_ROI (MONTH, SEARCH_ENGINE, SOCIAL_MEDIA, VIDEO, EMAIL, ROI)\n",
    "VALUES\n",
    "('January',35,50,35,85,8.22),\n",
    "('February',75,50,35,85,13.90),\n",
    "('March',15,50,35,15,7.34),\n",
    "('April',25,80,40,90,13.23),\n",
    "('May',95,95,10,95,6.246),\n",
    "('June',35,50,35,85,8.22);\"\"\").collect()\n",
    "\n",
    "budgets = session.table('BUDGET_ALLOCATIONS_AND_ROI')\n",
    "budgets.show()"
   ]
  },
  {
   "cell_type": "code",
   "execution_count": 90,
   "id": "56473e03-3523-459a-be39-bafc48d0bfd5",
   "metadata": {},
   "outputs": [
    {
     "name": "stdout",
     "output_type": "stream",
     "text": [
      "-------------------------------------------------------------------------------------------------\n",
      "|\"MONTH\"   |\"ROI\"  |\"SEARCH_ENGINE\"  |\"SOCIAL_MEDIA\"  |\"VIDEO\"  |\"EMAIL\"  |\"PREDICTED_REVENUE\"  |\n",
      "-------------------------------------------------------------------------------------------------\n",
      "|January   |8.22   |35               |50              |35       |85       |-269442.0848430707   |\n",
      "|February  |13.9   |75               |50              |35       |85       |-268635.49494311353  |\n",
      "|March     |7.34   |15               |50              |35       |15       |-271111.9260491049   |\n",
      "|April     |13.23  |25               |80              |40       |90       |-269413.05838238867  |\n",
      "|May       |6.246  |95               |95              |10       |95       |-266464.4242657325   |\n",
      "|June      |8.22   |35               |50              |35       |85       |-269442.0848430707   |\n",
      "-------------------------------------------------------------------------------------------------\n",
      "\n"
     ]
    }
   ],
   "source": [
    "#Run the inference on your mock data\n",
    "mv.run(budgets, function_name='predict').show()"
   ]
  },
  {
   "cell_type": "markdown",
   "id": "bebfc3d1-59d5-43da-8632-80d5e5b5196b",
   "metadata": {},
   "source": [
    "## Part 3: Quickly build a data app with Streamlit"
   ]
  },
  {
   "cell_type": "markdown",
   "id": "98ddc8db-0381-4545-aaaa-899f2958a7fc",
   "metadata": {},
   "source": [
    "[Docs: Grants for Creating a Streamlit App](https://docs.snowflake.com/en/developer-guide/streamlit/about-streamlit#label-streamlit-access-requirements)"
   ]
  },
  {
   "cell_type": "code",
   "execution_count": 60,
   "id": "e7bc0545-c037-44f5-9948-49ceef8fc854",
   "metadata": {
    "collapsed": true,
    "jupyter": {
     "outputs_hidden": true
    }
   },
   "outputs": [
    {
     "ename": "ModuleNotFoundError",
     "evalue": "No module named 'altair'",
     "output_type": "error",
     "traceback": [
      "\u001b[0;31m---------------------------------------------------------------------------\u001b[0m",
      "\u001b[0;31mModuleNotFoundError\u001b[0m                       Traceback (most recent call last)",
      "Cell \u001b[0;32mIn[60], line 2\u001b[0m\n\u001b[1;32m      1\u001b[0m \u001b[38;5;28;01mimport\u001b[39;00m \u001b[38;5;21;01mcalendar\u001b[39;00m \n\u001b[0;32m----> 2\u001b[0m \u001b[38;5;28;01mimport\u001b[39;00m \u001b[38;5;21;01maltair\u001b[39;00m \u001b[38;5;28;01mas\u001b[39;00m \u001b[38;5;21;01malt\u001b[39;00m\n\u001b[1;32m      3\u001b[0m \u001b[38;5;28;01mimport\u001b[39;00m \u001b[38;5;21;01mstreamlit\u001b[39;00m \u001b[38;5;28;01mas\u001b[39;00m \u001b[38;5;21;01mst\u001b[39;00m\n\u001b[1;32m      4\u001b[0m \u001b[38;5;28;01mimport\u001b[39;00m \u001b[38;5;21;01mpandas\u001b[39;00m \u001b[38;5;28;01mas\u001b[39;00m \u001b[38;5;21;01mpd\u001b[39;00m\n",
      "\u001b[0;31mModuleNotFoundError\u001b[0m: No module named 'altair'"
     ]
    }
   ],
   "source": [
    "import calendar \n",
    "import altair as alt\n",
    "import streamlit as st\n",
    "import pandas as pd\n",
    "from snowflake.snowpark.functions import col\n",
    "from snowflake.ml.registry import Registry\n",
    "from snowflake.snowpark.context import get_active_session\n",
    "\n",
    "\n",
    "#Create a header\n",
    "st.header(\"SkiGear Co Ad Spend Optimizer\")\n",
    "\n",
    "forcast_month = 'July'\n",
    "#Get your session\n",
    "session = get_active_session()\n",
    "\n",
    "#Get an unpivoted view of your Budget without the Forcast month\n",
    "########## Data Manipulation ######################\n",
    "channels_upper = ['SEARCH_ENGINE', 'SOCIAL_MEDIA', 'VIDEO', 'EMAIL']\n",
    "\n",
    "data = session.table('SNOWPARK_DB.HOL_SCHEMA.BUDGET_ALLOCATIONS_AND_ROI').\\\n",
    "                unpivot(\"Budget\", \"Channel\",\n",
    "                       channels_upper).filter(col(\"MONTH\") != forcast_month)\n",
    "\n",
    "\n",
    "last_allocation = data.filter(col(\"MONTH\") == \"June\").to_pandas()\n",
    "previous_rois = data.drop([\"CHANNEL\", \"BUDGET\"]).distinct().to_pandas()\n",
    "########## Data Manipulation ######################\n",
    "\n",
    "#st.dataframe(data)\n",
    "st.subheader(\"Expected Advertising budgets\")\n",
    "\n",
    "######### WIDGET DEFINITION ######### \n",
    "col1, _, col2 = st.columns([2, 1, 4])\n",
    "budgets = []\n",
    "for alloc, col in zip(last_allocation.itertuples(), [col1, col1, col2, col2]):\n",
    "  budgets.append(col.slider(alloc.CHANNEL, 0, 200, 70, 5))\n",
    "\n",
    "budgets_df = pd.DataFrame(budgets).T\n",
    "######### ######### ######### ######### \n",
    "#st.dataframe(budgets_df)\n",
    "\n",
    "\n",
    "######### ADDING THE ML MODEL ##################\n",
    "#get latest version of my model\n",
    "ml_registry = Registry(session , database_name='SNOWPARK_DB', schema_name='HOL_SCHEMA')\n",
    "\n",
    "ROI_MODEL = ml_registry.get_model(model_name= \"PREDICT_ROI\").versions()[-1]\n",
    "\n",
    "\n",
    "def predict(budgets_from_widget):\n",
    "    budgets_for_inf = budgets_from_widget *1000\n",
    "    \n",
    "    pred = ROI_MODEL.run(budgets_for_inf,function_name='predict')\n",
    "    pred = pred[\"PREDICTED_REVENUE\"].values[0] / 100000\n",
    "    change = round(((pred / previous_rois[\"ROI\"].iloc[-1]) - 1) * 100, 1)\n",
    "    return pred, change\n",
    "#####################################################\n",
    "\n",
    "########### Charting ####################\n",
    "#st.dataframe(predict(budgets_df))\n",
    "pred, change = predict(budgets_df)\n",
    "st.metric(\"\", f\"Predicted revenue ${pred:.2f} million\", f\"{change:.1f} % vs last month\")\n",
    "july = pd.DataFrame({\"MONTH\": [\"July\"]*4, \"CHANNEL\": channels_upper, \"BUDGET\": budgets, \"ROI\": [pred]*4})\n",
    "\n",
    "def chart(chart_data):\n",
    "  base = alt.Chart(chart_data).encode(alt.X(\"MONTH\", sort=list(calendar.month_name), title=None))\n",
    "  bars = base.mark_bar().encode(y=alt.Y(\"BUDGET\", title=\"Budget\", scale=alt.Scale(domain=[0, 300])), color=alt.Color(\"CHANNEL\", legend=alt.Legend(orient=\"top\", title=\" \")), opacity=alt.condition(alt.datum.MONTH==\"July\", alt.value(1), alt.value(0.3)))\n",
    "  lines = base.mark_line(size=3).encode(y=alt.Y(\"ROI\", title=\"Revenue\", scale=alt.Scale(domain=[0, 25])), color=alt.value(\"#808495\"))\n",
    "  points = base.mark_point(strokeWidth=3).encode(y=alt.Y(\"ROI\"), stroke=alt.value(\"#808495\"), fill=alt.value(\"white\"), size=alt.condition(alt.datum.MONTH==\"July\", alt.value(300), alt.value(70)))\n",
    "  chart = alt.layer(bars, lines + points).resolve_scale(y=\"independent\").configure_view(strokeWidth=0).configure_axisY(domain=False).configure_axis(labelColor=\"#808495\", tickColor=\"#e6eaf1\", gridColor=\"#e6eaf1\", domainColor=\"#e6eaf1\", titleFontWeight=600, titlePadding=10, labelPadding=5, labelFontSize=14).configure_range(category=[\"#FFE08E\", \"#03C0F2\", \"#FFAAAB\", \"#995EFF\"])\n",
    "  st.altair_chart(chart, use_container_width=True)\n",
    "\n",
    "#st.dataframe(july)\n",
    "\n",
    "chart(pd.concat([data.to_pandas(), july]).reset_index(drop=True))\n",
    "##########################################################################################################"
   ]
  },
  {
   "cell_type": "code",
   "execution_count": null,
   "id": "1867a0b0-c861-4ae2-beca-777d0c7460ac",
   "metadata": {
    "collapsed": true,
    "jupyter": {
     "outputs_hidden": true,
     "source_hidden": true
    }
   },
   "outputs": [],
   "source": []
  }
 ],
 "metadata": {
  "kernelspec": {
   "display_name": "Python 3 (ipykernel)",
   "language": "python",
   "name": "python3"
  },
  "language_info": {
   "codemirror_mode": {
    "name": "ipython",
    "version": 3
   },
   "file_extension": ".py",
   "mimetype": "text/x-python",
   "name": "python",
   "nbconvert_exporter": "python",
   "pygments_lexer": "ipython3",
   "version": "3.11.8"
  }
 },
 "nbformat": 4,
 "nbformat_minor": 5
}

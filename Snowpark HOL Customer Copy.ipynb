{
 "cells": [
  {
   "cell_type": "markdown",
   "id": "71a51e0d-754d-4b45-9bbc-477b5fa3939d",
   "metadata": {},
   "source": [
    "\n",
    "# Part 1 - Data Engineering\n",
    "\n"
   ]
  },
  {
   "cell_type": "code",
   "execution_count": 1,
   "id": "d1c20815-41e2-4218-b414-70d6060ee462",
   "metadata": {
    "collapsed": true,
    "jupyter": {
     "outputs_hidden": true,
     "source_hidden": true
    }
   },
   "outputs": [
    {
     "name": "stdout",
     "output_type": "stream",
     "text": [
      "Intel MKL WARNING: Support of Intel(R) Streaming SIMD Extensions 4.2 (Intel(R) SSE4.2) enabled only processors has been deprecated. Intel oneAPI Math Kernel Library 2025.0 will require Intel(R) Advanced Vector Extensions (Intel(R) AVX) instructions.\n",
      "Intel MKL WARNING: Support of Intel(R) Streaming SIMD Extensions 4.2 (Intel(R) SSE4.2) enabled only processors has been deprecated. Intel oneAPI Math Kernel Library 2025.0 will require Intel(R) Advanced Vector Extensions (Intel(R) AVX) instructions.\n"
     ]
    }
   ],
   "source": [
    "from snowflake.snowpark.session import Session\n",
    "from snowflake.core import Root\n",
    "\n",
    "from snowflake.snowpark.version import VERSION\n",
    "import pandas as pd"
   ]
  },
  {
   "cell_type": "markdown",
   "id": "01cc6daa-b658-4345-9088-64dcfeceb2b8",
   "metadata": {},
   "source": [
    "## Make a connection to Snowflake via Snowpark"
   ]
  },
  {
   "cell_type": "code",
   "execution_count": 2,
   "id": "6ed6087b-7dc4-41dc-83dd-023d8cee0657",
   "metadata": {
    "collapsed": true,
    "jupyter": {
     "outputs_hidden": true,
     "source_hidden": true
    }
   },
   "outputs": [
    {
     "name": "stdout",
     "output_type": "stream",
     "text": [
      "User                        : ADMIN\n",
      "Role                        : \"ACCOUNTADMIN\"\n",
      "Database                    : None\n",
      "Schema                      : None\n",
      "Warehouse                   : None\n",
      "Snowflake version           : 8.13.3\n",
      "Snowpark for Python version : 1.13.0\n"
     ]
    }
   ],
   "source": [
    "from config import connection_config \n",
    "\n",
    "\n",
    "session = Session.builder.configs(connection_config).create()\n",
    "root= Root(session)\n",
    "snowflake_environment = session.sql('select current_user(), current_version()').collect()\n",
    "snowpark_version = VERSION\n",
    "\n",
    "# Current Environment Details\n",
    "print('User                        : {}'.format(snowflake_environment[0][0]))\n",
    "print('Role                        : {}'.format(session.get_current_role()))\n",
    "print('Database                    : {}'.format(session.get_current_database()))\n",
    "print('Schema                      : {}'.format(session.get_current_schema()))\n",
    "print('Warehouse                   : {}'.format(session.get_current_warehouse()))\n",
    "print('Snowflake version           : {}'.format(snowflake_environment[0][1]))\n",
    "print('Snowpark for Python version : {}.{}.{}'.format(snowpark_version[0],snowpark_version[1],snowpark_version[2]))"
   ]
  },
  {
   "cell_type": "markdown",
   "id": "ee0febfe-5360-4c44-bc25-5394552c3653",
   "metadata": {},
   "source": [
    "### Challenge 1: Setup your environment with the Session and Root object\n",
    "\n",
    "Lets create a new database, schema and warehouse for our work. \n",
    "\n",
    "The Snowpark session is no different than a regular Snowflake connection for this.\n",
    " "
   ]
  },
  {
   "cell_type": "code",
   "execution_count": 3,
   "id": "3b697c1e-999e-410c-9bcd-0e2253866eca",
   "metadata": {
    "collapsed": true,
    "jupyter": {
     "outputs_hidden": true,
     "source_hidden": true
    }
   },
   "outputs": [
    {
     "data": {
      "text/plain": [
       "[Row(status='Database SNOWPARK_DB successfully created.')]"
      ]
     },
     "execution_count": 3,
     "metadata": {},
     "output_type": "execute_result"
    }
   ],
   "source": [
    "db_name = 'SNOWPARK_DB'\n",
    "schema_name = 'HOL_SCHEMA'\n",
    "wh_name = 'HOL_WH'\n",
    "\n",
    "#Write code to create a Database, Schema , and Warehouse\n",
    "session.sql(f'CREATE OR REPLACE DATABASE {db_name}').collect()"
   ]
  },
  {
   "cell_type": "code",
   "execution_count": 4,
   "id": "06245d60-2a4e-4157-bf94-fd63098610f1",
   "metadata": {
    "collapsed": true,
    "jupyter": {
     "outputs_hidden": true,
     "source_hidden": true
    }
   },
   "outputs": [
    {
     "data": {
      "text/plain": [
       "[Row(status='Statement executed successfully.')]"
      ]
     },
     "execution_count": 4,
     "metadata": {},
     "output_type": "execute_result"
    }
   ],
   "source": [
    "session.sql(f'CREATE OR REPLACE SCHEMA {schema_name}').collect()\n",
    "session.sql(f'CREATE OR REPLACE WAREHOUSE {wh_name}').collect()\n",
    "session.sql(f'USE DATABASE {db_name}').collect()\n",
    "session.sql(f'USE SCHEMA {schema_name}').collect()\n",
    "session.sql(f'USE WAREHOUSE {wh_name}').collect()"
   ]
  },
  {
   "cell_type": "code",
   "execution_count": 5,
   "id": "9db45812-5d40-4aea-913f-b9839e91852c",
   "metadata": {
    "collapsed": true,
    "jupyter": {
     "outputs_hidden": true,
     "source_hidden": true
    }
   },
   "outputs": [
    {
     "data": {
      "text/plain": [
       "'\"SNOWPARK_DB\"'"
      ]
     },
     "execution_count": 5,
     "metadata": {},
     "output_type": "execute_result"
    }
   ],
   "source": [
    "session.get_current_database()"
   ]
  },
  {
   "cell_type": "markdown",
   "id": "17ea6906-ac6d-4264-8278-a0e83fdf4b1a",
   "metadata": {},
   "source": [
    "#### The Snowflake Core Python libary lets you do the same steps with no SQL and in an Object-oriented manner\n",
    "\n",
    "[Docs: Snowflake Python API](https://docs.snowflake.com/en/developer-guide/snowflake-python-api/snowflake-python-overview)"
   ]
  },
  {
   "cell_type": "code",
   "execution_count": 6,
   "id": "967a931a-6f41-4a40-b6ed-f57c4ccee979",
   "metadata": {
    "collapsed": true,
    "jupyter": {
     "outputs_hidden": true,
     "source_hidden": true
    }
   },
   "outputs": [],
   "source": [
    "from snowflake.core.database import Database\n",
    "from snowflake.core.schema import Schema \n",
    "from snowflake.core.warehouse import Warehouse\n",
    "\n",
    "#Use the Python API to create the same objects as above\n",
    "my_db = Database(name=db_name)\n",
    "hol_db = root.databases.create(my_db, mode='orreplace')"
   ]
  },
  {
   "cell_type": "code",
   "execution_count": 7,
   "id": "59b2df09-cc06-4f8e-9e4b-02c1a39843fd",
   "metadata": {
    "collapsed": true,
    "jupyter": {
     "outputs_hidden": true,
     "source_hidden": true
    }
   },
   "outputs": [],
   "source": [
    "#Create a Schema. Hint: Schemas fall under databases \n",
    "my_schema = Schema(schema_name)\n",
    "my_schema = root.databases[db_name].schemas.create(my_schema)\n",
    "\n"
   ]
  },
  {
   "cell_type": "code",
   "execution_count": 8,
   "id": "45ae925e-81a3-4399-b012-3826bf5b4d31",
   "metadata": {
    "collapsed": true,
    "jupyter": {
     "outputs_hidden": true,
     "source_hidden": true
    }
   },
   "outputs": [],
   "source": [
    "session.get_current_warehouse()\n",
    "session.use_warehouse(wh_name)"
   ]
  },
  {
   "cell_type": "markdown",
   "id": "f6fb9220-b5b2-4351-9aae-65b072b420c3",
   "metadata": {},
   "source": [
    "### Challenge 2: To connect Snowflake to external cloud storage, like S3, you need to create a Stage.\n",
    "\n",
    "At the moment, **anything besides Databases, Schemas, Tables, Tasks, and Warehouse(compute pools) are SQL-only** until the Python API GA later this year.\n",
    "\n",
    "[Create a Stage SQL](https://docs.snowflake.com/en/sql-reference/sql/create-storage-integration#examples)"
   ]
  },
  {
   "cell_type": "code",
   "execution_count": 9,
   "id": "77710325-c891-4f09-8897-42b40ee2f222",
   "metadata": {
    "collapsed": true,
    "jupyter": {
     "outputs_hidden": true,
     "source_hidden": true
    }
   },
   "outputs": [],
   "source": [
    "\n",
    "stage_info = {\n",
    "    'campaign_data_stage': 's3://sfquickstarts/ad-spend-roi-snowpark-python-scikit-learn-streamlit/campaign_spend/' ,\n",
    "    'monthly_revenue_data_stage': 's3://sfquickstarts/ad-spend-roi-snowpark-python-scikit-learn-streamlit/monthly_revenue/'\n",
    "}\n",
    "\n",
    "\n",
    "#Write a function below to create a stage using the Session objects SQL cursor()\n"
   ]
  },
  {
   "cell_type": "code",
   "execution_count": 11,
   "id": "7af77a4c-198c-4426-8966-2a90135c5792",
   "metadata": {
    "collapsed": true,
    "jupyter": {
     "outputs_hidden": true,
     "source_hidden": true
    }
   },
   "outputs": [
    {
     "name": "stdout",
     "output_type": "stream",
     "text": [
      "[Row(status='Stage area CAMPAIGN_DATA_STAGE successfully created.')]\n",
      "[Row(status='Stage area MONTHLY_REVENUE_DATA_STAGE successfully created.')]\n"
     ]
    }
   ],
   "source": [
    "#Run your function for all data sources\n"
   ]
  },
  {
   "cell_type": "markdown",
   "id": "095d5bd3-6ee6-4198-92cd-46de5cf8b6ac",
   "metadata": {},
   "source": [
    "## Lets take a look at whats in the S3 bucket"
   ]
  },
  {
   "cell_type": "code",
   "execution_count": 12,
   "id": "5ef93474-93b4-42cc-8334-5062b24a1f86",
   "metadata": {
    "collapsed": true,
    "jupyter": {
     "outputs_hidden": true
    }
   },
   "outputs": [
    {
     "name": "stdout",
     "output_type": "stream",
     "text": [
      "[Row(name='s3://sfquickstarts/ad-spend-roi-snowpark-python-scikit-learn-streamlit/campaign_spend/campaign_spend.csv', size=13684943, md5='1d87f70421662a7666d3918b16b81daa', last_modified='Tue, 14 Feb 2023 21:11:11 GMT')]\n",
      "[Row(name='s3://sfquickstarts/ad-spend-roi-snowpark-python-scikit-learn-streamlit/monthly_revenue/monthly_revenue.csv', size=2227, md5='64f1607c7838ef77b88b6a2b738aebab', last_modified='Tue, 14 Feb 2023 21:11:14 GMT')]\n"
     ]
    }
   ],
   "source": [
    "#Use the list command to check out the files in your stage!\n",
    "camp_stag = '@campaign_data_stage'\n",
    "rev_stag = '@monthly_revenue_data_stage'\n",
    "print(session.sql(f'list {camp_stag}').collect())\n",
    "print(session.sql(f'list {rev_stag}').collect())"
   ]
  },
  {
   "cell_type": "markdown",
   "id": "f23a32db-d27c-432b-b5f3-df217010298a",
   "metadata": {},
   "source": [
    "### Challenge 3: Time for our first Snowpark Dataframe! \n",
    "\n",
    "Snowpark is capabable of loading staged files to a dataframe using the DataFrameReader. This reader takes options similar to a SQL COPY command.\n",
    "\n",
    "[Docs: Snowpark DataframeReader](https://docs.snowflake.com/ko/developer-guide/snowpark/reference/python/latest/api/snowflake.snowpark.DataFrameReader)"
   ]
  },
  {
   "cell_type": "code",
   "execution_count": 13,
   "id": "afcda7ad-edfe-4704-86cb-1884c094a00b",
   "metadata": {
    "collapsed": true,
    "jupyter": {
     "outputs_hidden": true,
     "source_hidden": true
    }
   },
   "outputs": [
    {
     "name": "stdout",
     "output_type": "stream",
     "text": [
      "---------------------------------\n",
      "|\"YEAR\"  |\"MONTH\"  |\"REVENUE\"   |\n",
      "---------------------------------\n",
      "|2012    |5        |3264300.11  |\n",
      "|2012    |6        |3208482.33  |\n",
      "|2012    |7        |3311966.98  |\n",
      "|2012    |8        |3311752.81  |\n",
      "|2012    |9        |3208563.06  |\n",
      "|2012    |10       |3334028.46  |\n",
      "|2012    |11       |3185894.64  |\n",
      "|2012    |12       |3334570.96  |\n",
      "|2013    |1        |3316455.44  |\n",
      "|2013    |2        |2995042.21  |\n",
      "---------------------------------\n",
      "\n"
     ]
    }
   ],
   "source": [
    "#Read the monthly revenue data to a DataFrame and show it\n",
    "\n",
    "#revenue_data = \n",
    "#revenue_data.show()"
   ]
  },
  {
   "cell_type": "code",
   "execution_count": 14,
   "id": "f4abb532-581a-4053-9fa8-8d9bc0e79dea",
   "metadata": {
    "collapsed": true,
    "jupyter": {
     "outputs_hidden": true,
     "source_hidden": true
    }
   },
   "outputs": [
    {
     "name": "stdout",
     "output_type": "stream",
     "text": [
      "------------------------------------------------------------------------------------------------------\n",
      "|\"CAMPAIGN\"              |\"CHANNEL\"      |\"DATE\"      |\"TOTAL_CLICKS\"  |\"TOTAL_COST\"  |\"ADS_SERVED\"  |\n",
      "------------------------------------------------------------------------------------------------------\n",
      "|winter_sports           |video          |2012-06-03  |213             |1762          |426           |\n",
      "|sports_across_cultures  |video          |2012-06-02  |87              |678           |157           |\n",
      "|building_community      |search_engine  |2012-06-03  |66              |471           |134           |\n",
      "|world_series            |social_media   |2017-12-28  |72              |591           |149           |\n",
      "|winter_sports           |email          |2018-02-09  |252             |1841          |473           |\n",
      "|spring_break            |video          |2017-11-14  |162             |1155          |304           |\n",
      "|nba_finals              |email          |2017-11-22  |68              |480           |134           |\n",
      "|winter_sports           |social_media   |2018-03-10  |227             |1797          |454           |\n",
      "|spring_break            |search_engine  |2017-08-30  |150             |1226          |302           |\n",
      "|uefa                    |video          |2017-09-30  |81              |701           |168           |\n",
      "------------------------------------------------------------------------------------------------------\n",
      "\n"
     ]
    }
   ],
   "source": [
    "#read the campaign spend data to a DataFrame\n",
    "\n",
    "\n",
    "#campaign_data.show()"
   ]
  },
  {
   "cell_type": "markdown",
   "id": "cdcbed23-5647-4dbd-b120-8f379e68e1c3",
   "metadata": {},
   "source": [
    "### Challenge 4: In reality, we need a Pivot Table to break out different marketing channels"
   ]
  },
  {
   "cell_type": "code",
   "execution_count": 56,
   "id": "acb9e37d-d315-49e1-a704-43c9238e9559",
   "metadata": {
    "collapsed": true,
    "jupyter": {
     "outputs_hidden": true,
     "source_hidden": true
    }
   },
   "outputs": [
    {
     "ename": "SnowparkSQLException",
     "evalue": "(1304): 01b39044-0105-1033-004d-eb87008ead02: 000606 (57P03): No active warehouse selected in the current session.  Select an active warehouse with the 'use warehouse' command.\n",
     "output_type": "error",
     "traceback": [
      "\u001b[0;31m---------------------------------------------------------------------------\u001b[0m",
      "\u001b[0;31mSnowparkSQLException\u001b[0m                      Traceback (most recent call last)",
      "Cell \u001b[0;32mIn[56], line 3\u001b[0m\n\u001b[1;32m      1\u001b[0m \u001b[38;5;66;03m#get your pivot list without hardcoding\u001b[39;00m\n\u001b[0;32m----> 3\u001b[0m channel_pivot_list \u001b[38;5;241m=\u001b[39m \u001b[38;5;28mlist\u001b[39m(campaign_data\u001b[38;5;241m.\u001b[39mselect(\u001b[38;5;124m'\u001b[39m\u001b[38;5;124mCHANNEL\u001b[39m\u001b[38;5;124m'\u001b[39m)\u001b[38;5;241m.\u001b[39mdistinct()\u001b[38;5;241m.\u001b[39mto_pandas()\u001b[38;5;241m.\u001b[39mloc[:,\u001b[38;5;124m'\u001b[39m\u001b[38;5;124mCHANNEL\u001b[39m\u001b[38;5;124m'\u001b[39m])\n\u001b[1;32m      4\u001b[0m channel_pivot_list\n",
      "File \u001b[0;32m~/opt/anaconda3/envs/snowpark-de-ml/lib/python3.11/site-packages/snowflake/snowpark/_internal/telemetry.py:139\u001b[0m, in \u001b[0;36mdf_collect_api_telemetry.<locals>.wrap\u001b[0;34m(*args, **kwargs)\u001b[0m\n\u001b[1;32m    136\u001b[0m \u001b[38;5;129m@functools\u001b[39m\u001b[38;5;241m.\u001b[39mwraps(func)\n\u001b[1;32m    137\u001b[0m \u001b[38;5;28;01mdef\u001b[39;00m \u001b[38;5;21mwrap\u001b[39m(\u001b[38;5;241m*\u001b[39margs, \u001b[38;5;241m*\u001b[39m\u001b[38;5;241m*\u001b[39mkwargs):\n\u001b[1;32m    138\u001b[0m     \u001b[38;5;28;01mwith\u001b[39;00m args[\u001b[38;5;241m0\u001b[39m]\u001b[38;5;241m.\u001b[39m_session\u001b[38;5;241m.\u001b[39mquery_history() \u001b[38;5;28;01mas\u001b[39;00m query_history:\n\u001b[0;32m--> 139\u001b[0m         result \u001b[38;5;241m=\u001b[39m func(\u001b[38;5;241m*\u001b[39margs, \u001b[38;5;241m*\u001b[39m\u001b[38;5;241m*\u001b[39mkwargs)\n\u001b[1;32m    140\u001b[0m     plan \u001b[38;5;241m=\u001b[39m args[\u001b[38;5;241m0\u001b[39m]\u001b[38;5;241m.\u001b[39m_select_statement \u001b[38;5;129;01mor\u001b[39;00m args[\u001b[38;5;241m0\u001b[39m]\u001b[38;5;241m.\u001b[39m_plan\n\u001b[1;32m    141\u001b[0m     api_calls \u001b[38;5;241m=\u001b[39m [\n\u001b[1;32m    142\u001b[0m         \u001b[38;5;241m*\u001b[39mplan\u001b[38;5;241m.\u001b[39mapi_calls,\n\u001b[1;32m    143\u001b[0m         {TelemetryField\u001b[38;5;241m.\u001b[39mNAME\u001b[38;5;241m.\u001b[39mvalue: \u001b[38;5;124mf\u001b[39m\u001b[38;5;124m\"\u001b[39m\u001b[38;5;124mDataFrame.\u001b[39m\u001b[38;5;132;01m{\u001b[39;00mfunc\u001b[38;5;241m.\u001b[39m\u001b[38;5;18m__name__\u001b[39m\u001b[38;5;132;01m}\u001b[39;00m\u001b[38;5;124m\"\u001b[39m},\n\u001b[1;32m    144\u001b[0m     ]\n",
      "File \u001b[0;32m~/opt/anaconda3/envs/snowpark-de-ml/lib/python3.11/site-packages/snowflake/snowpark/dataframe.py:794\u001b[0m, in \u001b[0;36mDataFrame.to_pandas\u001b[0;34m(self, statement_params, block, **kwargs)\u001b[0m\n\u001b[1;32m    768\u001b[0m \u001b[38;5;129m@df_collect_api_telemetry\u001b[39m\n\u001b[1;32m    769\u001b[0m \u001b[38;5;28;01mdef\u001b[39;00m \u001b[38;5;21mto_pandas\u001b[39m(\n\u001b[1;32m    770\u001b[0m     \u001b[38;5;28mself\u001b[39m,\n\u001b[0;32m   (...)\u001b[0m\n\u001b[1;32m    774\u001b[0m     \u001b[38;5;241m*\u001b[39m\u001b[38;5;241m*\u001b[39mkwargs: Dict[\u001b[38;5;28mstr\u001b[39m, Any],\n\u001b[1;32m    775\u001b[0m ) \u001b[38;5;241m-\u001b[39m\u001b[38;5;241m>\u001b[39m Union[\u001b[38;5;124m\"\u001b[39m\u001b[38;5;124mpandas.DataFrame\u001b[39m\u001b[38;5;124m\"\u001b[39m, AsyncJob]:\n\u001b[1;32m    776\u001b[0m \u001b[38;5;250m    \u001b[39m\u001b[38;5;124;03m\"\"\"\u001b[39;00m\n\u001b[1;32m    777\u001b[0m \u001b[38;5;124;03m    Executes the query representing this DataFrame and returns the result as a\u001b[39;00m\n\u001b[1;32m    778\u001b[0m \u001b[38;5;124;03m    `Pandas DataFrame <https://pandas.pydata.org/pandas-docs/stable/reference/api/pandas.DataFrame.html>`_.\u001b[39;00m\n\u001b[0;32m   (...)\u001b[0m\n\u001b[1;32m    792\u001b[0m \u001b[38;5;124;03m        :func:`Session.sql` can only be a SELECT statement.\u001b[39;00m\n\u001b[1;32m    793\u001b[0m \u001b[38;5;124;03m    \"\"\"\u001b[39;00m\n\u001b[0;32m--> 794\u001b[0m     result \u001b[38;5;241m=\u001b[39m \u001b[38;5;28mself\u001b[39m\u001b[38;5;241m.\u001b[39m_session\u001b[38;5;241m.\u001b[39m_conn\u001b[38;5;241m.\u001b[39mexecute(\n\u001b[1;32m    795\u001b[0m         \u001b[38;5;28mself\u001b[39m\u001b[38;5;241m.\u001b[39m_plan,\n\u001b[1;32m    796\u001b[0m         to_pandas\u001b[38;5;241m=\u001b[39m\u001b[38;5;28;01mTrue\u001b[39;00m,\n\u001b[1;32m    797\u001b[0m         block\u001b[38;5;241m=\u001b[39mblock,\n\u001b[1;32m    798\u001b[0m         data_type\u001b[38;5;241m=\u001b[39m_AsyncResultType\u001b[38;5;241m.\u001b[39mPANDAS,\n\u001b[1;32m    799\u001b[0m         _statement_params\u001b[38;5;241m=\u001b[39mcreate_or_update_statement_params_with_query_tag(\n\u001b[1;32m    800\u001b[0m             statement_params \u001b[38;5;129;01mor\u001b[39;00m \u001b[38;5;28mself\u001b[39m\u001b[38;5;241m.\u001b[39m_statement_params,\n\u001b[1;32m    801\u001b[0m             \u001b[38;5;28mself\u001b[39m\u001b[38;5;241m.\u001b[39m_session\u001b[38;5;241m.\u001b[39mquery_tag,\n\u001b[1;32m    802\u001b[0m             SKIP_LEVELS_TWO,\n\u001b[1;32m    803\u001b[0m         ),\n\u001b[1;32m    804\u001b[0m         \u001b[38;5;241m*\u001b[39m\u001b[38;5;241m*\u001b[39mkwargs,\n\u001b[1;32m    805\u001b[0m     )\n\u001b[1;32m    807\u001b[0m     \u001b[38;5;66;03m# if the returned result is not a pandas dataframe, raise Exception\u001b[39;00m\n\u001b[1;32m    808\u001b[0m     \u001b[38;5;66;03m# this might happen when calling this method with non-select commands\u001b[39;00m\n\u001b[1;32m    809\u001b[0m     \u001b[38;5;66;03m# e.g., session.sql(\"create ...\").to_pandas()\u001b[39;00m\n\u001b[1;32m    810\u001b[0m     \u001b[38;5;28;01mif\u001b[39;00m block:\n",
      "File \u001b[0;32m~/opt/anaconda3/envs/snowpark-de-ml/lib/python3.11/site-packages/snowflake/snowpark/_internal/server_connection.py:508\u001b[0m, in \u001b[0;36mServerConnection.execute\u001b[0;34m(self, plan, to_pandas, to_iter, block, data_type, log_on_exception, case_sensitive, **kwargs)\u001b[0m\n\u001b[1;32m    498\u001b[0m \u001b[38;5;28;01mif\u001b[39;00m (\n\u001b[1;32m    499\u001b[0m     is_in_stored_procedure()\n\u001b[1;32m    500\u001b[0m     \u001b[38;5;129;01mand\u001b[39;00m \u001b[38;5;129;01mnot\u001b[39;00m block\n\u001b[0;32m   (...)\u001b[0m\n\u001b[1;32m    503\u001b[0m     )\n\u001b[1;32m    504\u001b[0m ):  \u001b[38;5;66;03m# pragma: no cover\u001b[39;00m\n\u001b[1;32m    505\u001b[0m     \u001b[38;5;28;01mraise\u001b[39;00m \u001b[38;5;167;01mNotImplementedError\u001b[39;00m(\n\u001b[1;32m    506\u001b[0m         \u001b[38;5;124m\"\u001b[39m\u001b[38;5;124mAsync query is not supported in stored procedure yet\u001b[39m\u001b[38;5;124m\"\u001b[39m\n\u001b[1;32m    507\u001b[0m     )\n\u001b[0;32m--> 508\u001b[0m result_set, result_meta \u001b[38;5;241m=\u001b[39m \u001b[38;5;28mself\u001b[39m\u001b[38;5;241m.\u001b[39mget_result_set(\n\u001b[1;32m    509\u001b[0m     plan,\n\u001b[1;32m    510\u001b[0m     to_pandas,\n\u001b[1;32m    511\u001b[0m     to_iter,\n\u001b[1;32m    512\u001b[0m     \u001b[38;5;241m*\u001b[39m\u001b[38;5;241m*\u001b[39mkwargs,\n\u001b[1;32m    513\u001b[0m     block\u001b[38;5;241m=\u001b[39mblock,\n\u001b[1;32m    514\u001b[0m     data_type\u001b[38;5;241m=\u001b[39mdata_type,\n\u001b[1;32m    515\u001b[0m     log_on_exception\u001b[38;5;241m=\u001b[39mlog_on_exception,\n\u001b[1;32m    516\u001b[0m     case_sensitive\u001b[38;5;241m=\u001b[39mcase_sensitive,\n\u001b[1;32m    517\u001b[0m )\n\u001b[1;32m    518\u001b[0m \u001b[38;5;28;01mif\u001b[39;00m \u001b[38;5;129;01mnot\u001b[39;00m block:\n\u001b[1;32m    519\u001b[0m     \u001b[38;5;28;01mreturn\u001b[39;00m result_set\n",
      "File \u001b[0;32m~/opt/anaconda3/envs/snowpark-de-ml/lib/python3.11/site-packages/snowflake/snowpark/_internal/analyzer/snowflake_plan.py:185\u001b[0m, in \u001b[0;36mSnowflakePlan.Decorator.wrap_exception.<locals>.wrap\u001b[0;34m(*args, **kwargs)\u001b[0m\n\u001b[1;32m    181\u001b[0m \u001b[38;5;28;01melse\u001b[39;00m:\n\u001b[1;32m    182\u001b[0m     ne \u001b[38;5;241m=\u001b[39m SnowparkClientExceptionMessages\u001b[38;5;241m.\u001b[39mSQL_EXCEPTION_FROM_PROGRAMMING_ERROR(\n\u001b[1;32m    183\u001b[0m         e\n\u001b[1;32m    184\u001b[0m     )\n\u001b[0;32m--> 185\u001b[0m     \u001b[38;5;28;01mraise\u001b[39;00m ne\u001b[38;5;241m.\u001b[39mwith_traceback(tb) \u001b[38;5;28;01mfrom\u001b[39;00m \u001b[38;5;28;01mNone\u001b[39;00m\n",
      "File \u001b[0;32m~/opt/anaconda3/envs/snowpark-de-ml/lib/python3.11/site-packages/snowflake/snowpark/_internal/analyzer/snowflake_plan.py:116\u001b[0m, in \u001b[0;36mSnowflakePlan.Decorator.wrap_exception.<locals>.wrap\u001b[0;34m(*args, **kwargs)\u001b[0m\n\u001b[1;32m    114\u001b[0m \u001b[38;5;28;01mdef\u001b[39;00m \u001b[38;5;21mwrap\u001b[39m(\u001b[38;5;241m*\u001b[39margs, \u001b[38;5;241m*\u001b[39m\u001b[38;5;241m*\u001b[39mkwargs):\n\u001b[1;32m    115\u001b[0m     \u001b[38;5;28;01mtry\u001b[39;00m:\n\u001b[0;32m--> 116\u001b[0m         \u001b[38;5;28;01mreturn\u001b[39;00m func(\u001b[38;5;241m*\u001b[39margs, \u001b[38;5;241m*\u001b[39m\u001b[38;5;241m*\u001b[39mkwargs)\n\u001b[1;32m    117\u001b[0m     \u001b[38;5;28;01mexcept\u001b[39;00m snowflake\u001b[38;5;241m.\u001b[39mconnector\u001b[38;5;241m.\u001b[39merrors\u001b[38;5;241m.\u001b[39mProgrammingError \u001b[38;5;28;01mas\u001b[39;00m e:\n\u001b[1;32m    118\u001b[0m         query \u001b[38;5;241m=\u001b[39m \u001b[38;5;28mgetattr\u001b[39m(e, \u001b[38;5;124m\"\u001b[39m\u001b[38;5;124mquery\u001b[39m\u001b[38;5;124m\"\u001b[39m, \u001b[38;5;28;01mNone\u001b[39;00m)\n",
      "File \u001b[0;32m~/opt/anaconda3/envs/snowpark-de-ml/lib/python3.11/site-packages/snowflake/snowpark/_internal/server_connection.py:609\u001b[0m, in \u001b[0;36mServerConnection.get_result_set\u001b[0;34m(self, plan, to_pandas, to_iter, block, data_type, log_on_exception, case_sensitive, **kwargs)\u001b[0m\n\u001b[1;32m    607\u001b[0m \u001b[38;5;28;01mfor\u001b[39;00m holder, id_ \u001b[38;5;129;01min\u001b[39;00m placeholders\u001b[38;5;241m.\u001b[39mitems():\n\u001b[1;32m    608\u001b[0m     final_query \u001b[38;5;241m=\u001b[39m final_query\u001b[38;5;241m.\u001b[39mreplace(holder, id_)\n\u001b[0;32m--> 609\u001b[0m result \u001b[38;5;241m=\u001b[39m \u001b[38;5;28mself\u001b[39m\u001b[38;5;241m.\u001b[39mrun_query(\n\u001b[1;32m    610\u001b[0m     final_query,\n\u001b[1;32m    611\u001b[0m     to_pandas,\n\u001b[1;32m    612\u001b[0m     to_iter \u001b[38;5;129;01mand\u001b[39;00m (i \u001b[38;5;241m==\u001b[39m \u001b[38;5;28mlen\u001b[39m(plan\u001b[38;5;241m.\u001b[39mqueries) \u001b[38;5;241m-\u001b[39m \u001b[38;5;241m1\u001b[39m),\n\u001b[1;32m    613\u001b[0m     is_ddl_on_temp_object\u001b[38;5;241m=\u001b[39mquery\u001b[38;5;241m.\u001b[39mis_ddl_on_temp_object,\n\u001b[1;32m    614\u001b[0m     block\u001b[38;5;241m=\u001b[39m\u001b[38;5;129;01mnot\u001b[39;00m is_last,\n\u001b[1;32m    615\u001b[0m     data_type\u001b[38;5;241m=\u001b[39mdata_type,\n\u001b[1;32m    616\u001b[0m     async_job_plan\u001b[38;5;241m=\u001b[39mplan,\n\u001b[1;32m    617\u001b[0m     log_on_exception\u001b[38;5;241m=\u001b[39mlog_on_exception,\n\u001b[1;32m    618\u001b[0m     case_sensitive\u001b[38;5;241m=\u001b[39mcase_sensitive,\n\u001b[1;32m    619\u001b[0m     params\u001b[38;5;241m=\u001b[39mquery\u001b[38;5;241m.\u001b[39mparams,\n\u001b[1;32m    620\u001b[0m     \u001b[38;5;241m*\u001b[39m\u001b[38;5;241m*\u001b[39mkwargs,\n\u001b[1;32m    621\u001b[0m )\n\u001b[1;32m    622\u001b[0m placeholders[query\u001b[38;5;241m.\u001b[39mquery_id_place_holder] \u001b[38;5;241m=\u001b[39m (\n\u001b[1;32m    623\u001b[0m     result[\u001b[38;5;124m\"\u001b[39m\u001b[38;5;124msfqid\u001b[39m\u001b[38;5;124m\"\u001b[39m] \u001b[38;5;28;01mif\u001b[39;00m \u001b[38;5;129;01mnot\u001b[39;00m is_last \u001b[38;5;28;01melse\u001b[39;00m result\u001b[38;5;241m.\u001b[39mquery_id\n\u001b[1;32m    624\u001b[0m )\n\u001b[1;32m    625\u001b[0m result_meta \u001b[38;5;241m=\u001b[39m get_new_description(\u001b[38;5;28mself\u001b[39m\u001b[38;5;241m.\u001b[39m_cursor)\n",
      "File \u001b[0;32m~/opt/anaconda3/envs/snowpark-de-ml/lib/python3.11/site-packages/snowflake/snowpark/_internal/server_connection.py:123\u001b[0m, in \u001b[0;36mServerConnection._Decorator.wrap_exception.<locals>.wrap\u001b[0;34m(*args, **kwargs)\u001b[0m\n\u001b[1;32m    119\u001b[0m     \u001b[38;5;28;01mraise\u001b[39;00m SnowparkClientExceptionMessages\u001b[38;5;241m.\u001b[39mSERVER_SESSION_EXPIRED(\n\u001b[1;32m    120\u001b[0m         ex\u001b[38;5;241m.\u001b[39mcause\n\u001b[1;32m    121\u001b[0m     )\n\u001b[1;32m    122\u001b[0m \u001b[38;5;28;01mexcept\u001b[39;00m \u001b[38;5;167;01mException\u001b[39;00m \u001b[38;5;28;01mas\u001b[39;00m ex:\n\u001b[0;32m--> 123\u001b[0m     \u001b[38;5;28;01mraise\u001b[39;00m ex\n",
      "File \u001b[0;32m~/opt/anaconda3/envs/snowpark-de-ml/lib/python3.11/site-packages/snowflake/snowpark/_internal/server_connection.py:117\u001b[0m, in \u001b[0;36mServerConnection._Decorator.wrap_exception.<locals>.wrap\u001b[0;34m(*args, **kwargs)\u001b[0m\n\u001b[1;32m    115\u001b[0m     \u001b[38;5;28;01mraise\u001b[39;00m SnowparkClientExceptionMessages\u001b[38;5;241m.\u001b[39mSERVER_SESSION_HAS_BEEN_CLOSED()\n\u001b[1;32m    116\u001b[0m \u001b[38;5;28;01mtry\u001b[39;00m:\n\u001b[0;32m--> 117\u001b[0m     \u001b[38;5;28;01mreturn\u001b[39;00m func(\u001b[38;5;241m*\u001b[39margs, \u001b[38;5;241m*\u001b[39m\u001b[38;5;241m*\u001b[39mkwargs)\n\u001b[1;32m    118\u001b[0m \u001b[38;5;28;01mexcept\u001b[39;00m ReauthenticationRequest \u001b[38;5;28;01mas\u001b[39;00m ex:\n\u001b[1;32m    119\u001b[0m     \u001b[38;5;28;01mraise\u001b[39;00m SnowparkClientExceptionMessages\u001b[38;5;241m.\u001b[39mSERVER_SESSION_EXPIRED(\n\u001b[1;32m    120\u001b[0m         ex\u001b[38;5;241m.\u001b[39mcause\n\u001b[1;32m    121\u001b[0m     )\n",
      "File \u001b[0;32m~/opt/anaconda3/envs/snowpark-de-ml/lib/python3.11/site-packages/snowflake/snowpark/_internal/server_connection.py:415\u001b[0m, in \u001b[0;36mServerConnection.run_query\u001b[0;34m(self, query, to_pandas, to_iter, is_ddl_on_temp_object, block, data_type, async_job_plan, log_on_exception, case_sensitive, params, num_statements, **kwargs)\u001b[0m\n\u001b[1;32m    413\u001b[0m         query_id_log \u001b[38;5;241m=\u001b[39m \u001b[38;5;124mf\u001b[39m\u001b[38;5;124m\"\u001b[39m\u001b[38;5;124m [queryID: \u001b[39m\u001b[38;5;132;01m{\u001b[39;00mex\u001b[38;5;241m.\u001b[39msfqid\u001b[38;5;132;01m}\u001b[39;00m\u001b[38;5;124m]\u001b[39m\u001b[38;5;124m\"\u001b[39m \u001b[38;5;28;01mif\u001b[39;00m \u001b[38;5;28mhasattr\u001b[39m(ex, \u001b[38;5;124m\"\u001b[39m\u001b[38;5;124msfqid\u001b[39m\u001b[38;5;124m\"\u001b[39m) \u001b[38;5;28;01melse\u001b[39;00m \u001b[38;5;124m\"\u001b[39m\u001b[38;5;124m\"\u001b[39m\n\u001b[1;32m    414\u001b[0m         logger\u001b[38;5;241m.\u001b[39merror(\u001b[38;5;124mf\u001b[39m\u001b[38;5;124m\"\u001b[39m\u001b[38;5;124mFailed to execute query\u001b[39m\u001b[38;5;132;01m{\u001b[39;00mquery_id_log\u001b[38;5;132;01m}\u001b[39;00m\u001b[38;5;124m \u001b[39m\u001b[38;5;132;01m{\u001b[39;00mquery\u001b[38;5;132;01m}\u001b[39;00m\u001b[38;5;130;01m\\n\u001b[39;00m\u001b[38;5;132;01m{\u001b[39;00mex\u001b[38;5;132;01m}\u001b[39;00m\u001b[38;5;124m\"\u001b[39m)\n\u001b[0;32m--> 415\u001b[0m     \u001b[38;5;28;01mraise\u001b[39;00m ex\n\u001b[1;32m    417\u001b[0m \u001b[38;5;66;03m# fetch_pandas_all/batches() only works for SELECT statements\u001b[39;00m\n\u001b[1;32m    418\u001b[0m \u001b[38;5;66;03m# We call fetchall() if fetch_pandas_all/batches() fails,\u001b[39;00m\n\u001b[1;32m    419\u001b[0m \u001b[38;5;66;03m# because when the query plan has multiple queries, it will\u001b[39;00m\n\u001b[1;32m    420\u001b[0m \u001b[38;5;66;03m# have non-select statements, and it shouldn't fail if the user\u001b[39;00m\n\u001b[1;32m    421\u001b[0m \u001b[38;5;66;03m# calls to_pandas() to execute the query.\u001b[39;00m\n\u001b[1;32m    422\u001b[0m \u001b[38;5;28;01mif\u001b[39;00m block:\n",
      "File \u001b[0;32m~/opt/anaconda3/envs/snowpark-de-ml/lib/python3.11/site-packages/snowflake/snowpark/_internal/server_connection.py:400\u001b[0m, in \u001b[0;36mServerConnection.run_query\u001b[0;34m(self, query, to_pandas, to_iter, is_ddl_on_temp_object, block, data_type, async_job_plan, log_on_exception, case_sensitive, params, num_statements, **kwargs)\u001b[0m\n\u001b[1;32m    398\u001b[0m     kwargs[\u001b[38;5;124m\"\u001b[39m\u001b[38;5;124m_statement_params\u001b[39m\u001b[38;5;124m\"\u001b[39m][\u001b[38;5;124m\"\u001b[39m\u001b[38;5;124mSNOWPARK_SKIP_TXN_COMMIT_IN_DDL\u001b[39m\u001b[38;5;124m\"\u001b[39m] \u001b[38;5;241m=\u001b[39m \u001b[38;5;28;01mTrue\u001b[39;00m\n\u001b[1;32m    399\u001b[0m \u001b[38;5;28;01mif\u001b[39;00m block:\n\u001b[0;32m--> 400\u001b[0m     results_cursor \u001b[38;5;241m=\u001b[39m \u001b[38;5;28mself\u001b[39m\u001b[38;5;241m.\u001b[39mexecute_and_notify_query_listener(\n\u001b[1;32m    401\u001b[0m         query, params\u001b[38;5;241m=\u001b[39mparams, \u001b[38;5;241m*\u001b[39m\u001b[38;5;241m*\u001b[39mkwargs\n\u001b[1;32m    402\u001b[0m     )\n\u001b[1;32m    403\u001b[0m     logger\u001b[38;5;241m.\u001b[39mdebug(\u001b[38;5;124mf\u001b[39m\u001b[38;5;124m\"\u001b[39m\u001b[38;5;124mExecute query [queryID: \u001b[39m\u001b[38;5;132;01m{\u001b[39;00mresults_cursor\u001b[38;5;241m.\u001b[39msfqid\u001b[38;5;132;01m}\u001b[39;00m\u001b[38;5;124m] \u001b[39m\u001b[38;5;132;01m{\u001b[39;00mquery\u001b[38;5;132;01m}\u001b[39;00m\u001b[38;5;124m\"\u001b[39m)\n\u001b[1;32m    404\u001b[0m \u001b[38;5;28;01melse\u001b[39;00m:\n",
      "File \u001b[0;32m~/opt/anaconda3/envs/snowpark-de-ml/lib/python3.11/site-packages/snowflake/snowpark/_internal/server_connection.py:352\u001b[0m, in \u001b[0;36mServerConnection.execute_and_notify_query_listener\u001b[0;34m(self, query, **kwargs)\u001b[0m\n\u001b[1;32m    349\u001b[0m \u001b[38;5;28;01mdef\u001b[39;00m \u001b[38;5;21mexecute_and_notify_query_listener\u001b[39m(\n\u001b[1;32m    350\u001b[0m     \u001b[38;5;28mself\u001b[39m, query: \u001b[38;5;28mstr\u001b[39m, \u001b[38;5;241m*\u001b[39m\u001b[38;5;241m*\u001b[39mkwargs: Any\n\u001b[1;32m    351\u001b[0m ) \u001b[38;5;241m-\u001b[39m\u001b[38;5;241m>\u001b[39m SnowflakeCursor:\n\u001b[0;32m--> 352\u001b[0m     results_cursor \u001b[38;5;241m=\u001b[39m \u001b[38;5;28mself\u001b[39m\u001b[38;5;241m.\u001b[39m_cursor\u001b[38;5;241m.\u001b[39mexecute(query, \u001b[38;5;241m*\u001b[39m\u001b[38;5;241m*\u001b[39mkwargs)\n\u001b[1;32m    353\u001b[0m     \u001b[38;5;28mself\u001b[39m\u001b[38;5;241m.\u001b[39mnotify_query_listeners(\n\u001b[1;32m    354\u001b[0m         QueryRecord(results_cursor\u001b[38;5;241m.\u001b[39msfqid, results_cursor\u001b[38;5;241m.\u001b[39mquery)\n\u001b[1;32m    355\u001b[0m     )\n\u001b[1;32m    356\u001b[0m     \u001b[38;5;28;01mreturn\u001b[39;00m results_cursor\n",
      "File \u001b[0;32m~/opt/anaconda3/envs/snowpark-de-ml/lib/python3.11/site-packages/snowflake/connector/cursor.py:1136\u001b[0m, in \u001b[0;36mSnowflakeCursor.execute\u001b[0;34m(self, command, params, _bind_stage, timeout, _exec_async, _no_retry, _do_reset, _put_callback, _put_azure_callback, _put_callback_output_stream, _get_callback, _get_azure_callback, _get_callback_output_stream, _show_progress_bar, _statement_params, _is_internal, _describe_only, _no_results, _is_put_get, _raise_put_get_error, _force_put_overwrite, _skip_upload_on_content_match, file_stream, num_statements)\u001b[0m\n\u001b[1;32m   1132\u001b[0m     is_integrity_error \u001b[38;5;241m=\u001b[39m (\n\u001b[1;32m   1133\u001b[0m         code \u001b[38;5;241m==\u001b[39m \u001b[38;5;124m\"\u001b[39m\u001b[38;5;124m100072\u001b[39m\u001b[38;5;124m\"\u001b[39m\n\u001b[1;32m   1134\u001b[0m     )  \u001b[38;5;66;03m# NULL result in a non-nullable column\u001b[39;00m\n\u001b[1;32m   1135\u001b[0m     error_class \u001b[38;5;241m=\u001b[39m IntegrityError \u001b[38;5;28;01mif\u001b[39;00m is_integrity_error \u001b[38;5;28;01melse\u001b[39;00m ProgrammingError\n\u001b[0;32m-> 1136\u001b[0m     Error\u001b[38;5;241m.\u001b[39merrorhandler_wrapper(\u001b[38;5;28mself\u001b[39m\u001b[38;5;241m.\u001b[39mconnection, \u001b[38;5;28mself\u001b[39m, error_class, errvalue)\n\u001b[1;32m   1137\u001b[0m \u001b[38;5;28;01mreturn\u001b[39;00m \u001b[38;5;28mself\u001b[39m\n",
      "File \u001b[0;32m~/opt/anaconda3/envs/snowpark-de-ml/lib/python3.11/site-packages/snowflake/connector/errors.py:290\u001b[0m, in \u001b[0;36mError.errorhandler_wrapper\u001b[0;34m(connection, cursor, error_class, error_value)\u001b[0m\n\u001b[1;32m    267\u001b[0m \u001b[38;5;129m@staticmethod\u001b[39m\n\u001b[1;32m    268\u001b[0m \u001b[38;5;28;01mdef\u001b[39;00m \u001b[38;5;21merrorhandler_wrapper\u001b[39m(\n\u001b[1;32m    269\u001b[0m     connection: SnowflakeConnection \u001b[38;5;241m|\u001b[39m \u001b[38;5;28;01mNone\u001b[39;00m,\n\u001b[0;32m   (...)\u001b[0m\n\u001b[1;32m    272\u001b[0m     error_value: \u001b[38;5;28mdict\u001b[39m[\u001b[38;5;28mstr\u001b[39m, Any],\n\u001b[1;32m    273\u001b[0m ) \u001b[38;5;241m-\u001b[39m\u001b[38;5;241m>\u001b[39m \u001b[38;5;28;01mNone\u001b[39;00m:\n\u001b[1;32m    274\u001b[0m \u001b[38;5;250m    \u001b[39m\u001b[38;5;124;03m\"\"\"Error handler wrapper that calls the errorhandler method.\u001b[39;00m\n\u001b[1;32m    275\u001b[0m \n\u001b[1;32m    276\u001b[0m \u001b[38;5;124;03m    Args:\u001b[39;00m\n\u001b[0;32m   (...)\u001b[0m\n\u001b[1;32m    287\u001b[0m \u001b[38;5;124;03m        exception to the first handler in that order.\u001b[39;00m\n\u001b[1;32m    288\u001b[0m \u001b[38;5;124;03m    \"\"\"\u001b[39;00m\n\u001b[0;32m--> 290\u001b[0m     handed_over \u001b[38;5;241m=\u001b[39m Error\u001b[38;5;241m.\u001b[39mhand_to_other_handler(\n\u001b[1;32m    291\u001b[0m         connection,\n\u001b[1;32m    292\u001b[0m         cursor,\n\u001b[1;32m    293\u001b[0m         error_class,\n\u001b[1;32m    294\u001b[0m         error_value,\n\u001b[1;32m    295\u001b[0m     )\n\u001b[1;32m    296\u001b[0m     \u001b[38;5;28;01mif\u001b[39;00m \u001b[38;5;129;01mnot\u001b[39;00m handed_over:\n\u001b[1;32m    297\u001b[0m         \u001b[38;5;28;01mraise\u001b[39;00m Error\u001b[38;5;241m.\u001b[39merrorhandler_make_exception(\n\u001b[1;32m    298\u001b[0m             error_class,\n\u001b[1;32m    299\u001b[0m             error_value,\n\u001b[1;32m    300\u001b[0m         )\n",
      "File \u001b[0;32m~/opt/anaconda3/envs/snowpark-de-ml/lib/python3.11/site-packages/snowflake/connector/errors.py:345\u001b[0m, in \u001b[0;36mError.hand_to_other_handler\u001b[0;34m(connection, cursor, error_class, error_value)\u001b[0m\n\u001b[1;32m    343\u001b[0m \u001b[38;5;28;01mif\u001b[39;00m cursor \u001b[38;5;129;01mis\u001b[39;00m \u001b[38;5;129;01mnot\u001b[39;00m \u001b[38;5;28;01mNone\u001b[39;00m:\n\u001b[1;32m    344\u001b[0m     cursor\u001b[38;5;241m.\u001b[39mmessages\u001b[38;5;241m.\u001b[39mappend((error_class, error_value))\n\u001b[0;32m--> 345\u001b[0m     cursor\u001b[38;5;241m.\u001b[39merrorhandler(connection, cursor, error_class, error_value)\n\u001b[1;32m    346\u001b[0m     \u001b[38;5;28;01mreturn\u001b[39;00m \u001b[38;5;28;01mTrue\u001b[39;00m\n\u001b[1;32m    347\u001b[0m \u001b[38;5;28;01melif\u001b[39;00m connection \u001b[38;5;129;01mis\u001b[39;00m \u001b[38;5;129;01mnot\u001b[39;00m \u001b[38;5;28;01mNone\u001b[39;00m:\n",
      "File \u001b[0;32m~/opt/anaconda3/envs/snowpark-de-ml/lib/python3.11/site-packages/snowflake/connector/errors.py:221\u001b[0m, in \u001b[0;36mError.default_errorhandler\u001b[0;34m(connection, cursor, error_class, error_value)\u001b[0m\n\u001b[1;32m    219\u001b[0m errno \u001b[38;5;241m=\u001b[39m error_value\u001b[38;5;241m.\u001b[39mget(\u001b[38;5;124m\"\u001b[39m\u001b[38;5;124merrno\u001b[39m\u001b[38;5;124m\"\u001b[39m)\n\u001b[1;32m    220\u001b[0m done_format_msg \u001b[38;5;241m=\u001b[39m error_value\u001b[38;5;241m.\u001b[39mget(\u001b[38;5;124m\"\u001b[39m\u001b[38;5;124mdone_format_msg\u001b[39m\u001b[38;5;124m\"\u001b[39m)\n\u001b[0;32m--> 221\u001b[0m \u001b[38;5;28;01mraise\u001b[39;00m error_class(\n\u001b[1;32m    222\u001b[0m     msg\u001b[38;5;241m=\u001b[39merror_value\u001b[38;5;241m.\u001b[39mget(\u001b[38;5;124m\"\u001b[39m\u001b[38;5;124mmsg\u001b[39m\u001b[38;5;124m\"\u001b[39m),\n\u001b[1;32m    223\u001b[0m     errno\u001b[38;5;241m=\u001b[39m\u001b[38;5;28;01mNone\u001b[39;00m \u001b[38;5;28;01mif\u001b[39;00m errno \u001b[38;5;129;01mis\u001b[39;00m \u001b[38;5;28;01mNone\u001b[39;00m \u001b[38;5;28;01melse\u001b[39;00m \u001b[38;5;28mint\u001b[39m(errno),\n\u001b[1;32m    224\u001b[0m     sqlstate\u001b[38;5;241m=\u001b[39merror_value\u001b[38;5;241m.\u001b[39mget(\u001b[38;5;124m\"\u001b[39m\u001b[38;5;124msqlstate\u001b[39m\u001b[38;5;124m\"\u001b[39m),\n\u001b[1;32m    225\u001b[0m     sfqid\u001b[38;5;241m=\u001b[39merror_value\u001b[38;5;241m.\u001b[39mget(\u001b[38;5;124m\"\u001b[39m\u001b[38;5;124msfqid\u001b[39m\u001b[38;5;124m\"\u001b[39m),\n\u001b[1;32m    226\u001b[0m     query\u001b[38;5;241m=\u001b[39merror_value\u001b[38;5;241m.\u001b[39mget(\u001b[38;5;124m\"\u001b[39m\u001b[38;5;124mquery\u001b[39m\u001b[38;5;124m\"\u001b[39m),\n\u001b[1;32m    227\u001b[0m     done_format_msg\u001b[38;5;241m=\u001b[39m(\n\u001b[1;32m    228\u001b[0m         \u001b[38;5;28;01mNone\u001b[39;00m \u001b[38;5;28;01mif\u001b[39;00m done_format_msg \u001b[38;5;129;01mis\u001b[39;00m \u001b[38;5;28;01mNone\u001b[39;00m \u001b[38;5;28;01melse\u001b[39;00m \u001b[38;5;28mbool\u001b[39m(done_format_msg)\n\u001b[1;32m    229\u001b[0m     ),\n\u001b[1;32m    230\u001b[0m     connection\u001b[38;5;241m=\u001b[39mconnection,\n\u001b[1;32m    231\u001b[0m     cursor\u001b[38;5;241m=\u001b[39mcursor,\n\u001b[1;32m    232\u001b[0m )\n",
      "\u001b[0;31mSnowparkSQLException\u001b[0m: (1304): 01b39044-0105-1033-004d-eb87008ead02: 000606 (57P03): No active warehouse selected in the current session.  Select an active warehouse with the 'use warehouse' command.\n"
     ]
    }
   ],
   "source": [
    "#get your pivot list without hardcoding\n",
    "\n"
   ]
  },
  {
   "cell_type": "markdown",
   "id": "b1ef1a46-6a06-4fbd-b469-55c77f3623c6",
   "metadata": {},
   "source": [
    "#### Lets leverage some handy snowpark functions to perform our aggregate and clean up column definitions post agg\n",
    "\n",
    "[Docs: Snowpark Dataframe Agg](https://docs.snowflake.com/en/developer-guide/snowpark/reference/python/1.7.0/api/snowflake.snowpark.DataFrame.agg)"
   ]
  },
  {
   "cell_type": "code",
   "execution_count": 16,
   "id": "ddb6808f-48e5-464a-a4db-21e8cd4aa45f",
   "metadata": {
    "collapsed": true,
    "jupyter": {
     "outputs_hidden": true,
     "source_hidden": true
    }
   },
   "outputs": [
    {
     "name": "stdout",
     "output_type": "stream",
     "text": [
      "-----------------------------------------------------------------------------------\n",
      "|\"YEAR\"  |\"MONTH\"  |\"'video'\"  |\"'search_engine'\"  |\"'social_media'\"  |\"'email'\"  |\n",
      "-----------------------------------------------------------------------------------\n",
      "|2012    |5        |516729     |516431             |517618            |517208     |\n",
      "|2012    |6        |501098     |506497             |504679            |501947     |\n",
      "|2012    |7        |522762     |522780             |521395            |518405     |\n",
      "|2012    |8        |520685     |519959             |520537            |521584     |\n",
      "|2012    |9        |511364     |507211             |507404            |507363     |\n",
      "|2012    |10       |522768     |518942             |520863            |519950     |\n",
      "|2012    |11       |505292     |505715             |505221            |503748     |\n",
      "|2012    |12       |521427     |520148             |520711            |520724     |\n",
      "|2013    |1        |520583     |522151             |518635            |521167     |\n",
      "|2013    |2        |469856     |467736             |474679            |469784     |\n",
      "-----------------------------------------------------------------------------------\n",
      "\n"
     ]
    }
   ],
   "source": [
    "from snowflake.snowpark.functions import month,year,col, sum\n",
    "\n",
    "\n",
    "#Do the agg\n",
    "#spend_per_month =  campaign_data.group_by(\n",
    "\n",
    "\n",
    "#Do the pivot"
   ]
  },
  {
   "cell_type": "code",
   "execution_count": 17,
   "id": "3fc4f6be-2a93-4877-8a14-5b4ad3efa2cc",
   "metadata": {
    "collapsed": true,
    "jupyter": {
     "outputs_hidden": true,
     "source_hidden": true
    }
   },
   "outputs": [
    {
     "name": "stdout",
     "output_type": "stream",
     "text": [
      "----------------------------------------------------------------------------------------\n",
      "|\"YEAR\"  |\"MONTH\"  |\"SEARCH_ENGINE\"  |\"SOCIAL_MEDIA\"  |\"VIDEO\"  |\"EMAIL\"  |\"REVENUE\"   |\n",
      "----------------------------------------------------------------------------------------\n",
      "|2012    |5        |516431           |517618          |516729   |517208   |3264300.11  |\n",
      "|2012    |6        |506497           |504679          |501098   |501947   |3208482.33  |\n",
      "|2012    |7        |522780           |521395          |522762   |518405   |3311966.98  |\n",
      "|2012    |8        |519959           |520537          |520685   |521584   |3311752.81  |\n",
      "|2012    |9        |507211           |507404          |511364   |507363   |3208563.06  |\n",
      "|2012    |10       |518942           |520863          |522768   |519950   |3334028.46  |\n",
      "|2012    |11       |505715           |505221          |505292   |503748   |3185894.64  |\n",
      "|2012    |12       |520148           |520711          |521427   |520724   |3334570.96  |\n",
      "|2013    |1        |522151           |518635          |520583   |521167   |3316455.44  |\n",
      "|2013    |2        |467736           |474679          |469856   |469784   |2995042.21  |\n",
      "----------------------------------------------------------------------------------------\n",
      "\n"
     ]
    }
   ],
   "source": [
    "#Use a quick select statement to clean up column names and join in the revenue_data\n",
    "\n",
    "spend_per_channel.select(\n",
    "    col(\"YEAR\"),\n",
    "    col(\"MONTH\"),\n",
    "    col(\"'search_engine'\").as_(\"SEARCH_ENGINE\"),\n",
    "    col(\"'social_media'\").as_(\"SOCIAL_MEDIA\"),\n",
    "    col(\"'video'\").as_(\"VIDEO\"),\n",
    "    col(\"'email'\").as_(\"EMAIL\")\n",
    ").\\\n",
    "    join(revenue_data,['YEAR','MONTH']).show()"
   ]
  },
  {
   "cell_type": "markdown",
   "id": "46d272ca-19a4-4649-84f4-ad289bc4db33",
   "metadata": {},
   "source": [
    "### Final Part 1 Challenge: Automation: Run Campaign Spend Data Transformations As a Snowflake Task\n"
   ]
  },
  {
   "cell_type": "code",
   "execution_count": 21,
   "id": "21786df9-a447-45d3-bae7-877ba3afe3a0",
   "metadata": {
    "collapsed": true,
    "jupyter": {
     "outputs_hidden": true,
     "source_hidden": true
    }
   },
   "outputs": [],
   "source": [
    "from snowflake.snowpark.functions import sproc\n",
    "session.use_warehouse(wh_name)\n",
    "session.add_packages('snowflake-snowpark-python')\n",
    "\n",
    "def campaign_spend_data_pipeline(session: Session) -> bool:\n",
    "    \n",
    "    #Load data from stage\n",
    "    campaign_spend_data = session.read.options(\n",
    "        {'file_format':'csv',\n",
    "        'infer_schema':True,\n",
    "        'parse_header':True}).csv('@campaign_data_stage')\n",
    "\n",
    "\n",
    "    revenue_data = session.read.options(\n",
    "        {'file_format':'csv',\n",
    "        'infer_schema':True,\n",
    "        'parse_header':True}).csv('@monthly_revenue_data_stage')\n",
    "    \n",
    "    # Dynamically get list of channels to pivot\n",
    "    channel_pivot_list = list(campaign_spend_data.select('channel').distinct().to_pandas().CHANNEL)\n",
    "\n",
    "    #Get Aggregate\n",
    "    spend_per_month = campaign_spend_data.group_by(\n",
    "        year('DATE'),\n",
    "        month('DATE'),\n",
    "        'CHANNEL').agg(\n",
    "                    sum('TOTAL_COST').as_('TOTAL_COST')).\\\n",
    "                                        with_column_renamed('\"YEAR(DATE)\"',\"YEAR\").\\\n",
    "                                        with_column_renamed('\"MONTH(DATE)\"',\"MONTH\").sort('YEAR','MONTH')\n",
    "\n",
    "\n",
    "    spend_per_channel = spend_per_month.pivot('CHANNEL', channel_pivot_list).sum('TOTAL_COST').sort('YEAR','MONTH').\\\n",
    "                                        select(\n",
    "                                            col(\"YEAR\"),\n",
    "                                            col(\"MONTH\"),\n",
    "                                            col(\"'search_engine'\").as_(\"SEARCH_ENGINE\"),\n",
    "                                            col(\"'social_media'\").as_(\"SOCIAL_MEDIA\"),\n",
    "                                            col(\"'video'\").as_(\"VIDEO\"),\n",
    "                                            col(\"'email'\").as_(\"EMAIL\")\n",
    "                                        )\n",
    "\n",
    "\n",
    "    \n",
    "    spend_and_revenue = spend_per_channel.join(revenue_data, ['YEAR' ,'MONTH'])\n",
    "    #write to snowflake\n",
    "    \n",
    "\n",
    "    return True"
   ]
  },
  {
   "cell_type": "markdown",
   "id": "af026964-c32b-441a-9b5f-c0b1a23d411a",
   "metadata": {},
   "source": [
    "[Docs: Python API - Tasks](https://docs.snowflake.com/en/developer-guide/snowflake-python-api/snowflake-python-managing-tasks) \n"
   ]
  },
  {
   "cell_type": "code",
   "execution_count": 22,
   "id": "3900ccf3-f5f6-4237-ac7f-891c0b2ffbea",
   "metadata": {
    "collapsed": true,
    "jupyter": {
     "outputs_hidden": true,
     "source_hidden": true
    }
   },
   "outputs": [
    {
     "data": {
      "text/plain": [
       "[Row(status='Task MY_TASK successfully created.')]"
      ]
     },
     "execution_count": 22,
     "metadata": {},
     "output_type": "execute_result"
    }
   ],
   "source": [
    "session.use_database(db_name)\n",
    "session.use_schema(schema_name)\n",
    "session.sproc.register(campaign_spend_data_pipeline, name='campaign_spend_pipeline', replace = True)\n",
    "session.sql(\"create or replace task my_task as call campaign_spend_pipeline();\").collect()"
   ]
  },
  {
   "cell_type": "code",
   "execution_count": 23,
   "id": "97a2d366-e9b2-4164-81e2-67080034bafa",
   "metadata": {
    "collapsed": true,
    "jupyter": {
     "outputs_hidden": true,
     "source_hidden": true
    }
   },
   "outputs": [],
   "source": [
    "# Create  Stored Procedure and Task from my python function\n",
    "\n",
    "from snowflake.core.task import Task, StoredProcedureCall, Cron\n",
    "from datetime import timedelta\n",
    "\n",
    "#create a repo called snowpark_stage\n",
    "session.sql('create or replace stage snowpark_stage').collect()\n",
    "\n",
    "#Define your Task \n",
    "run_campaign_task_d =  Task('campaign_spend_pipeline', \n",
    "                          StoredProcedureCall(campaign_spend_data_pipeline, \n",
    "                                              stage_location='@snowpark_stage',\n",
    "                                              packages=[\"snowflake-snowpark-python\"]\n",
    "                                             ) ,\n",
    "                           schedule= Cron('0 0 2 * *', timezone = 'UTC'),\n",
    "                           warehouse= wh_name\n",
    "                                             )\n"
   ]
  },
  {
   "cell_type": "code",
   "execution_count": 24,
   "id": "f3f0c214-66fd-4647-a4d1-0890f4bb69ba",
   "metadata": {
    "collapsed": true,
    "jupyter": {
     "outputs_hidden": true,
     "source_hidden": true
    }
   },
   "outputs": [],
   "source": [
    "#use root to create the task. HINT: Tasks are schema level objects\n",
    "t= root.databases[db_name].schemas[schema_name].tasks.create(run_campaign_task_d, mode='orreplace')\n"
   ]
  },
  {
   "cell_type": "markdown",
   "id": "e33d0e56-ff14-4162-9a1f-ff00b0f96342",
   "metadata": {},
   "source": [
    "#### Final Checkpoint for Part 1. Do you have a clean table ready for ML training that looks like the below?"
   ]
  },
  {
   "cell_type": "code",
   "execution_count": 35,
   "id": "6966417b-187c-400b-a517-f7211b67c9f2",
   "metadata": {
    "collapsed": true,
    "jupyter": {
     "outputs_hidden": true,
     "source_hidden": true
    }
   },
   "outputs": [
    {
     "name": "stdout",
     "output_type": "stream",
     "text": [
      "----------------------------------------------------------------------------------------\n",
      "|\"YEAR\"  |\"MONTH\"  |\"SEARCH_ENGINE\"  |\"SOCIAL_MEDIA\"  |\"VIDEO\"  |\"EMAIL\"  |\"REVENUE\"   |\n",
      "----------------------------------------------------------------------------------------\n",
      "|2012    |5        |516431           |517618          |516729   |517208   |3264300.11  |\n",
      "|2012    |6        |506497           |504679          |501098   |501947   |3208482.33  |\n",
      "|2012    |7        |522780           |521395          |522762   |518405   |3311966.98  |\n",
      "|2012    |8        |519959           |520537          |520685   |521584   |3311752.81  |\n",
      "|2012    |9        |507211           |507404          |511364   |507363   |3208563.06  |\n",
      "|2012    |10       |518942           |520863          |522768   |519950   |3334028.46  |\n",
      "|2012    |11       |505715           |505221          |505292   |503748   |3185894.64  |\n",
      "|2012    |12       |520148           |520711          |521427   |520724   |3334570.96  |\n",
      "|2013    |1        |522151           |518635          |520583   |521167   |3316455.44  |\n",
      "|2013    |2        |467736           |474679          |469856   |469784   |2995042.21  |\n",
      "----------------------------------------------------------------------------------------\n",
      "\n"
     ]
    }
   ],
   "source": [
    "snow_df_spend_and_revenue_per_month = session.table('SPEND_AND_REVENUE_PER_MONTH')\n",
    "snow_df_spend_and_revenue_per_month.show()"
   ]
  },
  {
   "cell_type": "code",
   "execution_count": 31,
   "id": "5b691031-07ea-44f9-acf3-811734bac014",
   "metadata": {
    "collapsed": true,
    "jupyter": {
     "outputs_hidden": true,
     "source_hidden": true
    }
   },
   "outputs": [],
   "source": [
    "t.execute()"
   ]
  },
  {
   "cell_type": "markdown",
   "id": "507807a1-e5af-4f2e-93b6-03a81fa382e8",
   "metadata": {},
   "source": [
    "# Part 2 - Data Science and MLOps with Snowpark ML\n"
   ]
  },
  {
   "cell_type": "code",
   "execution_count": 39,
   "id": "d69d8feb-8f8d-4104-a8d0-e3a40f25d925",
   "metadata": {
    "collapsed": true,
    "jupyter": {
     "outputs_hidden": true,
     "source_hidden": true
    }
   },
   "outputs": [],
   "source": [
    "from snowflake.ml.modeling.compose import ColumnTransformer\n",
    "from snowflake.ml.modeling.pipeline import Pipeline\n",
    "from snowflake.ml.modeling.preprocessing import PolynomialFeatures, StandardScaler\n",
    "from snowflake.ml.modeling.linear_model import LinearRegression\n",
    "from snowflake.ml.modeling.model_selection import GridSearchCV\n",
    "from snowflake.ml.registry import Registry\n",
    "\n"
   ]
  },
  {
   "cell_type": "markdown",
   "id": "728a2330-7f44-400a-8a9b-7150da6bbc78",
   "metadata": {},
   "source": [
    "### Preprocess your table to get to a Feature table."
   ]
  },
  {
   "cell_type": "markdown",
   "id": "e5760c7a-5f7b-4a7b-a302-130b65c5d3a1",
   "metadata": {},
   "source": [
    "##### Quick Cleaning"
   ]
  },
  {
   "cell_type": "code",
   "execution_count": 36,
   "id": "f5da9f05-69bd-4ceb-9547-b94863be13f0",
   "metadata": {
    "collapsed": true,
    "jupyter": {
     "outputs_hidden": true,
     "source_hidden": true
    }
   },
   "outputs": [],
   "source": [
    "snow_df_spend_and_revenue_per_month = session.table('spend_and_revenue_per_month')\n",
    "\n",
    "# Delete rows with missing values\n",
    "snow_df_spend_and_revenue_per_month = snow_df_spend_and_revenue_per_month.dropna()\n",
    "\n",
    "# Exclude columns we don't need for modeling\n",
    "snow_df_spend_and_revenue_per_month = snow_df_spend_and_revenue_per_month.drop(['YEAR','MONTH'])\n",
    "\n",
    "# Save features into a Snowflake table call MARKETING_BUDGETS_FEATURES\n",
    "snow_df_spend_and_revenue_per_month.write.mode('overwrite').save_as_table('MARKETING_BUDGETS_FEATURES')"
   ]
  },
  {
   "cell_type": "code",
   "execution_count": 38,
   "id": "f271498c-cd8c-49d9-ae45-60f85da05d82",
   "metadata": {
    "collapsed": true,
    "jupyter": {
     "outputs_hidden": true,
     "source_hidden": true
    }
   },
   "outputs": [
    {
     "name": "stdout",
     "output_type": "stream",
     "text": [
      "---------------------------------------------------------------------\n",
      "|\"SEARCH_ENGINE\"  |\"SOCIAL_MEDIA\"  |\"VIDEO\"  |\"EMAIL\"  |\"REVENUE\"   |\n",
      "---------------------------------------------------------------------\n",
      "|516431           |517618          |516729   |517208   |3264300.11  |\n",
      "|506497           |504679          |501098   |501947   |3208482.33  |\n",
      "|522780           |521395          |522762   |518405   |3311966.98  |\n",
      "|519959           |520537          |520685   |521584   |3311752.81  |\n",
      "|507211           |507404          |511364   |507363   |3208563.06  |\n",
      "|518942           |520863          |522768   |519950   |3334028.46  |\n",
      "|505715           |505221          |505292   |503748   |3185894.64  |\n",
      "|520148           |520711          |521427   |520724   |3334570.96  |\n",
      "|522151           |518635          |520583   |521167   |3316455.44  |\n",
      "|467736           |474679          |469856   |469784   |2995042.21  |\n",
      "---------------------------------------------------------------------\n",
      "\n"
     ]
    }
   ],
   "source": [
    "session.table(\"MARKETING_BUDGETS_FEATURES\").show()"
   ]
  },
  {
   "cell_type": "markdown",
   "id": "dedb28f7-fdd7-4801-a3e2-7664402f7d24",
   "metadata": {},
   "source": [
    "##### Feature Preprocessing\n",
    "[Docs: Snowpark ML - Preprocessing](https://docs.snowflake.com/en/developer-guide/snowpark-ml/snowpark-ml-modeling)"
   ]
  },
  {
   "cell_type": "code",
   "execution_count": null,
   "id": "8050a297-ecc7-46c1-97b3-b1d2ae196d18",
   "metadata": {
    "collapsed": true,
    "jupyter": {
     "outputs_hidden": true,
     "source_hidden": true
    }
   },
   "outputs": [],
   "source": [
    "CROSS_VALIDATION_FOLDS = 10\n",
    "POLYNOMIAL_FEATURES_DEGREE = 2\n",
    "root.warehouses.create(Warehouse('TRAINING_WH',size='MEDIUM'), mode='orreplace')\n",
    "# Create train and test Snowpark DataDrames\n",
    "train_df, test_df = session.table(\"MARKETING_BUDGETS_FEATURES\").random_split(weights=[0.8, 0.2], seed=0)\n",
    "\n",
    "# Preprocess the Numeric columns\n",
    "# We apply PolynomialFeatures and StandardScaler preprocessing steps to the numeric columns\n",
    "# NOTE: High degrees can cause overfitting.\n",
    "numeric_features = ['SEARCH_ENGINE','SOCIAL_MEDIA','VIDEO','EMAIL']\n",
    "numeric_transformer = Pipeline(steps=[('poly',PolynomialFeatures(degree = POLYNOMIAL_FEATURES_DEGREE)),('scaler', StandardScaler())])\n",
    "\n",
    "# Combine the preprocessed step together using the Column Transformer module\n",
    "preprocessor = ColumnTransformer(\n",
    "    transformers=[\n",
    "        ('num', numeric_transformer, numeric_features)])\n",
    "\n",
    "# The next step is the integrate d  the features we just preprocessed with our Machine Learning algorithm to enable us to build a model\n",
    "pipeline = Pipeline(steps=[('preprocessor', preprocessor),('classifier', LinearRegression())])\n",
    "parameteres = {}\n",
    "\n",
    "# Use GridSearch to find the best fitting model based on number_of_folds folds\n",
    "model = GridSearchCV(\n",
    "    estimator=pipeline,\n",
    "    param_grid=parameteres,\n",
    "    cv=CROSS_VALIDATION_FOLDS,\n",
    "    label_cols=[\"REVENUE\"],\n",
    "    output_cols=[\"PREDICTED_REVENUE\"],\n",
    "    verbose=2\n",
    ")\n",
    "\n",
    "# Fit and Score\n",
    "model.fit(train_df)\n",
    "train_r2_score = model.score(train_df)\n",
    "test_r2_score = model.score(test_df)\n",
    "\n",
    "# R2 score on train and test datasets\n",
    "print(f\"R2 score on Train : {train_r2_score}\")\n",
    "print(f\"R2 score on Test  : {test_r2_score}\")"
   ]
  },
  {
   "cell_type": "markdown",
   "id": "565eae56-c10e-4b3f-bd9e-c28ffc6752a8",
   "metadata": {},
   "source": [
    "#### Challenge 2: Model Training and MLOps"
   ]
  },
  {
   "cell_type": "markdown",
   "id": "5c390381-7fda-4443-bf2e-96897aba4d5e",
   "metadata": {},
   "source": [
    "##### Use the Model Registry\n",
    "\n",
    "[Docs: Snowpark ML Model Registry](https://docs.snowflake.com/en/developer-guide/snowpark-ml/snowpark-ml-mlops-model-registry#opening-the-snowpark-model-registry)\n"
   ]
  },
  {
   "cell_type": "code",
   "execution_count": 45,
   "id": "891da307-3928-4b80-9833-9d7eae3698f7",
   "metadata": {
    "collapsed": true,
    "jupyter": {
     "outputs_hidden": true,
     "source_hidden": true
    }
   },
   "outputs": [
    {
     "name": "stderr",
     "output_type": "stream",
     "text": [
      "/Users/rgutin/opt/anaconda3/envs/snowpark-de-ml/lib/python3.11/contextlib.py:137: UserWarning: `relax_version` is not set and therefore defaulted to True. Dependency version constraints relaxed from ==x.y.z to >=x.y, <(x+1). To use specific dependency versions for compatibility, reproducibility, etc., set `options={'relax_version': False}` when logging the model.\n",
      "  return next(self.gen)\n"
     ]
    }
   ],
   "source": [
    "# Dont forget your import \n",
    "registry =  Registry(session)\n",
    "# create the Registry\n",
    "MODEL_NAME = \"PREDICT_ROI\"\n",
    "#Log the model and create a reference. \n",
    "\n"
   ]
  },
  {
   "cell_type": "markdown",
   "id": "716d51a8-b9cc-4a09-81aa-1129b1c0dd78",
   "metadata": {},
   "source": [
    "#### Create fake data to test your model against\n"
   ]
  },
  {
   "cell_type": "code",
   "execution_count": 50,
   "id": "530e44b6-7df7-4c4e-8e8f-1911281859b7",
   "metadata": {
    "collapsed": true,
    "jupyter": {
     "outputs_hidden": true,
     "source_hidden": true
    }
   },
   "outputs": [
    {
     "name": "stdout",
     "output_type": "stream",
     "text": [
      "---------------------------------------------------------------------------\n",
      "|\"MONTH\"   |\"SEARCH_ENGINE\"  |\"SOCIAL_MEDIA\"  |\"VIDEO\"  |\"EMAIL\"  |\"ROI\"  |\n",
      "---------------------------------------------------------------------------\n",
      "|January   |35               |50              |35       |85       |8.22   |\n",
      "|February  |75               |50              |35       |85       |13.9   |\n",
      "|March     |15               |50              |35       |15       |7.34   |\n",
      "|April     |25               |80              |40       |90       |13.23  |\n",
      "|May       |95               |95              |10       |95       |6.246  |\n",
      "|June      |35               |50              |35       |85       |8.22   |\n",
      "---------------------------------------------------------------------------\n",
      "\n"
     ]
    }
   ],
   "source": [
    "session.sql(\"\"\"CREATE or REPLACE TABLE BUDGET_ALLOCATIONS_AND_ROI (\n",
    "  MONTH varchar(30),\n",
    "  SEARCH_ENGINE integer,\n",
    "  SOCIAL_MEDIA integer,\n",
    "  VIDEO integer,\n",
    "  EMAIL integer,\n",
    "  ROI float);\"\"\").collect()\n",
    "\n",
    "session.sql(\"\"\"\n",
    "INSERT INTO BUDGET_ALLOCATIONS_AND_ROI (MONTH, SEARCH_ENGINE, SOCIAL_MEDIA, VIDEO, EMAIL, ROI)\n",
    "VALUES\n",
    "('January',35,50,35,85,8.22),\n",
    "('February',75,50,35,85,13.90),\n",
    "('March',15,50,35,15,7.34),\n",
    "('April',25,80,40,90,13.23),\n",
    "('May',95,95,10,95,6.246),\n",
    "('June',35,50,35,85,8.22);\"\"\").collect()\n",
    "\n",
    "budgets = session.table('BUDGET_ALLOCATIONS_AND_ROI')\n",
    "budgets.show()"
   ]
  },
  {
   "cell_type": "code",
   "execution_count": 53,
   "id": "56473e03-3523-459a-be39-bafc48d0bfd5",
   "metadata": {
    "collapsed": true,
    "jupyter": {
     "outputs_hidden": true,
     "source_hidden": true
    }
   },
   "outputs": [
    {
     "name": "stdout",
     "output_type": "stream",
     "text": [
      "-------------------------------------------------------------------------------------------------\n",
      "|\"MONTH\"   |\"ROI\"  |\"SEARCH_ENGINE\"  |\"SOCIAL_MEDIA\"  |\"VIDEO\"  |\"EMAIL\"  |\"PREDICTED_REVENUE\"  |\n",
      "-------------------------------------------------------------------------------------------------\n",
      "|January   |8.22   |35               |50              |35       |85       |-210886.4949279744   |\n",
      "|February  |13.9   |75               |50              |35       |85       |-210806.24371288903  |\n",
      "|March     |7.34   |15               |50              |35       |15       |-211751.07379658613  |\n",
      "|April     |13.23  |25               |80              |40       |90       |-210132.100637245    |\n",
      "|May       |6.246  |95               |95              |10       |95       |-208393.69002735848  |\n",
      "|June      |8.22   |35               |50              |35       |85       |-210886.4949279744   |\n",
      "-------------------------------------------------------------------------------------------------\n",
      "\n"
     ]
    }
   ],
   "source": [
    "#Run the inference on your mock data\n"
   ]
  },
  {
   "cell_type": "markdown",
   "id": "bebfc3d1-59d5-43da-8632-80d5e5b5196b",
   "metadata": {},
   "source": [
    "## Part 3: Quickly build a data app with Streamlit"
   ]
  },
  {
   "cell_type": "code",
   "execution_count": 54,
   "id": "e3142a53-303f-423c-b6b6-a19ec0c36e93",
   "metadata": {
    "collapsed": true,
    "jupyter": {
     "outputs_hidden": true,
     "source_hidden": true
    }
   },
   "outputs": [],
   "source": [
    "#### Copy Paste the below into SiS\n"
   ]
  },
  {
   "cell_type": "code",
   "execution_count": null,
   "id": "e7bc0545-c037-44f5-9948-49ceef8fc854",
   "metadata": {
    "collapsed": true,
    "jupyter": {
     "outputs_hidden": true,
     "source_hidden": true
    }
   },
   "outputs": [],
   "source": [
    "import calendar \n",
    "import altair as alt\n",
    "import streamlit as st\n",
    "import pandas as pd\n",
    "from snowflake.snowpark.functions import col\n",
    "from snowflake.ml.registry import Registry\n",
    "from snowflake.snowpark.context import get_active_session\n",
    "\n",
    "\n",
    "#Create a header\n",
    "st.header(\"SkiGear Co Ad Spend Optimizer\")\n",
    "forcast_month = 'July'\n",
    "#Get your session\n",
    "session = get_active_session()\n",
    "\n",
    "#Get an unpivoted view of your Budget without the Forcast month\n",
    "\n",
    "channels_upper = ['SEARCH_ENGINE', 'SOCIAL_MEDIA', 'VIDEO', 'EMAIL']\n",
    "\n",
    "data = session.table('SNOWPARK_DB.HOL_SCHEMA.BUDGET_ALLOCATIONS_AND_ROI').\\\n",
    "                unpivot(\"Budget\", \"Channel\",\n",
    "                       channels_upper).filter(col(\"MONTH\") != forcast_month)\n",
    "\n",
    "\n",
    "last_allocation = data.filter(col(\"MONTH\") == \"June\").to_pandas()\n",
    "previous_rois = data.drop([\"CHANNEL\", \"BUDGET\"]).distinct().to_pandas()\n",
    "\n",
    "\n",
    "#st.dataframe(data)\n",
    "st.subheader(\"Expected Advertising budgets\")\n",
    "\n",
    "#Create a set of slides in columns\n",
    "col1, _, col2 = st.columns([4, 1, 4])\n",
    "budgets = []\n",
    "for alloc, col in zip(last_allocation.itertuples(), [col1, col1, col2, col2]):\n",
    "  budgets.append(col.slider(alloc.CHANNEL, 0, 100, alloc.BUDGET, 5))\n",
    "\n",
    "budgets_df = pd.DataFrame(budgets).T\n",
    "\n",
    "#st.dataframe(budgets_df)\n",
    "\n",
    "#get latest version of my model\n",
    "ml_registry = Registry(session , database_name='SNOWPARK_DB', schema_name='HOL_SCHEMA')\n",
    "\n",
    "ROI_MODEL = ml_registry.get_model(model_name= \"PREDICT_ROI\").versions()[-1]\n",
    "\n",
    "def predict(budgets_from_widget):\n",
    "    budgets_for_inf = budgets_from_widget *10000\n",
    "    \n",
    "    pred = ROI_MODEL.run(budgets_for_inf,function_name='predict')\n",
    "    pred = pred[\"PREDICTED_REVENUE\"].values[0] / 1000000\n",
    "    change = round(((pred / previous_rois[\"ROI\"].iloc[-1]) - 1) * 100, 1)\n",
    "    return pred, change\n",
    "\n",
    "\n",
    "#st.dataframe(predict(budgets_df))\n",
    "pred, change = predict(budgets_df)\n",
    "st.metric(\"\", f\"Predicted revenue ${pred:.2f} million\", f\"{change:.1f} % vs last month\")\n",
    "july = pd.DataFrame({\"MONTH\": [\"July\"]*4, \"CHANNEL\": channels_upper, \"BUDGET\": budgets, \"ROI\": [pred]*4})\n",
    "\n",
    "def chart(chart_data):\n",
    "  base = alt.Chart(chart_data).encode(alt.X(\"MONTH\", sort=list(calendar.month_name), title=None))\n",
    "  bars = base.mark_bar().encode(y=alt.Y(\"BUDGET\", title=\"Budget\", scale=alt.Scale(domain=[0, 300])), color=alt.Color(\"CHANNEL\", legend=alt.Legend(orient=\"top\", title=\" \")), opacity=alt.condition(alt.datum.MONTH==\"July\", alt.value(1), alt.value(0.3)))\n",
    "  lines = base.mark_line(size=3).encode(y=alt.Y(\"ROI\", title=\"Revenue\", scale=alt.Scale(domain=[0, 25])), color=alt.value(\"#808495\"))\n",
    "  points = base.mark_point(strokeWidth=3).encode(y=alt.Y(\"ROI\"), stroke=alt.value(\"#808495\"), fill=alt.value(\"white\"), size=alt.condition(alt.datum.MONTH==\"July\", alt.value(300), alt.value(70)))\n",
    "  chart = alt.layer(bars, lines + points).resolve_scale(y=\"independent\").configure_view(strokeWidth=0).configure_axisY(domain=False).configure_axis(labelColor=\"#808495\", tickColor=\"#e6eaf1\", gridColor=\"#e6eaf1\", domainColor=\"#e6eaf1\", titleFontWeight=600, titlePadding=10, labelPadding=5, labelFontSize=14).configure_range(category=[\"#FFE08E\", \"#03C0F2\", \"#FFAAAB\", \"#995EFF\"])\n",
    "  st.altair_chart(chart, use_container_width=True)\n",
    "\n",
    "#st.dataframe(july)\n",
    "\n",
    "chart(pd.concat([data.to_pandas(), july]).reset_index(drop=True))\n"
   ]
  }
 ],
 "metadata": {
  "kernelspec": {
   "display_name": "Python 3 (ipykernel)",
   "language": "python",
   "name": "python3"
  },
  "language_info": {
   "codemirror_mode": {
    "name": "ipython",
    "version": 3
   },
   "file_extension": ".py",
   "mimetype": "text/x-python",
   "name": "python",
   "nbconvert_exporter": "python",
   "pygments_lexer": "ipython3",
   "version": "3.11.8"
  }
 },
 "nbformat": 4,
 "nbformat_minor": 5
}

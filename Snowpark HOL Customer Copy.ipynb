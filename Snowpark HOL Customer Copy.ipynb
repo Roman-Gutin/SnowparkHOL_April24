{
 "cells": [
  {
   "cell_type": "markdown",
   "id": "71a51e0d-754d-4b45-9bbc-477b5fa3939d",
   "metadata": {},
   "source": [
    "# Part 1 - Data Engineering\n",
    "\n"
   ]
  },
  {
   "cell_type": "code",
   "execution_count": 10,
   "id": "d1c20815-41e2-4218-b414-70d6060ee462",
   "metadata": {},
   "outputs": [],
   "source": [
    "from snowflake.snowpark.session import Session\n",
    "from snowflake.core import Root\n",
    "\n",
    "from snowflake.snowpark.version import VERSION\n",
    "import pandas as pd"
   ]
  },
  {
   "cell_type": "markdown",
   "id": "01cc6daa-b658-4345-9088-64dcfeceb2b8",
   "metadata": {},
   "source": [
    "## Make a connection to Snowflake via Snowpark"
   ]
  },
  {
   "cell_type": "code",
   "execution_count": 120,
   "id": "6ed6087b-7dc4-41dc-83dd-023d8cee0657",
   "metadata": {},
   "outputs": [
    {
     "name": "stdout",
     "output_type": "stream",
     "text": [
      "User                        : ADMIN\n",
      "Role                        : \"ACCOUNTADMIN\"\n",
      "Database                    : None\n",
      "Schema                      : None\n",
      "Warehouse                   : None\n",
      "Snowflake version           : 8.13.3\n",
      "Snowpark for Python version : 1.13.0\n"
     ]
    }
   ],
   "source": [
    "\n",
    "connection_config = {\n",
    "    \"account\": \"fcb00776.us-east-1\"\n",
    "    ,\"user\": \"admin\"\n",
    "    ,\"password\": \"123Axdsw!\",\n",
    "    'role':'accountadmin'\n",
    "}\n",
    "\n",
    "\n",
    "session = Session.builder.configs(connection_config).create()\n",
    "root= Root(session)\n",
    "snowflake_environment = session.sql('select current_user(), current_version()').collect()\n",
    "snowpark_version = VERSION\n",
    "\n",
    "# Current Environment Details\n",
    "print('User                        : {}'.format(snowflake_environment[0][0]))\n",
    "print('Role                        : {}'.format(session.get_current_role()))\n",
    "print('Database                    : {}'.format(session.get_current_database()))\n",
    "print('Schema                      : {}'.format(session.get_current_schema()))\n",
    "print('Warehouse                   : {}'.format(session.get_current_warehouse()))\n",
    "print('Snowflake version           : {}'.format(snowflake_environment[0][1]))\n",
    "print('Snowpark for Python version : {}.{}.{}'.format(snowpark_version[0],snowpark_version[1],snowpark_version[2]))"
   ]
  },
  {
   "cell_type": "markdown",
   "id": "ee0febfe-5360-4c44-bc25-5394552c3653",
   "metadata": {},
   "source": [
    "### Challenge 1: Setup your environment with the Session and Root object\n",
    "\n",
    "Lets create a new database, schema and warehouse for our work. \n",
    "\n",
    "The Snowpark session is no different than a regular Snowflake connection for this.\n",
    " "
   ]
  },
  {
   "cell_type": "code",
   "execution_count": 12,
   "id": "3b697c1e-999e-410c-9bcd-0e2253866eca",
   "metadata": {},
   "outputs": [
    {
     "data": {
      "text/plain": [
       "[Row(status='Statement executed successfully.')]"
      ]
     },
     "execution_count": 12,
     "metadata": {},
     "output_type": "execute_result"
    }
   ],
   "source": [
    "db_name = 'SNOWPARK_DB'\n",
    "schema_name = 'HOL_SCHEMA'\n",
    "wh_name = 'HOL_WH'\n",
    "\n",
    "#Write code to create a Database, Schema , and Warehouse\n"
   ]
  },
  {
   "cell_type": "markdown",
   "id": "17ea6906-ac6d-4264-8278-a0e83fdf4b1a",
   "metadata": {},
   "source": [
    "#### The Snowflake Core Python libary lets you do the same steps with less code, no SQL,and in Object-oriented manner\n",
    "\n",
    "[Docs: Snowflake Python API](https://docs.snowflake.com/en/developer-guide/snowflake-python-api/snowflake-python-overview)"
   ]
  },
  {
   "cell_type": "code",
   "execution_count": 107,
   "id": "967a931a-6f41-4a40-b6ed-f57c4ccee979",
   "metadata": {},
   "outputs": [],
   "source": [
    "from snowflake.core.database import Database\n",
    "from snowflake.core.schema import Schema \n",
    "from snowflake.core.warehouse import Warehouse\n",
    "\n"
   ]
  },
  {
   "cell_type": "markdown",
   "id": "f6fb9220-b5b2-4351-9aae-65b072b420c3",
   "metadata": {},
   "source": [
    "### Challenge 2: To connect Snowflake to external cloud storage, like S3, you need to create a Stage.\n",
    "\n",
    "At the moment, **anything besides Databases, Schemas, Tables, Tasks, and Warehouse(compute pools) are SQL-only** until the Python API GA later this year.\n",
    "\n",
    "[Create a Stage SQL](https://docs.snowflake.com/en/sql-reference/sql/create-storage-integration#examples)"
   ]
  },
  {
   "cell_type": "code",
   "execution_count": 22,
   "id": "77710325-c891-4f09-8897-42b40ee2f222",
   "metadata": {},
   "outputs": [],
   "source": [
    "\n",
    "stage_info = {\n",
    "    'campaign_data_stage': 's3://sfquickstarts/ad-spend-roi-snowpark-python-scikit-learn-streamlit/campaign_spend/' ,\n",
    "    'monthly_revenue_data_stage': 's3://sfquickstarts/ad-spend-roi-snowpark-python-scikit-learn-streamlit/monthly_revenue/'\n",
    "}\n",
    "\n",
    "\n",
    "#Write a function below to create a stage using the Session objects SQL cursor()\n"
   ]
  },
  {
   "cell_type": "code",
   "execution_count": 24,
   "id": "7af77a4c-198c-4426-8966-2a90135c5792",
   "metadata": {},
   "outputs": [
    {
     "name": "stdout",
     "output_type": "stream",
     "text": [
      "[Row(status='Stage area CAMPAIGN_DATA_STAGE successfully created.')]\n",
      "[Row(status='Stage area MONTHLY_REVENUE_DATA_STAGE successfully created.')]\n"
     ]
    }
   ],
   "source": [
    "#Run your function for all data sources\n",
    "\n"
   ]
  },
  {
   "cell_type": "markdown",
   "id": "095d5bd3-6ee6-4198-92cd-46de5cf8b6ac",
   "metadata": {},
   "source": [
    "## Lets take a look at whats in the S3 bucket"
   ]
  },
  {
   "cell_type": "code",
   "execution_count": 31,
   "id": "5ef93474-93b4-42cc-8334-5062b24a1f86",
   "metadata": {},
   "outputs": [],
   "source": [
    "#Use the list command to check out the files in your stage!"
   ]
  },
  {
   "cell_type": "markdown",
   "id": "f23a32db-d27c-432b-b5f3-df217010298a",
   "metadata": {},
   "source": [
    "### Challenge 3: Time for our first Snowpark Dataframe! \n",
    "\n",
    "Snowpark is capabable of loading staged files to a dataframe using the DataFrameReader. This reader takes options similar to a SQL COPY command.\n",
    "\n",
    "[Docs: Snowpark DataframeReader](https://docs.snowflake.com/ko/developer-guide/snowpark/reference/python/latest/api/snowflake.snowpark.DataFrameReader)"
   ]
  },
  {
   "cell_type": "code",
   "execution_count": 111,
   "id": "afcda7ad-edfe-4704-86cb-1884c094a00b",
   "metadata": {},
   "outputs": [
    {
     "ename": "SyntaxError",
     "evalue": "invalid syntax (4271019390.py, line 2)",
     "output_type": "error",
     "traceback": [
      "\u001b[0;36m  Cell \u001b[0;32mIn[111], line 2\u001b[0;36m\u001b[0m\n\u001b[0;31m    revenue_data = #something\u001b[0m\n\u001b[0m                   ^\u001b[0m\n\u001b[0;31mSyntaxError\u001b[0m\u001b[0;31m:\u001b[0m invalid syntax\n"
     ]
    }
   ],
   "source": [
    "#Read the monthly revenue data to a DataFrame and show it\n",
    "\n"
   ]
  },
  {
   "cell_type": "code",
   "execution_count": 36,
   "id": "f4abb532-581a-4053-9fa8-8d9bc0e79dea",
   "metadata": {},
   "outputs": [
    {
     "name": "stdout",
     "output_type": "stream",
     "text": [
      "------------------------------------------------------------------------------------------------------\n",
      "|\"CAMPAIGN\"              |\"CHANNEL\"      |\"DATE\"      |\"TOTAL_CLICKS\"  |\"TOTAL_COST\"  |\"ADS_SERVED\"  |\n",
      "------------------------------------------------------------------------------------------------------\n",
      "|winter_sports           |video          |2012-06-03  |213             |1762          |426           |\n",
      "|sports_across_cultures  |video          |2012-06-02  |87              |678           |157           |\n",
      "|building_community      |search_engine  |2012-06-03  |66              |471           |134           |\n",
      "|world_series            |social_media   |2017-12-28  |72              |591           |149           |\n",
      "|winter_sports           |email          |2018-02-09  |252             |1841          |473           |\n",
      "|spring_break            |video          |2017-11-14  |162             |1155          |304           |\n",
      "|nba_finals              |email          |2017-11-22  |68              |480           |134           |\n",
      "|winter_sports           |social_media   |2018-03-10  |227             |1797          |454           |\n",
      "|spring_break            |search_engine  |2017-08-30  |150             |1226          |302           |\n",
      "|uefa                    |video          |2017-09-30  |81              |701           |168           |\n",
      "------------------------------------------------------------------------------------------------------\n",
      "\n"
     ]
    }
   ],
   "source": [
    "#read the campaign spend data to a DataFrame\n",
    "\n"
   ]
  },
  {
   "cell_type": "markdown",
   "id": "cdcbed23-5647-4dbd-b120-8f379e68e1c3",
   "metadata": {},
   "source": [
    "### Challenge 4: In reality, we need a Pivot Table to break out different marketing channels"
   ]
  },
  {
   "cell_type": "code",
   "execution_count": 38,
   "id": "acb9e37d-d315-49e1-a704-43c9238e9559",
   "metadata": {},
   "outputs": [
    {
     "data": {
      "text/plain": [
       "['video', 'search_engine', 'social_media', 'email']"
      ]
     },
     "execution_count": 38,
     "metadata": {},
     "output_type": "execute_result"
    }
   ],
   "source": [
    "#get your pivot list without hardcoding"
   ]
  },
  {
   "cell_type": "markdown",
   "id": "b1ef1a46-6a06-4fbd-b469-55c77f3623c6",
   "metadata": {},
   "source": [
    "#### Lets leverage some handy snowpark functions to perform our aggregate"
   ]
  },
  {
   "cell_type": "code",
   "execution_count": 41,
   "id": "ddb6808f-48e5-464a-a4db-21e8cd4aa45f",
   "metadata": {},
   "outputs": [],
   "source": [
    "from snowflake.snowpark.functions import month,year,col,sum\n",
    "\n"
   ]
  },
  {
   "cell_type": "code",
   "execution_count": 42,
   "id": "2ea14c20-c5da-43f2-8a4c-e6dc55fc7466",
   "metadata": {},
   "outputs": [
    {
     "name": "stdout",
     "output_type": "stream",
     "text": [
      "---------------------------------------------------\n",
      "|\"YEAR\"  |\"MONTH\"  |\"CHANNEL\"      |\"TOTAL_COST\"  |\n",
      "---------------------------------------------------\n",
      "|2012    |5        |search_engine  |516431        |\n",
      "|2012    |5        |video          |516729        |\n",
      "|2012    |5        |email          |517208        |\n",
      "|2012    |5        |social_media   |517618        |\n",
      "|2012    |6        |video          |501098        |\n",
      "|2012    |6        |search_engine  |506497        |\n",
      "|2012    |6        |social_media   |504679        |\n",
      "|2012    |6        |email          |501947        |\n",
      "|2012    |7        |search_engine  |522780        |\n",
      "|2012    |7        |email          |518405        |\n",
      "---------------------------------------------------\n",
      "\n"
     ]
    }
   ],
   "source": [
    "spend_per_month.show()"
   ]
  },
  {
   "cell_type": "code",
   "execution_count": 43,
   "id": "6d5a4609-41d4-4991-a503-1980e8f50952",
   "metadata": {},
   "outputs": [
    {
     "name": "stdout",
     "output_type": "stream",
     "text": [
      "-----------------------------------------------------------------------------------\n",
      "|\"YEAR\"  |\"MONTH\"  |\"'video'\"  |\"'search_engine'\"  |\"'social_media'\"  |\"'email'\"  |\n",
      "-----------------------------------------------------------------------------------\n",
      "|2012    |5        |516729     |516431             |517618            |517208     |\n",
      "|2012    |6        |501098     |506497             |504679            |501947     |\n",
      "|2012    |7        |522762     |522780             |521395            |518405     |\n",
      "|2012    |8        |520685     |519959             |520537            |521584     |\n",
      "|2012    |9        |511364     |507211             |507404            |507363     |\n",
      "|2012    |10       |522768     |518942             |520863            |519950     |\n",
      "|2012    |11       |505292     |505715             |505221            |503748     |\n",
      "|2012    |12       |521427     |520148             |520711            |520724     |\n",
      "|2013    |1        |520583     |522151             |518635            |521167     |\n",
      "|2013    |2        |469856     |467736             |474679            |469784     |\n",
      "-----------------------------------------------------------------------------------\n",
      "\n"
     ]
    }
   ],
   "source": [
    "# Do the Pivot\n",
    "spend_per_channel = spend_per_month.pivot('CHANNEL', channel_pivot_list).sum('TOTAL_COST').sort('YEAR','MONTH')\n",
    "spend_per_channel.show()"
   ]
  },
  {
   "cell_type": "code",
   "execution_count": 44,
   "id": "3fc4f6be-2a93-4877-8a14-5b4ad3efa2cc",
   "metadata": {},
   "outputs": [
    {
     "name": "stdout",
     "output_type": "stream",
     "text": [
      "----------------------------------------------------------------------------------------\n",
      "|\"YEAR\"  |\"MONTH\"  |\"SEARCH_ENGINE\"  |\"SOCIAL_MEDIA\"  |\"VIDEO\"  |\"EMAIL\"  |\"REVENUE\"   |\n",
      "----------------------------------------------------------------------------------------\n",
      "|2012    |5        |516431           |517618          |516729   |517208   |3264300.11  |\n",
      "|2012    |6        |506497           |504679          |501098   |501947   |3208482.33  |\n",
      "|2012    |7        |522780           |521395          |522762   |518405   |3311966.98  |\n",
      "|2012    |8        |519959           |520537          |520685   |521584   |3311752.81  |\n",
      "|2012    |9        |507211           |507404          |511364   |507363   |3208563.06  |\n",
      "|2012    |10       |518942           |520863          |522768   |519950   |3334028.46  |\n",
      "|2012    |11       |505715           |505221          |505292   |503748   |3185894.64  |\n",
      "|2012    |12       |520148           |520711          |521427   |520724   |3334570.96  |\n",
      "|2013    |1        |522151           |518635          |520583   |521167   |3316455.44  |\n",
      "|2013    |2        |467736           |474679          |469856   |469784   |2995042.21  |\n",
      "----------------------------------------------------------------------------------------\n",
      "\n"
     ]
    }
   ],
   "source": [
    "#Use a quick select statement to clean up column names and join in the revenue_data\n",
    "spend_per_channel.select(\n",
    "    col(\"YEAR\"),\n",
    "    col(\"MONTH\"),\n",
    "    col(\"'search_engine'\").as_(\"SEARCH_ENGINE\"),\n",
    "    col(\"'social_media'\").as_(\"SOCIAL_MEDIA\"),\n",
    "    col(\"'video'\").as_(\"VIDEO\"),\n",
    "    col(\"'email'\").as_(\"EMAIL\")\n",
    ").join(\n",
    "    revenue_data, ['YEAR' ,'MONTH']\n",
    ").show()\n"
   ]
  },
  {
   "cell_type": "markdown",
   "id": "46d272ca-19a4-4649-84f4-ad289bc4db33",
   "metadata": {},
   "source": [
    "### Automation: Run Campaign Spend Data Transformations As a Snowflake Task\n",
    "Note: Optionally you can run all these transformations as an automated task by deploying the code to Snowflake as a Snowpark Stored Procedure and executing it as a Snowflake Task.\n",
    "\n"
   ]
  },
  {
   "cell_type": "code",
   "execution_count": 114,
   "id": "9f8401dd-e32c-45d0-b745-1ef677cdb380",
   "metadata": {},
   "outputs": [],
   "source": [
    "from snowflake.snowpark.functions import sproc\n",
    "session.use_warehouse('compute_wh')\n",
    "session.add_packages('snowflake-snowpark-python')\n",
    "\n",
    "def campaign_spend_data_pipeline(session: Session) -> bool:\n",
    "    \n",
    "    #Load data from stage\n",
    "    campaign_spend_data = session.read.options(\n",
    "        {\n",
    "        'infer_schema':True,\n",
    "        'parse_header':True}).csv('@campaign_data_stage')\n",
    "\n",
    "    #write to table\n",
    "    spend_and_revenue.write.mode('append').save_as_table('CAMPAIGN_SPEND')\n",
    "    revenue_data = session.read.options(\n",
    "        {\n",
    "        'infer_schema':True,\n",
    "        'parse_header':True}).csv('@monthly_revenue_data_stage')\n",
    "    \n",
    "    # Dynamically get list of channels to pivot\n",
    "    channel_pivot_list = list(campaign_spend_data.select('channel').distinct().to_pandas().CHANNEL)\n",
    "\n",
    "    #Get Aggregate\n",
    "    spend_per_month = campaign_spend_data.group_by(\n",
    "        year('DATE'),\n",
    "        month('DATE'),\n",
    "        'CHANNEL').agg(\n",
    "                    sum('TOTAL_COST').as_('TOTAL_COST')).\\\n",
    "                                        with_column_renamed('\"YEAR(DATE)\"',\"YEAR\").\\\n",
    "                                        with_column_renamed('\"MONTH(DATE)\"',\"MONTH\").sort('YEAR','MONTH')\n",
    "\n",
    "\n",
    "    spend_per_channel = spend_per_month.pivot('CHANNEL', channel_pivot_list).sum('TOTAL_COST').sort('YEAR','MONTH').\\\n",
    "                                        select(\n",
    "                                            col(\"YEAR\"),\n",
    "                                            col(\"MONTH\"),\n",
    "                                            col(\"'search_engine'\").as_(\"SEARCH_ENGINE\"),\n",
    "                                            col(\"'social_media'\").as_(\"SOCIAL_MEDIA\"),\n",
    "                                            col(\"'video'\").as_(\"VIDEO\"),\n",
    "                                            col(\"'email'\").as_(\"EMAIL\")\n",
    "                                        )\n",
    "\n",
    "\n",
    "    \n",
    "    spend_and_revenue = spend_per_channel.join(revenue_data, ['YEAR' ,'MONTH'])\n",
    "    #write to snowflake\n",
    "    spend_and_revenue.write.mode('append').save_as_table('SPEND_AND_REVENUE_PER_MONTH')\n",
    "\n",
    "    return True"
   ]
  },
  {
   "cell_type": "code",
   "execution_count": 45,
   "id": "5ac6e5c4-f0dd-459e-9074-320cdfe350e7",
   "metadata": {},
   "outputs": [
    {
     "data": {
      "text/plain": [
       "<snowflake.snowpark.stored_procedure.StoredProcedure at 0x12e7a2c10>"
      ]
     },
     "execution_count": 45,
     "metadata": {},
     "output_type": "execute_result"
    }
   ],
   "source": [
    "# Create  Stored Procedure and Task from my python function\n"
   ]
  },
  {
   "cell_type": "code",
   "execution_count": 125,
   "id": "97a2d366-e9b2-4164-81e2-67080034bafa",
   "metadata": {},
   "outputs": [],
   "source": [
    "from snowflake.core.task import Task, StoredProcedureCall, Cron\n",
    "from datetime import timedelta\n",
    "\n",
    "session.use_database(db_name)\n",
    "session.use_schema(schema_name)\n",
    "session.use_warehouse(wh_name)\n",
    "session.sql('create or replace stage snowpark_stage').collect()\n",
    "\n",
    "run_campaign_task =  Task('campaign_spend_pipeline', \n",
    "                          StoredProcedureCall(campaign_spend_data_pipeline, \n",
    "                                              stage_location='@snowpark_stage',\n",
    "                                              packages=[\"snowflake-snowpark-python\"]\n",
    "                                             ) ,\n",
    "                           schedule= Cron('0 0 2 * *', timezone = 'UTC'),\n",
    "                           warehouse= wh_name\n",
    "                                             )\n"
   ]
  },
  {
   "cell_type": "code",
   "execution_count": 126,
   "id": "f3f0c214-66fd-4647-a4d1-0890f4bb69ba",
   "metadata": {},
   "outputs": [],
   "source": [
    "root.databases[db_name].schemas[schema_name].tasks.create(run_campaign_task, mode='orreplace').execute()"
   ]
  },
  {
   "cell_type": "code",
   "execution_count": 127,
   "id": "c2f80404-e048-4ff4-8f5c-6d79a0b48303",
   "metadata": {},
   "outputs": [
    {
     "data": {
      "text/plain": [
       "['campaign_spend_pipeline']"
      ]
     },
     "execution_count": 127,
     "metadata": {},
     "output_type": "execute_result"
    }
   ],
   "source": [
    "#Look at your tasks\n",
    "list(root.databases[db_name].schemas[schema_name].tasks)"
   ]
  },
  {
   "cell_type": "markdown",
   "id": "e33d0e56-ff14-4162-9a1f-ff00b0f96342",
   "metadata": {},
   "source": [
    "#### Final Checkpoint for Part 1. Do you have a clean table ready for ML training that looks like the below?"
   ]
  },
  {
   "cell_type": "code",
   "execution_count": 128,
   "id": "6966417b-187c-400b-a517-f7211b67c9f2",
   "metadata": {},
   "outputs": [
    {
     "name": "stdout",
     "output_type": "stream",
     "text": [
      "----------------------------------------------------------------------------------------\n",
      "|\"YEAR\"  |\"MONTH\"  |\"SEARCH_ENGINE\"  |\"SOCIAL_MEDIA\"  |\"VIDEO\"  |\"EMAIL\"  |\"REVENUE\"   |\n",
      "----------------------------------------------------------------------------------------\n",
      "|2012    |5        |516431           |517618          |516729   |517208   |3264300.11  |\n",
      "|2012    |6        |506497           |504679          |501098   |501947   |3208482.33  |\n",
      "|2012    |7        |522780           |521395          |522762   |518405   |3311966.98  |\n",
      "|2012    |8        |519959           |520537          |520685   |521584   |3311752.81  |\n",
      "|2012    |9        |507211           |507404          |511364   |507363   |3208563.06  |\n",
      "|2012    |10       |518942           |520863          |522768   |519950   |3334028.46  |\n",
      "|2012    |11       |505715           |505221          |505292   |503748   |3185894.64  |\n",
      "|2012    |12       |520148           |520711          |521427   |520724   |3334570.96  |\n",
      "|2013    |1        |522151           |518635          |520583   |521167   |3316455.44  |\n",
      "|2013    |2        |467736           |474679          |469856   |469784   |2995042.21  |\n",
      "----------------------------------------------------------------------------------------\n",
      "\n"
     ]
    }
   ],
   "source": [
    "snow_df_spend_and_revenue_per_month = session.table('spend_and_revenue_per_month')\n",
    "snow_df_spend_and_revenue_per_month.show()"
   ]
  },
  {
   "cell_type": "markdown",
   "id": "507807a1-e5af-4f2e-93b6-03a81fa382e8",
   "metadata": {},
   "source": [
    "# Part 2 - Data Science and MLOps with Snowpark ML\n"
   ]
  },
  {
   "cell_type": "code",
   "execution_count": 76,
   "id": "d69d8feb-8f8d-4104-a8d0-e3a40f25d925",
   "metadata": {},
   "outputs": [],
   "source": [
    "from snowflake.ml.modeling.compose import ColumnTransformer\n",
    "from snowflake.ml.modeling.pipeline import Pipeline\n",
    "from snowflake.ml.modeling.preprocessing import PolynomialFeatures, StandardScaler\n",
    "from snowflake.ml.modeling.linear_model import LinearRegression\n",
    "from snowflake.ml.modeling.model_selection import GridSearchCV\n",
    "from snowflake.ml.registry import Registry\n",
    "\n"
   ]
  },
  {
   "cell_type": "markdown",
   "id": "728a2330-7f44-400a-8a9b-7150da6bbc78",
   "metadata": {},
   "source": [
    "### Challenge 1: Preprocess your table to get to a Feature table."
   ]
  },
  {
   "cell_type": "markdown",
   "id": "e5760c7a-5f7b-4a7b-a302-130b65c5d3a1",
   "metadata": {},
   "source": [
    "##### Quick Cleaning"
   ]
  },
  {
   "cell_type": "code",
   "execution_count": 77,
   "id": "f5da9f05-69bd-4ceb-9547-b94863be13f0",
   "metadata": {},
   "outputs": [],
   "source": [
    "\n",
    "\n",
    "# Delete rows with missing values from your view\n",
    "\n",
    "\n",
    "# Exclude columns we don't need for modeling, like date and year\n",
    "\n",
    "\n",
    "# Save features into a Snowflake table call MARKETING_BUDGETS_FEATURES\n",
    "\n"
   ]
  },
  {
   "cell_type": "markdown",
   "id": "dedb28f7-fdd7-4801-a3e2-7664402f7d24",
   "metadata": {},
   "source": [
    "##### Feature Preprocessing\n",
    "[Docs: Snowpark ML - Preprocessing](https://docs.snowflake.com/en/developer-guide/snowpark-ml/snowpark-ml-modeling)"
   ]
  },
  {
   "cell_type": "code",
   "execution_count": 80,
   "id": "27dc90d1-9fd4-4d47-a74e-468986a5d28f",
   "metadata": {},
   "outputs": [
    {
     "name": "stderr",
     "output_type": "stream",
     "text": [
      "/Users/rgutin/opt/anaconda3/envs/snowpark-de-ml/lib/python3.11/site-packages/snowflake/ml/_internal/utils/snowpark_dataframe_utils.py:88: UserWarning: Warning: The Decimal(9, 2) data type is being automatically converted to DoubleType in the Snowpark DataFrame. This automatic conversion may lead to potential precision loss and rounding errors. If you wish to prevent this conversion, you should manually perform the necessary data type conversion.\n",
      "  warnings.warn(\n",
      "/Users/rgutin/opt/anaconda3/envs/snowpark-de-ml/lib/python3.11/site-packages/snowflake/ml/_internal/utils/snowpark_dataframe_utils.py:88: UserWarning: Warning: The Decimal(9, 2) data type is being automatically converted to DoubleType in the Snowpark DataFrame. This automatic conversion may lead to potential precision loss and rounding errors. If you wish to prevent this conversion, you should manually perform the necessary data type conversion.\n",
      "  warnings.warn(\n"
     ]
    },
    {
     "name": "stdout",
     "output_type": "stream",
     "text": [
      "R2 score on Train : 0.9948365977535002\n",
      "R2 score on Test  : 0.9672847611985426\n"
     ]
    }
   ],
   "source": [
    "\n",
    "\n",
    "# Create train and test Snowpark DataDrames\n",
    "\n",
    "\n",
    "# Preprocess the Numeric columns\n",
    "# We apply PolynomialFeatures and StandardScaler preprocessing steps to the numeric columns\n",
    "# NOTE: High degrees can cause overfitting.\n",
    "\n",
    "# Combine the preprocessed step together using the Column Transformer module\n",
    "\n",
    "# The next step is the integrate the features we just preprocessed with our Machine Learning algorithm to enable us to build a model\n",
    "\n"
   ]
  },
  {
   "cell_type": "markdown",
   "id": "565eae56-c10e-4b3f-bd9e-c28ffc6752a8",
   "metadata": {},
   "source": [
    "#### Challenge 2: Model Training and MLOps"
   ]
  },
  {
   "cell_type": "code",
   "execution_count": null,
   "id": "ebd66187-8509-4aae-b8a3-8d7c29a0d8b2",
   "metadata": {},
   "outputs": [],
   "source": [
    "#Create larger warehouse \n",
    "\n",
    "CROSS_VALIDATION_FOLDS = 10\n",
    "POLYNOMIAL_FEATURES_DEGREE = 2\n",
    "\n",
    "# Use GridSearch to find the best fitting model based on number_of_folds folds\n",
    "\n",
    "# Fit and Score\n",
    "\n",
    "# R2 score on train and test datasets"
   ]
  },
  {
   "cell_type": "markdown",
   "id": "5c390381-7fda-4443-bf2e-96897aba4d5e",
   "metadata": {},
   "source": [
    "##### Use the Model Registry\n",
    "\n",
    "[Docs: Snowpark ML Model Registry](https://docs.snowflake.com/en/developer-guide/snowpark-ml/snowpark-ml-mlops-model-registry#opening-the-snowpark-model-registry)\n"
   ]
  },
  {
   "cell_type": "code",
   "execution_count": 92,
   "id": "891da307-3928-4b80-9833-9d7eae3698f7",
   "metadata": {},
   "outputs": [
    {
     "data": {
      "text/plain": [
       "<snowflake.ml.model._client.model.model_version_impl.ModelVersion at 0x13f34a010>"
      ]
     },
     "execution_count": 92,
     "metadata": {},
     "output_type": "execute_result"
    }
   ],
   "source": [
    "# Dont forget your import \n",
    "\n",
    "# create the Registry\n",
    "\n",
    "#Log the model and create a reference. \n"
   ]
  },
  {
   "cell_type": "markdown",
   "id": "716d51a8-b9cc-4a09-81aa-1129b1c0dd78",
   "metadata": {},
   "source": [
    "#### Create fake data to test your model against\n"
   ]
  },
  {
   "cell_type": "code",
   "execution_count": 129,
   "id": "530e44b6-7df7-4c4e-8e8f-1911281859b7",
   "metadata": {},
   "outputs": [
    {
     "name": "stdout",
     "output_type": "stream",
     "text": [
      "-------------------------------------------------------------------------\n",
      "|\"MONTH\"   |\"SEARCHENGINE\"  |\"SOCIALMEDIA\"  |\"VIDEO\"  |\"EMAIL\"  |\"ROI\"  |\n",
      "-------------------------------------------------------------------------\n",
      "|January   |35              |50             |35       |85       |8.22   |\n",
      "|February  |75              |50             |35       |85       |13.9   |\n",
      "|March     |15              |50             |35       |15       |7.34   |\n",
      "|April     |25              |80             |40       |90       |13.23  |\n",
      "|May       |95              |95             |10       |95       |6.246  |\n",
      "|June      |35              |50             |35       |85       |8.22   |\n",
      "-------------------------------------------------------------------------\n",
      "\n"
     ]
    }
   ],
   "source": [
    "session.sql(\"\"\"CREATE or REPLACE TABLE BUDGET_ALLOCATIONS_AND_ROI (\n",
    "  MONTH varchar(30),\n",
    "  SEARCHENGINE integer,\n",
    "  SOCIALMEDIA integer,\n",
    "  VIDEO integer,\n",
    "  EMAIL integer,\n",
    "  ROI float);\"\"\").collect()\n",
    "\n",
    "session.sql(\"\"\"\n",
    "INSERT INTO BUDGET_ALLOCATIONS_AND_ROI (MONTH, SEARCHENGINE, SOCIALMEDIA, VIDEO, EMAIL, ROI)\n",
    "VALUES\n",
    "('January',35,50,35,85,8.22),\n",
    "('February',75,50,35,85,13.90),\n",
    "('March',15,50,35,15,7.34),\n",
    "('April',25,80,40,90,13.23),\n",
    "('May',95,95,10,95,6.246),\n",
    "('June',35,50,35,85,8.22);\"\"\").collect()\n",
    "\n",
    "budgets = session.table('BUDGET_ALLOCATIONS_AND_ROI')\n",
    "budgets.show()"
   ]
  },
  {
   "cell_type": "code",
   "execution_count": 130,
   "id": "56473e03-3523-459a-be39-bafc48d0bfd5",
   "metadata": {},
   "outputs": [
    {
     "ename": "SnowparkSQLException",
     "evalue": "(1300) (1304): 390114 (08001): Authentication token has expired.  The user must authenticate again.",
     "output_type": "error",
     "traceback": [
      "\u001b[0;31m---------------------------------------------------------------------------\u001b[0m",
      "\u001b[0;31mSnowparkSQLException\u001b[0m                      Traceback (most recent call last)",
      "File \u001b[0;32m~/opt/anaconda3/envs/snowpark-de-ml/lib/python3.11/site-packages/snowflake/ml/_internal/telemetry.py:358\u001b[0m, in \u001b[0;36msend_api_usage_telemetry.<locals>.decorator.<locals>.wrap\u001b[0;34m(*args, **kwargs)\u001b[0m\n\u001b[1;32m    357\u001b[0m \u001b[38;5;28;01mtry\u001b[39;00m:\n\u001b[0;32m--> 358\u001b[0m     res \u001b[38;5;241m=\u001b[39m func(\u001b[38;5;241m*\u001b[39margs, \u001b[38;5;241m*\u001b[39m\u001b[38;5;241m*\u001b[39mkwargs)\n\u001b[1;32m    359\u001b[0m \u001b[38;5;28;01mexcept\u001b[39;00m \u001b[38;5;167;01mException\u001b[39;00m \u001b[38;5;28;01mas\u001b[39;00m e:\n",
      "File \u001b[0;32m~/opt/anaconda3/envs/snowpark-de-ml/lib/python3.11/site-packages/snowflake/ml/model/_client/model/model_version_impl.py:261\u001b[0m, in \u001b[0;36mModelVersion.show_functions\u001b[0;34m(self)\u001b[0m\n\u001b[1;32m    260\u001b[0m \u001b[38;5;28;01mtry\u001b[39;00m:\n\u001b[0;32m--> 261\u001b[0m     client_data \u001b[38;5;241m=\u001b[39m \u001b[38;5;28mself\u001b[39m\u001b[38;5;241m.\u001b[39m_model_ops\u001b[38;5;241m.\u001b[39mget_client_data_in_user_data(\n\u001b[1;32m    262\u001b[0m         model_name\u001b[38;5;241m=\u001b[39m\u001b[38;5;28mself\u001b[39m\u001b[38;5;241m.\u001b[39m_model_name,\n\u001b[1;32m    263\u001b[0m         version_name\u001b[38;5;241m=\u001b[39m\u001b[38;5;28mself\u001b[39m\u001b[38;5;241m.\u001b[39m_version_name,\n\u001b[1;32m    264\u001b[0m         statement_params\u001b[38;5;241m=\u001b[39mstatement_params,\n\u001b[1;32m    265\u001b[0m     )\n\u001b[1;32m    266\u001b[0m     \u001b[38;5;28;01mreturn\u001b[39;00m [\n\u001b[1;32m    267\u001b[0m         model_manifest_schema\u001b[38;5;241m.\u001b[39mModelFunctionInfo(\n\u001b[1;32m    268\u001b[0m             name\u001b[38;5;241m=\u001b[39mfi[\u001b[38;5;124m\"\u001b[39m\u001b[38;5;124mname\u001b[39m\u001b[38;5;124m\"\u001b[39m],\n\u001b[0;32m   (...)\u001b[0m\n\u001b[1;32m    272\u001b[0m         \u001b[38;5;28;01mfor\u001b[39;00m fi \u001b[38;5;129;01min\u001b[39;00m client_data[\u001b[38;5;124m\"\u001b[39m\u001b[38;5;124mfunctions\u001b[39m\u001b[38;5;124m\"\u001b[39m]\n\u001b[1;32m    273\u001b[0m     ]\n",
      "File \u001b[0;32m~/opt/anaconda3/envs/snowpark-de-ml/lib/python3.11/site-packages/snowflake/ml/model/_client/ops/model_ops.py:368\u001b[0m, in \u001b[0;36mModelOperator.get_client_data_in_user_data\u001b[0;34m(self, model_name, version_name, statement_params)\u001b[0m\n\u001b[1;32m    361\u001b[0m \u001b[38;5;28;01mdef\u001b[39;00m \u001b[38;5;21mget_client_data_in_user_data\u001b[39m(\n\u001b[1;32m    362\u001b[0m     \u001b[38;5;28mself\u001b[39m,\n\u001b[1;32m    363\u001b[0m     \u001b[38;5;241m*\u001b[39m,\n\u001b[0;32m   (...)\u001b[0m\n\u001b[1;32m    366\u001b[0m     statement_params: Optional[Dict[\u001b[38;5;28mstr\u001b[39m, Any]] \u001b[38;5;241m=\u001b[39m \u001b[38;5;28;01mNone\u001b[39;00m,\n\u001b[1;32m    367\u001b[0m ) \u001b[38;5;241m-\u001b[39m\u001b[38;5;241m>\u001b[39m model_manifest_schema\u001b[38;5;241m.\u001b[39mSnowparkMLDataDict:\n\u001b[0;32m--> 368\u001b[0m     raw_user_data_json_string \u001b[38;5;241m=\u001b[39m \u001b[38;5;28mself\u001b[39m\u001b[38;5;241m.\u001b[39m_model_client\u001b[38;5;241m.\u001b[39mshow_versions(\n\u001b[1;32m    369\u001b[0m         model_name\u001b[38;5;241m=\u001b[39mmodel_name,\n\u001b[1;32m    370\u001b[0m         version_name\u001b[38;5;241m=\u001b[39mversion_name,\n\u001b[1;32m    371\u001b[0m         statement_params\u001b[38;5;241m=\u001b[39mstatement_params,\n\u001b[1;32m    372\u001b[0m     )[\u001b[38;5;241m0\u001b[39m][\u001b[38;5;28mself\u001b[39m\u001b[38;5;241m.\u001b[39m_model_client\u001b[38;5;241m.\u001b[39mMODEL_VERSION_USER_DATA_COL_NAME]\n\u001b[1;32m    373\u001b[0m     raw_user_data \u001b[38;5;241m=\u001b[39m json\u001b[38;5;241m.\u001b[39mloads(raw_user_data_json_string)\n",
      "File \u001b[0;32m~/opt/anaconda3/envs/snowpark-de-ml/lib/python3.11/site-packages/snowflake/ml/model/_client/sql/model.py:95\u001b[0m, in \u001b[0;36mModelSQLClient.show_versions\u001b[0;34m(self, model_name, version_name, validate_result, statement_params)\u001b[0m\n\u001b[1;32m     93\u001b[0m     res \u001b[38;5;241m=\u001b[39m res\u001b[38;5;241m.\u001b[39mhas_dimensions(expected_rows\u001b[38;5;241m=\u001b[39m\u001b[38;5;241m1\u001b[39m)\n\u001b[0;32m---> 95\u001b[0m \u001b[38;5;28;01mreturn\u001b[39;00m res\u001b[38;5;241m.\u001b[39mvalidate()\n",
      "File \u001b[0;32m~/opt/anaconda3/envs/snowpark-de-ml/lib/python3.11/site-packages/snowflake/ml/_internal/utils/query_result_checker.py:232\u001b[0m, in \u001b[0;36mResultValidator.validate\u001b[0;34m(self)\u001b[0m\n\u001b[1;32m    227\u001b[0m \u001b[38;5;250m\u001b[39m\u001b[38;5;124;03m\"\"\"Execute the query and validate the result.\u001b[39;00m\n\u001b[1;32m    228\u001b[0m \n\u001b[1;32m    229\u001b[0m \u001b[38;5;124;03mReturns:\u001b[39;00m\n\u001b[1;32m    230\u001b[0m \u001b[38;5;124;03m    Query result.\u001b[39;00m\n\u001b[1;32m    231\u001b[0m \u001b[38;5;124;03m\"\"\"\u001b[39;00m\n\u001b[0;32m--> 232\u001b[0m result \u001b[38;5;241m=\u001b[39m \u001b[38;5;28mself\u001b[39m\u001b[38;5;241m.\u001b[39m_get_result()\n\u001b[1;32m    233\u001b[0m \u001b[38;5;28;01mfor\u001b[39;00m matcher \u001b[38;5;129;01min\u001b[39;00m \u001b[38;5;28mself\u001b[39m\u001b[38;5;241m.\u001b[39m_success_matchers:\n",
      "File \u001b[0;32m~/opt/anaconda3/envs/snowpark-de-ml/lib/python3.11/site-packages/snowflake/ml/_internal/utils/query_result_checker.py:264\u001b[0m, in \u001b[0;36mSqlResultValidator._get_result\u001b[0;34m(self)\u001b[0m\n\u001b[1;32m    263\u001b[0m \u001b[38;5;250m\u001b[39m\u001b[38;5;124;03m\"\"\"Collect the result of the given SQL query.\"\"\"\u001b[39;00m\n\u001b[0;32m--> 264\u001b[0m \u001b[38;5;28;01mreturn\u001b[39;00m \u001b[38;5;28mself\u001b[39m\u001b[38;5;241m.\u001b[39m_session\u001b[38;5;241m.\u001b[39msql(\u001b[38;5;28mself\u001b[39m\u001b[38;5;241m.\u001b[39m_query)\u001b[38;5;241m.\u001b[39mcollect(statement_params\u001b[38;5;241m=\u001b[39m\u001b[38;5;28mself\u001b[39m\u001b[38;5;241m.\u001b[39m_statement_params)\n",
      "File \u001b[0;32m~/opt/anaconda3/envs/snowpark-de-ml/lib/python3.11/site-packages/snowflake/snowpark/_internal/telemetry.py:139\u001b[0m, in \u001b[0;36mdf_collect_api_telemetry.<locals>.wrap\u001b[0;34m(*args, **kwargs)\u001b[0m\n\u001b[1;32m    138\u001b[0m \u001b[38;5;28;01mwith\u001b[39;00m args[\u001b[38;5;241m0\u001b[39m]\u001b[38;5;241m.\u001b[39m_session\u001b[38;5;241m.\u001b[39mquery_history() \u001b[38;5;28;01mas\u001b[39;00m query_history:\n\u001b[0;32m--> 139\u001b[0m     result \u001b[38;5;241m=\u001b[39m func(\u001b[38;5;241m*\u001b[39margs, \u001b[38;5;241m*\u001b[39m\u001b[38;5;241m*\u001b[39mkwargs)\n\u001b[1;32m    140\u001b[0m plan \u001b[38;5;241m=\u001b[39m args[\u001b[38;5;241m0\u001b[39m]\u001b[38;5;241m.\u001b[39m_select_statement \u001b[38;5;129;01mor\u001b[39;00m args[\u001b[38;5;241m0\u001b[39m]\u001b[38;5;241m.\u001b[39m_plan\n",
      "File \u001b[0;32m~/opt/anaconda3/envs/snowpark-de-ml/lib/python3.11/site-packages/snowflake/snowpark/dataframe.py:593\u001b[0m, in \u001b[0;36mDataFrame.collect\u001b[0;34m(self, statement_params, block, log_on_exception, case_sensitive)\u001b[0m\n\u001b[1;32m    579\u001b[0m \u001b[38;5;250m\u001b[39m\u001b[38;5;124;03m\"\"\"Executes the query representing this DataFrame and returns the result as a\u001b[39;00m\n\u001b[1;32m    580\u001b[0m \u001b[38;5;124;03mlist of :class:`Row` objects.\u001b[39;00m\n\u001b[1;32m    581\u001b[0m \n\u001b[0;32m   (...)\u001b[0m\n\u001b[1;32m    591\u001b[0m \u001b[38;5;124;03m    :meth:`collect_nowait()`\u001b[39;00m\n\u001b[1;32m    592\u001b[0m \u001b[38;5;124;03m\"\"\"\u001b[39;00m\n\u001b[0;32m--> 593\u001b[0m \u001b[38;5;28;01mreturn\u001b[39;00m \u001b[38;5;28mself\u001b[39m\u001b[38;5;241m.\u001b[39m_internal_collect_with_tag_no_telemetry(\n\u001b[1;32m    594\u001b[0m     statement_params\u001b[38;5;241m=\u001b[39mstatement_params,\n\u001b[1;32m    595\u001b[0m     block\u001b[38;5;241m=\u001b[39mblock,\n\u001b[1;32m    596\u001b[0m     log_on_exception\u001b[38;5;241m=\u001b[39mlog_on_exception,\n\u001b[1;32m    597\u001b[0m     case_sensitive\u001b[38;5;241m=\u001b[39mcase_sensitive,\n\u001b[1;32m    598\u001b[0m )\n",
      "File \u001b[0;32m~/opt/anaconda3/envs/snowpark-de-ml/lib/python3.11/site-packages/snowflake/snowpark/dataframe.py:640\u001b[0m, in \u001b[0;36mDataFrame._internal_collect_with_tag_no_telemetry\u001b[0;34m(self, statement_params, block, data_type, log_on_exception, case_sensitive)\u001b[0m\n\u001b[1;32m    628\u001b[0m \u001b[38;5;28;01mdef\u001b[39;00m \u001b[38;5;21m_internal_collect_with_tag_no_telemetry\u001b[39m(\n\u001b[1;32m    629\u001b[0m     \u001b[38;5;28mself\u001b[39m,\n\u001b[1;32m    630\u001b[0m     \u001b[38;5;241m*\u001b[39m,\n\u001b[0;32m   (...)\u001b[0m\n\u001b[1;32m    638\u001b[0m     \u001b[38;5;66;03m# we should always call this method instead of collect(), to make sure the\u001b[39;00m\n\u001b[1;32m    639\u001b[0m     \u001b[38;5;66;03m# query tag is set properly.\u001b[39;00m\n\u001b[0;32m--> 640\u001b[0m     \u001b[38;5;28;01mreturn\u001b[39;00m \u001b[38;5;28mself\u001b[39m\u001b[38;5;241m.\u001b[39m_session\u001b[38;5;241m.\u001b[39m_conn\u001b[38;5;241m.\u001b[39mexecute(\n\u001b[1;32m    641\u001b[0m         \u001b[38;5;28mself\u001b[39m\u001b[38;5;241m.\u001b[39m_plan,\n\u001b[1;32m    642\u001b[0m         block\u001b[38;5;241m=\u001b[39mblock,\n\u001b[1;32m    643\u001b[0m         data_type\u001b[38;5;241m=\u001b[39mdata_type,\n\u001b[1;32m    644\u001b[0m         _statement_params\u001b[38;5;241m=\u001b[39mcreate_or_update_statement_params_with_query_tag(\n\u001b[1;32m    645\u001b[0m             statement_params \u001b[38;5;129;01mor\u001b[39;00m \u001b[38;5;28mself\u001b[39m\u001b[38;5;241m.\u001b[39m_statement_params,\n\u001b[1;32m    646\u001b[0m             \u001b[38;5;28mself\u001b[39m\u001b[38;5;241m.\u001b[39m_session\u001b[38;5;241m.\u001b[39mquery_tag,\n\u001b[1;32m    647\u001b[0m             SKIP_LEVELS_THREE,\n\u001b[1;32m    648\u001b[0m         ),\n\u001b[1;32m    649\u001b[0m         log_on_exception\u001b[38;5;241m=\u001b[39mlog_on_exception,\n\u001b[1;32m    650\u001b[0m         case_sensitive\u001b[38;5;241m=\u001b[39mcase_sensitive,\n\u001b[1;32m    651\u001b[0m     )\n",
      "File \u001b[0;32m~/opt/anaconda3/envs/snowpark-de-ml/lib/python3.11/site-packages/snowflake/snowpark/_internal/server_connection.py:508\u001b[0m, in \u001b[0;36mServerConnection.execute\u001b[0;34m(self, plan, to_pandas, to_iter, block, data_type, log_on_exception, case_sensitive, **kwargs)\u001b[0m\n\u001b[1;32m    505\u001b[0m     \u001b[38;5;28;01mraise\u001b[39;00m \u001b[38;5;167;01mNotImplementedError\u001b[39;00m(\n\u001b[1;32m    506\u001b[0m         \u001b[38;5;124m\"\u001b[39m\u001b[38;5;124mAsync query is not supported in stored procedure yet\u001b[39m\u001b[38;5;124m\"\u001b[39m\n\u001b[1;32m    507\u001b[0m     )\n\u001b[0;32m--> 508\u001b[0m result_set, result_meta \u001b[38;5;241m=\u001b[39m \u001b[38;5;28mself\u001b[39m\u001b[38;5;241m.\u001b[39mget_result_set(\n\u001b[1;32m    509\u001b[0m     plan,\n\u001b[1;32m    510\u001b[0m     to_pandas,\n\u001b[1;32m    511\u001b[0m     to_iter,\n\u001b[1;32m    512\u001b[0m     \u001b[38;5;241m*\u001b[39m\u001b[38;5;241m*\u001b[39mkwargs,\n\u001b[1;32m    513\u001b[0m     block\u001b[38;5;241m=\u001b[39mblock,\n\u001b[1;32m    514\u001b[0m     data_type\u001b[38;5;241m=\u001b[39mdata_type,\n\u001b[1;32m    515\u001b[0m     log_on_exception\u001b[38;5;241m=\u001b[39mlog_on_exception,\n\u001b[1;32m    516\u001b[0m     case_sensitive\u001b[38;5;241m=\u001b[39mcase_sensitive,\n\u001b[1;32m    517\u001b[0m )\n\u001b[1;32m    518\u001b[0m \u001b[38;5;28;01mif\u001b[39;00m \u001b[38;5;129;01mnot\u001b[39;00m block:\n",
      "File \u001b[0;32m~/opt/anaconda3/envs/snowpark-de-ml/lib/python3.11/site-packages/snowflake/snowpark/_internal/analyzer/snowflake_plan.py:185\u001b[0m, in \u001b[0;36mSnowflakePlan.Decorator.wrap_exception.<locals>.wrap\u001b[0;34m(*args, **kwargs)\u001b[0m\n\u001b[1;32m    182\u001b[0m ne \u001b[38;5;241m=\u001b[39m SnowparkClientExceptionMessages\u001b[38;5;241m.\u001b[39mSQL_EXCEPTION_FROM_PROGRAMMING_ERROR(\n\u001b[1;32m    183\u001b[0m     e\n\u001b[1;32m    184\u001b[0m )\n\u001b[0;32m--> 185\u001b[0m \u001b[38;5;28;01mraise\u001b[39;00m ne\u001b[38;5;241m.\u001b[39mwith_traceback(tb) \u001b[38;5;28;01mfrom\u001b[39;00m \u001b[38;5;28;01mNone\u001b[39;00m\n",
      "File \u001b[0;32m~/opt/anaconda3/envs/snowpark-de-ml/lib/python3.11/site-packages/snowflake/snowpark/_internal/analyzer/snowflake_plan.py:116\u001b[0m, in \u001b[0;36mSnowflakePlan.Decorator.wrap_exception.<locals>.wrap\u001b[0;34m(*args, **kwargs)\u001b[0m\n\u001b[1;32m    115\u001b[0m \u001b[38;5;28;01mtry\u001b[39;00m:\n\u001b[0;32m--> 116\u001b[0m     \u001b[38;5;28;01mreturn\u001b[39;00m func(\u001b[38;5;241m*\u001b[39margs, \u001b[38;5;241m*\u001b[39m\u001b[38;5;241m*\u001b[39mkwargs)\n\u001b[1;32m    117\u001b[0m \u001b[38;5;28;01mexcept\u001b[39;00m snowflake\u001b[38;5;241m.\u001b[39mconnector\u001b[38;5;241m.\u001b[39merrors\u001b[38;5;241m.\u001b[39mProgrammingError \u001b[38;5;28;01mas\u001b[39;00m e:\n",
      "File \u001b[0;32m~/opt/anaconda3/envs/snowpark-de-ml/lib/python3.11/site-packages/snowflake/snowpark/_internal/server_connection.py:609\u001b[0m, in \u001b[0;36mServerConnection.get_result_set\u001b[0;34m(self, plan, to_pandas, to_iter, block, data_type, log_on_exception, case_sensitive, **kwargs)\u001b[0m\n\u001b[1;32m    608\u001b[0m     final_query \u001b[38;5;241m=\u001b[39m final_query\u001b[38;5;241m.\u001b[39mreplace(holder, id_)\n\u001b[0;32m--> 609\u001b[0m result \u001b[38;5;241m=\u001b[39m \u001b[38;5;28mself\u001b[39m\u001b[38;5;241m.\u001b[39mrun_query(\n\u001b[1;32m    610\u001b[0m     final_query,\n\u001b[1;32m    611\u001b[0m     to_pandas,\n\u001b[1;32m    612\u001b[0m     to_iter \u001b[38;5;129;01mand\u001b[39;00m (i \u001b[38;5;241m==\u001b[39m \u001b[38;5;28mlen\u001b[39m(plan\u001b[38;5;241m.\u001b[39mqueries) \u001b[38;5;241m-\u001b[39m \u001b[38;5;241m1\u001b[39m),\n\u001b[1;32m    613\u001b[0m     is_ddl_on_temp_object\u001b[38;5;241m=\u001b[39mquery\u001b[38;5;241m.\u001b[39mis_ddl_on_temp_object,\n\u001b[1;32m    614\u001b[0m     block\u001b[38;5;241m=\u001b[39m\u001b[38;5;129;01mnot\u001b[39;00m is_last,\n\u001b[1;32m    615\u001b[0m     data_type\u001b[38;5;241m=\u001b[39mdata_type,\n\u001b[1;32m    616\u001b[0m     async_job_plan\u001b[38;5;241m=\u001b[39mplan,\n\u001b[1;32m    617\u001b[0m     log_on_exception\u001b[38;5;241m=\u001b[39mlog_on_exception,\n\u001b[1;32m    618\u001b[0m     case_sensitive\u001b[38;5;241m=\u001b[39mcase_sensitive,\n\u001b[1;32m    619\u001b[0m     params\u001b[38;5;241m=\u001b[39mquery\u001b[38;5;241m.\u001b[39mparams,\n\u001b[1;32m    620\u001b[0m     \u001b[38;5;241m*\u001b[39m\u001b[38;5;241m*\u001b[39mkwargs,\n\u001b[1;32m    621\u001b[0m )\n\u001b[1;32m    622\u001b[0m placeholders[query\u001b[38;5;241m.\u001b[39mquery_id_place_holder] \u001b[38;5;241m=\u001b[39m (\n\u001b[1;32m    623\u001b[0m     result[\u001b[38;5;124m\"\u001b[39m\u001b[38;5;124msfqid\u001b[39m\u001b[38;5;124m\"\u001b[39m] \u001b[38;5;28;01mif\u001b[39;00m \u001b[38;5;129;01mnot\u001b[39;00m is_last \u001b[38;5;28;01melse\u001b[39;00m result\u001b[38;5;241m.\u001b[39mquery_id\n\u001b[1;32m    624\u001b[0m )\n",
      "File \u001b[0;32m~/opt/anaconda3/envs/snowpark-de-ml/lib/python3.11/site-packages/snowflake/snowpark/_internal/server_connection.py:123\u001b[0m, in \u001b[0;36mServerConnection._Decorator.wrap_exception.<locals>.wrap\u001b[0;34m(*args, **kwargs)\u001b[0m\n\u001b[1;32m    122\u001b[0m \u001b[38;5;28;01mexcept\u001b[39;00m \u001b[38;5;167;01mException\u001b[39;00m \u001b[38;5;28;01mas\u001b[39;00m ex:\n\u001b[0;32m--> 123\u001b[0m     \u001b[38;5;28;01mraise\u001b[39;00m ex\n",
      "File \u001b[0;32m~/opt/anaconda3/envs/snowpark-de-ml/lib/python3.11/site-packages/snowflake/snowpark/_internal/server_connection.py:117\u001b[0m, in \u001b[0;36mServerConnection._Decorator.wrap_exception.<locals>.wrap\u001b[0;34m(*args, **kwargs)\u001b[0m\n\u001b[1;32m    116\u001b[0m \u001b[38;5;28;01mtry\u001b[39;00m:\n\u001b[0;32m--> 117\u001b[0m     \u001b[38;5;28;01mreturn\u001b[39;00m func(\u001b[38;5;241m*\u001b[39margs, \u001b[38;5;241m*\u001b[39m\u001b[38;5;241m*\u001b[39mkwargs)\n\u001b[1;32m    118\u001b[0m \u001b[38;5;28;01mexcept\u001b[39;00m ReauthenticationRequest \u001b[38;5;28;01mas\u001b[39;00m ex:\n",
      "File \u001b[0;32m~/opt/anaconda3/envs/snowpark-de-ml/lib/python3.11/site-packages/snowflake/snowpark/_internal/server_connection.py:415\u001b[0m, in \u001b[0;36mServerConnection.run_query\u001b[0;34m(self, query, to_pandas, to_iter, is_ddl_on_temp_object, block, data_type, async_job_plan, log_on_exception, case_sensitive, params, num_statements, **kwargs)\u001b[0m\n\u001b[1;32m    414\u001b[0m         logger\u001b[38;5;241m.\u001b[39merror(\u001b[38;5;124mf\u001b[39m\u001b[38;5;124m\"\u001b[39m\u001b[38;5;124mFailed to execute query\u001b[39m\u001b[38;5;132;01m{\u001b[39;00mquery_id_log\u001b[38;5;132;01m}\u001b[39;00m\u001b[38;5;124m \u001b[39m\u001b[38;5;132;01m{\u001b[39;00mquery\u001b[38;5;132;01m}\u001b[39;00m\u001b[38;5;130;01m\\n\u001b[39;00m\u001b[38;5;132;01m{\u001b[39;00mex\u001b[38;5;132;01m}\u001b[39;00m\u001b[38;5;124m\"\u001b[39m)\n\u001b[0;32m--> 415\u001b[0m     \u001b[38;5;28;01mraise\u001b[39;00m ex\n\u001b[1;32m    417\u001b[0m \u001b[38;5;66;03m# fetch_pandas_all/batches() only works for SELECT statements\u001b[39;00m\n\u001b[1;32m    418\u001b[0m \u001b[38;5;66;03m# We call fetchall() if fetch_pandas_all/batches() fails,\u001b[39;00m\n\u001b[1;32m    419\u001b[0m \u001b[38;5;66;03m# because when the query plan has multiple queries, it will\u001b[39;00m\n\u001b[1;32m    420\u001b[0m \u001b[38;5;66;03m# have non-select statements, and it shouldn't fail if the user\u001b[39;00m\n\u001b[1;32m    421\u001b[0m \u001b[38;5;66;03m# calls to_pandas() to execute the query.\u001b[39;00m\n",
      "File \u001b[0;32m~/opt/anaconda3/envs/snowpark-de-ml/lib/python3.11/site-packages/snowflake/snowpark/_internal/server_connection.py:400\u001b[0m, in \u001b[0;36mServerConnection.run_query\u001b[0;34m(self, query, to_pandas, to_iter, is_ddl_on_temp_object, block, data_type, async_job_plan, log_on_exception, case_sensitive, params, num_statements, **kwargs)\u001b[0m\n\u001b[1;32m    399\u001b[0m \u001b[38;5;28;01mif\u001b[39;00m block:\n\u001b[0;32m--> 400\u001b[0m     results_cursor \u001b[38;5;241m=\u001b[39m \u001b[38;5;28mself\u001b[39m\u001b[38;5;241m.\u001b[39mexecute_and_notify_query_listener(\n\u001b[1;32m    401\u001b[0m         query, params\u001b[38;5;241m=\u001b[39mparams, \u001b[38;5;241m*\u001b[39m\u001b[38;5;241m*\u001b[39mkwargs\n\u001b[1;32m    402\u001b[0m     )\n\u001b[1;32m    403\u001b[0m     logger\u001b[38;5;241m.\u001b[39mdebug(\u001b[38;5;124mf\u001b[39m\u001b[38;5;124m\"\u001b[39m\u001b[38;5;124mExecute query [queryID: \u001b[39m\u001b[38;5;132;01m{\u001b[39;00mresults_cursor\u001b[38;5;241m.\u001b[39msfqid\u001b[38;5;132;01m}\u001b[39;00m\u001b[38;5;124m] \u001b[39m\u001b[38;5;132;01m{\u001b[39;00mquery\u001b[38;5;132;01m}\u001b[39;00m\u001b[38;5;124m\"\u001b[39m)\n",
      "File \u001b[0;32m~/opt/anaconda3/envs/snowpark-de-ml/lib/python3.11/site-packages/snowflake/snowpark/_internal/server_connection.py:352\u001b[0m, in \u001b[0;36mServerConnection.execute_and_notify_query_listener\u001b[0;34m(self, query, **kwargs)\u001b[0m\n\u001b[1;32m    349\u001b[0m \u001b[38;5;28;01mdef\u001b[39;00m \u001b[38;5;21mexecute_and_notify_query_listener\u001b[39m(\n\u001b[1;32m    350\u001b[0m     \u001b[38;5;28mself\u001b[39m, query: \u001b[38;5;28mstr\u001b[39m, \u001b[38;5;241m*\u001b[39m\u001b[38;5;241m*\u001b[39mkwargs: Any\n\u001b[1;32m    351\u001b[0m ) \u001b[38;5;241m-\u001b[39m\u001b[38;5;241m>\u001b[39m SnowflakeCursor:\n\u001b[0;32m--> 352\u001b[0m     results_cursor \u001b[38;5;241m=\u001b[39m \u001b[38;5;28mself\u001b[39m\u001b[38;5;241m.\u001b[39m_cursor\u001b[38;5;241m.\u001b[39mexecute(query, \u001b[38;5;241m*\u001b[39m\u001b[38;5;241m*\u001b[39mkwargs)\n\u001b[1;32m    353\u001b[0m     \u001b[38;5;28mself\u001b[39m\u001b[38;5;241m.\u001b[39mnotify_query_listeners(\n\u001b[1;32m    354\u001b[0m         QueryRecord(results_cursor\u001b[38;5;241m.\u001b[39msfqid, results_cursor\u001b[38;5;241m.\u001b[39mquery)\n\u001b[1;32m    355\u001b[0m     )\n",
      "File \u001b[0;32m~/opt/anaconda3/envs/snowpark-de-ml/lib/python3.11/site-packages/snowflake/connector/cursor.py:1033\u001b[0m, in \u001b[0;36mSnowflakeCursor.execute\u001b[0;34m(self, command, params, _bind_stage, timeout, _exec_async, _no_retry, _do_reset, _put_callback, _put_azure_callback, _put_callback_output_stream, _get_callback, _get_azure_callback, _get_callback_output_stream, _show_progress_bar, _statement_params, _is_internal, _describe_only, _no_results, _is_put_get, _raise_put_get_error, _force_put_overwrite, _skip_upload_on_content_match, file_stream, num_statements)\u001b[0m\n\u001b[1;32m   1032\u001b[0m     logger\u001b[38;5;241m.\u001b[39minfo(\u001b[38;5;124m\"\u001b[39m\u001b[38;5;124mquery: [\u001b[39m\u001b[38;5;132;01m%s\u001b[39;00m\u001b[38;5;124m]\u001b[39m\u001b[38;5;124m\"\u001b[39m, \u001b[38;5;28mself\u001b[39m\u001b[38;5;241m.\u001b[39m_format_query_for_log(query))\n\u001b[0;32m-> 1033\u001b[0m ret \u001b[38;5;241m=\u001b[39m \u001b[38;5;28mself\u001b[39m\u001b[38;5;241m.\u001b[39m_execute_helper(query, \u001b[38;5;241m*\u001b[39m\u001b[38;5;241m*\u001b[39mkwargs)\n\u001b[1;32m   1034\u001b[0m \u001b[38;5;28mself\u001b[39m\u001b[38;5;241m.\u001b[39m_sfqid \u001b[38;5;241m=\u001b[39m (\n\u001b[1;32m   1035\u001b[0m     ret[\u001b[38;5;124m\"\u001b[39m\u001b[38;5;124mdata\u001b[39m\u001b[38;5;124m\"\u001b[39m][\u001b[38;5;124m\"\u001b[39m\u001b[38;5;124mqueryId\u001b[39m\u001b[38;5;124m\"\u001b[39m]\n\u001b[1;32m   1036\u001b[0m     \u001b[38;5;28;01mif\u001b[39;00m \u001b[38;5;124m\"\u001b[39m\u001b[38;5;124mdata\u001b[39m\u001b[38;5;124m\"\u001b[39m \u001b[38;5;129;01min\u001b[39;00m ret \u001b[38;5;129;01mand\u001b[39;00m \u001b[38;5;124m\"\u001b[39m\u001b[38;5;124mqueryId\u001b[39m\u001b[38;5;124m\"\u001b[39m \u001b[38;5;129;01min\u001b[39;00m ret[\u001b[38;5;124m\"\u001b[39m\u001b[38;5;124mdata\u001b[39m\u001b[38;5;124m\"\u001b[39m]\n\u001b[1;32m   1037\u001b[0m     \u001b[38;5;28;01melse\u001b[39;00m \u001b[38;5;28;01mNone\u001b[39;00m\n\u001b[1;32m   1038\u001b[0m )\n",
      "File \u001b[0;32m~/opt/anaconda3/envs/snowpark-de-ml/lib/python3.11/site-packages/snowflake/connector/cursor.py:748\u001b[0m, in \u001b[0;36mSnowflakeCursor._execute_helper\u001b[0;34m(self, query, timeout, statement_params, binding_params, binding_stage, is_internal, describe_only, _no_results, _is_put_get, _no_retry)\u001b[0m\n\u001b[1;32m    747\u001b[0m \u001b[38;5;28;01mtry\u001b[39;00m:\n\u001b[0;32m--> 748\u001b[0m     ret \u001b[38;5;241m=\u001b[39m \u001b[38;5;28mself\u001b[39m\u001b[38;5;241m.\u001b[39m_connection\u001b[38;5;241m.\u001b[39mcmd_query(\n\u001b[1;32m    749\u001b[0m         query,\n\u001b[1;32m    750\u001b[0m         \u001b[38;5;28mself\u001b[39m\u001b[38;5;241m.\u001b[39m_sequence_counter,\n\u001b[1;32m    751\u001b[0m         \u001b[38;5;28mself\u001b[39m\u001b[38;5;241m.\u001b[39m_request_id,\n\u001b[1;32m    752\u001b[0m         binding_params\u001b[38;5;241m=\u001b[39mbinding_params,\n\u001b[1;32m    753\u001b[0m         binding_stage\u001b[38;5;241m=\u001b[39mbinding_stage,\n\u001b[1;32m    754\u001b[0m         is_file_transfer\u001b[38;5;241m=\u001b[39m\u001b[38;5;28mbool\u001b[39m(\u001b[38;5;28mself\u001b[39m\u001b[38;5;241m.\u001b[39m_is_file_transfer),\n\u001b[1;32m    755\u001b[0m         statement_params\u001b[38;5;241m=\u001b[39mstatement_params,\n\u001b[1;32m    756\u001b[0m         is_internal\u001b[38;5;241m=\u001b[39mis_internal,\n\u001b[1;32m    757\u001b[0m         describe_only\u001b[38;5;241m=\u001b[39mdescribe_only,\n\u001b[1;32m    758\u001b[0m         _no_results\u001b[38;5;241m=\u001b[39m_no_results,\n\u001b[1;32m    759\u001b[0m         _no_retry\u001b[38;5;241m=\u001b[39m_no_retry,\n\u001b[1;32m    760\u001b[0m         timeout\u001b[38;5;241m=\u001b[39mreal_timeout,\n\u001b[1;32m    761\u001b[0m     )\n\u001b[1;32m    762\u001b[0m \u001b[38;5;28;01mfinally\u001b[39;00m:\n",
      "File \u001b[0;32m~/opt/anaconda3/envs/snowpark-de-ml/lib/python3.11/site-packages/snowflake/connector/connection.py:1281\u001b[0m, in \u001b[0;36mSnowflakeConnection.cmd_query\u001b[0;34m(self, sql, sequence_counter, request_id, binding_params, binding_stage, is_file_transfer, statement_params, is_internal, describe_only, _no_results, _update_current_object, _no_retry, timeout)\u001b[0m\n\u001b[1;32m   1279\u001b[0m url_parameters \u001b[38;5;241m=\u001b[39m {REQUEST_ID: request_id}\n\u001b[0;32m-> 1281\u001b[0m ret \u001b[38;5;241m=\u001b[39m \u001b[38;5;28mself\u001b[39m\u001b[38;5;241m.\u001b[39mrest\u001b[38;5;241m.\u001b[39mrequest(\n\u001b[1;32m   1282\u001b[0m     \u001b[38;5;124m\"\u001b[39m\u001b[38;5;124m/queries/v1/query-request?\u001b[39m\u001b[38;5;124m\"\u001b[39m \u001b[38;5;241m+\u001b[39m urlencode(url_parameters),\n\u001b[1;32m   1283\u001b[0m     data,\n\u001b[1;32m   1284\u001b[0m     client\u001b[38;5;241m=\u001b[39mclient,\n\u001b[1;32m   1285\u001b[0m     _no_results\u001b[38;5;241m=\u001b[39m_no_results,\n\u001b[1;32m   1286\u001b[0m     _include_retry_params\u001b[38;5;241m=\u001b[39m\u001b[38;5;28;01mTrue\u001b[39;00m,\n\u001b[1;32m   1287\u001b[0m     _no_retry\u001b[38;5;241m=\u001b[39m_no_retry,\n\u001b[1;32m   1288\u001b[0m     timeout\u001b[38;5;241m=\u001b[39mtimeout,\n\u001b[1;32m   1289\u001b[0m )\n\u001b[1;32m   1291\u001b[0m \u001b[38;5;28;01mif\u001b[39;00m ret \u001b[38;5;129;01mis\u001b[39;00m \u001b[38;5;28;01mNone\u001b[39;00m:\n",
      "File \u001b[0;32m~/opt/anaconda3/envs/snowpark-de-ml/lib/python3.11/site-packages/snowflake/connector/network.py:493\u001b[0m, in \u001b[0;36mSnowflakeRestful.request\u001b[0;34m(self, url, body, method, client, timeout, _no_results, _include_retry_params, _no_retry)\u001b[0m\n\u001b[1;32m    492\u001b[0m \u001b[38;5;28;01mif\u001b[39;00m method \u001b[38;5;241m==\u001b[39m \u001b[38;5;124m\"\u001b[39m\u001b[38;5;124mpost\u001b[39m\u001b[38;5;124m\"\u001b[39m:\n\u001b[0;32m--> 493\u001b[0m     \u001b[38;5;28;01mreturn\u001b[39;00m \u001b[38;5;28mself\u001b[39m\u001b[38;5;241m.\u001b[39m_post_request(\n\u001b[1;32m    494\u001b[0m         url,\n\u001b[1;32m    495\u001b[0m         headers,\n\u001b[1;32m    496\u001b[0m         json\u001b[38;5;241m.\u001b[39mdumps(body),\n\u001b[1;32m    497\u001b[0m         token\u001b[38;5;241m=\u001b[39m\u001b[38;5;28mself\u001b[39m\u001b[38;5;241m.\u001b[39mtoken,\n\u001b[1;32m    498\u001b[0m         _no_results\u001b[38;5;241m=\u001b[39m_no_results,\n\u001b[1;32m    499\u001b[0m         timeout\u001b[38;5;241m=\u001b[39mtimeout,\n\u001b[1;32m    500\u001b[0m         _include_retry_params\u001b[38;5;241m=\u001b[39m_include_retry_params,\n\u001b[1;32m    501\u001b[0m         no_retry\u001b[38;5;241m=\u001b[39m_no_retry,\n\u001b[1;32m    502\u001b[0m     )\n\u001b[1;32m    503\u001b[0m \u001b[38;5;28;01melse\u001b[39;00m:\n",
      "File \u001b[0;32m~/opt/anaconda3/envs/snowpark-de-ml/lib/python3.11/site-packages/snowflake/connector/network.py:758\u001b[0m, in \u001b[0;36mSnowflakeRestful._post_request\u001b[0;34m(self, url, headers, body, token, timeout, socket_timeout, _no_results, no_retry, _include_retry_params)\u001b[0m\n\u001b[1;32m    757\u001b[0m \u001b[38;5;28;01mif\u001b[39;00m \u001b[38;5;28mself\u001b[39m\u001b[38;5;241m.\u001b[39m_connection\u001b[38;5;241m.\u001b[39m_authenticator \u001b[38;5;241m!=\u001b[39m EXTERNAL_BROWSER_AUTHENTICATOR:\n\u001b[0;32m--> 758\u001b[0m     \u001b[38;5;28;01mraise\u001b[39;00m ex\u001b[38;5;241m.\u001b[39mcause\n\u001b[1;32m    759\u001b[0m ret \u001b[38;5;241m=\u001b[39m \u001b[38;5;28mself\u001b[39m\u001b[38;5;241m.\u001b[39m_connection\u001b[38;5;241m.\u001b[39m_reauthenticate()\n",
      "\u001b[0;31mSnowparkSQLException\u001b[0m: (1304): 390114 (08001): Authentication token has expired.  The user must authenticate again.",
      "\nThe above exception was the direct cause of the following exception:\n",
      "\u001b[0;31mSnowparkSQLException\u001b[0m                      Traceback (most recent call last)",
      "Cell \u001b[0;32mIn[130], line 1\u001b[0m\n\u001b[0;32m----> 1\u001b[0m model_reference\u001b[38;5;241m.\u001b[39mrun(budgets, function_name\u001b[38;5;241m=\u001b[39m\u001b[38;5;124m'\u001b[39m\u001b[38;5;124mpredict\u001b[39m\u001b[38;5;124m'\u001b[39m)\u001b[38;5;241m.\u001b[39mshow()\n",
      "File \u001b[0;32m~/opt/anaconda3/envs/snowpark-de-ml/lib/python3.11/site-packages/snowflake/ml/_internal/telemetry.py:363\u001b[0m, in \u001b[0;36msend_api_usage_telemetry.<locals>.decorator.<locals>.wrap\u001b[0;34m(*args, **kwargs)\u001b[0m\n\u001b[1;32m    360\u001b[0m \u001b[38;5;28;01mif\u001b[39;00m \u001b[38;5;129;01mnot\u001b[39;00m \u001b[38;5;28misinstance\u001b[39m(e, snowml_exceptions\u001b[38;5;241m.\u001b[39mSnowflakeMLException):\n\u001b[1;32m    361\u001b[0m     \u001b[38;5;66;03m# already handled via a nested decorated function\u001b[39;00m\n\u001b[1;32m    362\u001b[0m     \u001b[38;5;28;01mif\u001b[39;00m \u001b[38;5;28mhasattr\u001b[39m(e, \u001b[38;5;124m\"\u001b[39m\u001b[38;5;124m_snowflake_ml_handled\u001b[39m\u001b[38;5;124m\"\u001b[39m) \u001b[38;5;129;01mand\u001b[39;00m e\u001b[38;5;241m.\u001b[39m_snowflake_ml_handled:\n\u001b[0;32m--> 363\u001b[0m         \u001b[38;5;28;01mraise\u001b[39;00m e\n\u001b[1;32m    364\u001b[0m     \u001b[38;5;28;01mif\u001b[39;00m \u001b[38;5;28misinstance\u001b[39m(e, snowpark_exceptions\u001b[38;5;241m.\u001b[39mSnowparkClientException):\n\u001b[1;32m    365\u001b[0m         me \u001b[38;5;241m=\u001b[39m snowml_exceptions\u001b[38;5;241m.\u001b[39mSnowflakeMLException(\n\u001b[1;32m    366\u001b[0m             error_code\u001b[38;5;241m=\u001b[39merror_codes\u001b[38;5;241m.\u001b[39mINTERNAL_SNOWPARK_ERROR, original_exception\u001b[38;5;241m=\u001b[39me\n\u001b[1;32m    367\u001b[0m         )\n",
      "File \u001b[0;32m~/opt/anaconda3/envs/snowpark-de-ml/lib/python3.11/site-packages/snowflake/ml/_internal/telemetry.py:358\u001b[0m, in \u001b[0;36msend_api_usage_telemetry.<locals>.decorator.<locals>.wrap\u001b[0;34m(*args, **kwargs)\u001b[0m\n\u001b[1;32m    349\u001b[0m telemetry_args \u001b[38;5;241m=\u001b[39m \u001b[38;5;28mdict\u001b[39m(\n\u001b[1;32m    350\u001b[0m     func_name\u001b[38;5;241m=\u001b[39m_get_full_func_name(func),\n\u001b[1;32m    351\u001b[0m     function_category\u001b[38;5;241m=\u001b[39mTelemetryField\u001b[38;5;241m.\u001b[39mFUNC_CAT_USAGE\u001b[38;5;241m.\u001b[39mvalue,\n\u001b[0;32m   (...)\u001b[0m\n\u001b[1;32m    355\u001b[0m     custom_tags\u001b[38;5;241m=\u001b[39mcustom_tags,\n\u001b[1;32m    356\u001b[0m )\n\u001b[1;32m    357\u001b[0m \u001b[38;5;28;01mtry\u001b[39;00m:\n\u001b[0;32m--> 358\u001b[0m     res \u001b[38;5;241m=\u001b[39m func(\u001b[38;5;241m*\u001b[39margs, \u001b[38;5;241m*\u001b[39m\u001b[38;5;241m*\u001b[39mkwargs)\n\u001b[1;32m    359\u001b[0m \u001b[38;5;28;01mexcept\u001b[39;00m \u001b[38;5;167;01mException\u001b[39;00m \u001b[38;5;28;01mas\u001b[39;00m e:\n\u001b[1;32m    360\u001b[0m     \u001b[38;5;28;01mif\u001b[39;00m \u001b[38;5;129;01mnot\u001b[39;00m \u001b[38;5;28misinstance\u001b[39m(e, snowml_exceptions\u001b[38;5;241m.\u001b[39mSnowflakeMLException):\n\u001b[1;32m    361\u001b[0m         \u001b[38;5;66;03m# already handled via a nested decorated function\u001b[39;00m\n",
      "File \u001b[0;32m~/opt/anaconda3/envs/snowpark-de-ml/lib/python3.11/site-packages/snowflake/ml/model/_client/model/model_version_impl.py:306\u001b[0m, in \u001b[0;36mModelVersion.run\u001b[0;34m(self, X, function_name)\u001b[0m\n\u001b[1;32m    287\u001b[0m \u001b[38;5;250m\u001b[39m\u001b[38;5;124;03m\"\"\"Invoke a method in a model version object.\u001b[39;00m\n\u001b[1;32m    288\u001b[0m \n\u001b[1;32m    289\u001b[0m \u001b[38;5;124;03mArgs:\u001b[39;00m\n\u001b[0;32m   (...)\u001b[0m\n\u001b[1;32m    299\u001b[0m \u001b[38;5;124;03m    The prediction data. It would be the same type dataframe as your input.\u001b[39;00m\n\u001b[1;32m    300\u001b[0m \u001b[38;5;124;03m\"\"\"\u001b[39;00m\n\u001b[1;32m    301\u001b[0m statement_params \u001b[38;5;241m=\u001b[39m telemetry\u001b[38;5;241m.\u001b[39mget_statement_params(\n\u001b[1;32m    302\u001b[0m     project\u001b[38;5;241m=\u001b[39m_TELEMETRY_PROJECT,\n\u001b[1;32m    303\u001b[0m     subproject\u001b[38;5;241m=\u001b[39m_TELEMETRY_SUBPROJECT,\n\u001b[1;32m    304\u001b[0m )\n\u001b[0;32m--> 306\u001b[0m functions: List[model_manifest_schema\u001b[38;5;241m.\u001b[39mModelFunctionInfo] \u001b[38;5;241m=\u001b[39m \u001b[38;5;28mself\u001b[39m\u001b[38;5;241m.\u001b[39mshow_functions()\n\u001b[1;32m    307\u001b[0m \u001b[38;5;28;01mif\u001b[39;00m function_name:\n\u001b[1;32m    308\u001b[0m     req_method_name \u001b[38;5;241m=\u001b[39m sql_identifier\u001b[38;5;241m.\u001b[39mSqlIdentifier(function_name)\u001b[38;5;241m.\u001b[39midentifier()\n",
      "File \u001b[0;32m~/opt/anaconda3/envs/snowpark-de-ml/lib/python3.11/site-packages/snowflake/ml/_internal/telemetry.py:380\u001b[0m, in \u001b[0;36msend_api_usage_telemetry.<locals>.decorator.<locals>.wrap\u001b[0;34m(*args, **kwargs)\u001b[0m\n\u001b[1;32m    378\u001b[0m         \u001b[38;5;28;01mraise\u001b[39;00m me\u001b[38;5;241m.\u001b[39moriginal_exception \u001b[38;5;28;01mfrom\u001b[39;00m \u001b[38;5;28;01mNone\u001b[39;00m\n\u001b[1;32m    379\u001b[0m     \u001b[38;5;28;01melse\u001b[39;00m:\n\u001b[0;32m--> 380\u001b[0m         \u001b[38;5;28;01mraise\u001b[39;00m me\u001b[38;5;241m.\u001b[39moriginal_exception \u001b[38;5;28;01mfrom\u001b[39;00m \u001b[38;5;21;01me\u001b[39;00m\n\u001b[1;32m    381\u001b[0m \u001b[38;5;28;01melse\u001b[39;00m:\n\u001b[1;32m    382\u001b[0m     \u001b[38;5;28;01mreturn\u001b[39;00m update_stmt_params_if_snowpark_df(res, statement_params)\n",
      "\u001b[0;31mSnowparkSQLException\u001b[0m: (1300) (1304): 390114 (08001): Authentication token has expired.  The user must authenticate again."
     ]
    }
   ],
   "source": [
    "#Run the inference on your mock data\n"
   ]
  },
  {
   "cell_type": "markdown",
   "id": "bebfc3d1-59d5-43da-8632-80d5e5b5196b",
   "metadata": {},
   "source": [
    "## Part 3: Quickly build a data app with Streamlit"
   ]
  },
  {
   "cell_type": "code",
   "execution_count": 131,
   "id": "e3142a53-303f-423c-b6b6-a19ec0c36e93",
   "metadata": {},
   "outputs": [],
   "source": [
    "# You will need this hanndy charting function, but otherwise we will build the dashboard live!\n",
    "\n",
    "def chart(chart_data):\n",
    "  base = alt.Chart(chart_data).encode(alt.X(\"MONTH\", sort=list(calendar.month_name), title=None))\n",
    "  bars = base.mark_bar().encode(y=alt.Y(\"BUDGET\", title=\"Budget\", scale=alt.Scale(domain=[0, 300])), color=alt.Color(\"CHANNEL\", legend=alt.Legend(orient=\"top\", title=\" \")), opacity=alt.condition(alt.datum.MONTH==\"July\", alt.value(1), alt.value(0.3)))\n",
    "  lines = base.mark_line(size=3).encode(y=alt.Y(\"ROI\", title=\"Revenue\", scale=alt.Scale(domain=[0, 25])), color=alt.value(\"#808495\"))\n",
    "  points = base.mark_point(strokeWidth=3).encode(y=alt.Y(\"ROI\"), stroke=alt.value(\"#808495\"), fill=alt.value(\"white\"), size=alt.condition(alt.datum.MONTH==\"July\", alt.value(300), alt.value(70)))\n",
    "  chart = alt.layer(bars, lines + points).resolve_scale(y=\"independent\").configure_view(strokeWidth=0).configure_axisY(domain=False).configure_axis(labelColor=\"#808495\", tickColor=\"#e6eaf1\", gridColor=\"#e6eaf1\", domainColor=\"#e6eaf1\", titleFontWeight=600, titlePadding=10, labelPadding=5, labelFontSize=14).configure_range(category=[\"#FFE08E\", \"#03C0F2\", \"#FFAAAB\", \"#995EFF\"])\n",
    "  st.altair_chart(chart, use_container_width=True)"
   ]
  },
  {
   "cell_type": "code",
   "execution_count": null,
   "id": "5797416c-f3ac-418f-8522-c1b6d31e180d",
   "metadata": {},
   "outputs": [],
   "source": [
    "import calendar \n",
    "import altair as alt\n",
    "import streamlit as st\n",
    "import pandas as pd\n",
    "from snowflake.snowpark.functions import col\n",
    "from snowflake.ml.registry import Registry\n",
    "from snowflake.snowpark.context import get_active_session\n",
    "\n",
    "\n",
    "#Create a header\n",
    "st.header(\"SkiGear Co Ad Spend Optimizer\")\n",
    "forcast_month = 'July'\n",
    "#Get your session\n",
    "session = get_active_session()\n",
    "\n",
    "#Get an unpivoted view of your Budget without the Forcast month\n",
    "campaign_spend_data = session.table('campaign_spend')\n",
    "\n",
    "channels_upper = [c.replace('_','').upper() for  c in \\\n",
    "    list(campaign_spend_data.select('channel').distinct().to_pandas().CHANNEL)\n",
    "                 ]\n",
    "\n",
    "\n",
    "\n",
    "data = session.table('SNOWPARK_DB.HOL_SCHEMA.BUDGET_ALLOCATIONS_AND_ROI').\\\n",
    "                unpivot(\"Budget\", \"Channel\",\n",
    "                       channels_upper).filter(col(\"MONTH\") != forcast_month)\n",
    "\n",
    "\n",
    "\n",
    "last_allocation = data.filter(col(\"MONTH\") == \"June\").to_pandas()\n",
    "previous_rois = data.drop([\"CHANNEL\", \"BUDGET\"]).distinct().to_pandas()\n",
    "\n",
    "\n",
    "#st.dataframe(data)\n",
    "st.subheader(\"Expected Advertising budgets\")\n",
    "\n",
    "#Create a set of slides in columns\n",
    "col1, _, col2 = st.columns([4, 1, 4])\n",
    "budgets = []\n",
    "for alloc, col in zip(last_allocation.itertuples(), [col1, col1, col2, col2]):\n",
    "  budgets.append(col.slider(alloc.CHANNEL, 0, 100, alloc.BUDGET, 5))\n",
    "\n",
    "budgets_df = pd.DataFrame(budgets).T\n",
    "\n",
    "#st.dataframe(budgets_df)\n",
    "\n",
    "#get latest version of my model\n",
    "ml_registry = Registry(session , database_name='SNOWPARK_DB', schema_name='HOL_SCHEMA')\n",
    "\n",
    "ROI_MODEL = ml_registry.get_model(model_name= \"PREDICT_ROI\").versions()[-1]\n",
    "\n",
    "def predict(budgets_from_widget):\n",
    "    budgets_for_inf = budgets_from_widget *1000\n",
    "    \n",
    "    pred = ROI_MODEL.run(budgets_for_inf,function_name='predict')\n",
    "    pred = pred[\"PREDICTED_REVENUE\"].values[0] / 100000\n",
    "    change = round(((pred / previous_rois[\"ROI\"].iloc[-1]) - 1) * 100, 1)\n",
    "    return pred, change\n",
    "\n",
    "\n",
    "#st.dataframe(predict(budgets_df))\n",
    "pred, change = predict(budgets_df)\n",
    "st.metric(\"\", f\"Predicted revenue ${pred:.2f} million\", f\"{change:.1f} % vs last month\")\n",
    "july = pd.DataFrame({\"MONTH\": [\"July\"]*4, \"CHANNEL\": channels_upper, \"BUDGET\": budgets, \"ROI\": [pred]*4})\n",
    "\n",
    "def chart(chart_data):\n",
    "  base = alt.Chart(chart_data).encode(alt.X(\"MONTH\", sort=list(calendar.month_name), title=None))\n",
    "  bars = base.mark_bar().encode(y=alt.Y(\"BUDGET\", title=\"Budget\", scale=alt.Scale(domain=[0, 300])), color=alt.Color(\"CHANNEL\", legend=alt.Legend(orient=\"top\", title=\" \")), opacity=alt.condition(alt.datum.MONTH==\"July\", alt.value(1), alt.value(0.3)))\n",
    "  lines = base.mark_line(size=3).encode(y=alt.Y(\"ROI\", title=\"Revenue\", scale=alt.Scale(domain=[0, 25])), color=alt.value(\"#808495\"))\n",
    "  points = base.mark_point(strokeWidth=3).encode(y=alt.Y(\"ROI\"), stroke=alt.value(\"#808495\"), fill=alt.value(\"white\"), size=alt.condition(alt.datum.MONTH==\"July\", alt.value(300), alt.value(70)))\n",
    "  chart = alt.layer(bars, lines + points).resolve_scale(y=\"independent\").configure_view(strokeWidth=0).configure_axisY(domain=False).configure_axis(labelColor=\"#808495\", tickColor=\"#e6eaf1\", gridColor=\"#e6eaf1\", domainColor=\"#e6eaf1\", titleFontWeight=600, titlePadding=10, labelPadding=5, labelFontSize=14).configure_range(category=[\"#FFE08E\", \"#03C0F2\", \"#FFAAAB\", \"#995EFF\"])\n",
    "  st.altair_chart(chart, use_container_width=True)\n",
    "\n",
    "#st.dataframe(july)\n",
    "\n",
    "chart(pd.concat([data.to_pandas(), july]).reset_index(drop=True))\n",
    "\n",
    "if st.button(\"❄️ Save to Snowflake\"):\n",
    "  with st.spinner(\"Making snowflakes...\"):\n",
    "    df = pd.DataFrame({\"MONTH\": [\"July\"], \"SEARCHENGINE\": [budgets[0]], \"SOCIALMEDIA\": [budgets[1]], \"VIDEO\": [budgets[2]], \"EMAIL\": [budgets[3]], \"ROI\": [pred]})\n",
    "    session.write_pandas(df, \"BUDGET_ALLOCATIONS_AND_ROI\")  \n",
    "    st.success(\"✅ Successfully wrote budgets & prediction to your Snowflake account!\")\n",
    "    st.snow()\n",
    "    "
   ]
  },
  {
   "cell_type": "code",
   "execution_count": null,
   "id": "e7bc0545-c037-44f5-9948-49ceef8fc854",
   "metadata": {},
   "outputs": [],
   "source": []
  }
 ],
 "metadata": {
  "kernelspec": {
   "display_name": "Python 3 (ipykernel)",
   "language": "python",
   "name": "python3"
  },
  "language_info": {
   "codemirror_mode": {
    "name": "ipython",
    "version": 3
   },
   "file_extension": ".py",
   "mimetype": "text/x-python",
   "name": "python",
   "nbconvert_exporter": "python",
   "pygments_lexer": "ipython3",
   "version": "3.11.8"
  }
 },
 "nbformat": 4,
 "nbformat_minor": 5
}
